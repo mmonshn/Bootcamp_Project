{
  "cells": [
    {
      "cell_type": "code",
      "execution_count": 1,
      "metadata": {
        "colab": {
          "base_uri": "https://localhost:8080/"
        },
        "id": "rggHalzjJV42",
        "outputId": "c71a4b24-255a-498d-90fe-719af1630934"
      },
      "outputs": [
        {
          "name": "stdout",
          "output_type": "stream",
          "text": [
            "Requirement already satisfied: tabula-py in c:\\users\\msii\\appdata\\local\\programs\\python\\python310\\lib\\site-packages (2.7.0)\n",
            "Requirement already satisfied: pandas>=0.25.3 in c:\\users\\msii\\appdata\\local\\programs\\python\\python310\\lib\\site-packages (from tabula-py) (2.0.2)\n",
            "Requirement already satisfied: numpy in c:\\users\\msii\\appdata\\local\\programs\\python\\python310\\lib\\site-packages (from tabula-py) (1.24.2)\n",
            "Requirement already satisfied: distro in c:\\users\\msii\\appdata\\local\\programs\\python\\python310\\lib\\site-packages (from tabula-py) (1.8.0)\n",
            "Requirement already satisfied: python-dateutil>=2.8.2 in c:\\users\\msii\\appdata\\roaming\\python\\python310\\site-packages (from pandas>=0.25.3->tabula-py) (2.8.2)\n",
            "Requirement already satisfied: pytz>=2020.1 in c:\\users\\msii\\appdata\\local\\programs\\python\\python310\\lib\\site-packages (from pandas>=0.25.3->tabula-py) (2023.3)\n",
            "Requirement already satisfied: tzdata>=2022.1 in c:\\users\\msii\\appdata\\local\\programs\\python\\python310\\lib\\site-packages (from pandas>=0.25.3->tabula-py) (2023.3)\n",
            "Requirement already satisfied: six>=1.5 in c:\\users\\msii\\appdata\\roaming\\python\\python310\\site-packages (from python-dateutil>=2.8.2->pandas>=0.25.3->tabula-py) (1.16.0)\n"
          ]
        },
        {
          "name": "stderr",
          "output_type": "stream",
          "text": [
            "\n",
            "[notice] A new release of pip is available: 23.3.2 -> 24.0\n",
            "[notice] To update, run: python.exe -m pip install --upgrade pip\n"
          ]
        },
        {
          "name": "stdout",
          "output_type": "stream",
          "text": [
            "Requirement already satisfied: pandas in c:\\users\\msii\\appdata\\local\\programs\\python\\python310\\lib\\site-packages (2.0.2)\n",
            "Requirement already satisfied: python-dateutil>=2.8.2 in c:\\users\\msii\\appdata\\roaming\\python\\python310\\site-packages (from pandas) (2.8.2)\n",
            "Requirement already satisfied: pytz>=2020.1 in c:\\users\\msii\\appdata\\local\\programs\\python\\python310\\lib\\site-packages (from pandas) (2023.3)\n",
            "Requirement already satisfied: tzdata>=2022.1 in c:\\users\\msii\\appdata\\local\\programs\\python\\python310\\lib\\site-packages (from pandas) (2023.3)\n",
            "Requirement already satisfied: numpy>=1.21.0 in c:\\users\\msii\\appdata\\local\\programs\\python\\python310\\lib\\site-packages (from pandas) (1.24.2)\n",
            "Requirement already satisfied: six>=1.5 in c:\\users\\msii\\appdata\\roaming\\python\\python310\\site-packages (from python-dateutil>=2.8.2->pandas) (1.16.0)\n"
          ]
        },
        {
          "name": "stderr",
          "output_type": "stream",
          "text": [
            "\n",
            "[notice] A new release of pip is available: 23.3.2 -> 24.0\n",
            "[notice] To update, run: python.exe -m pip install --upgrade pip\n"
          ]
        },
        {
          "name": "stdout",
          "output_type": "stream",
          "text": [
            "Requirement already satisfied: PyPDF2 in c:\\users\\msii\\appdata\\local\\programs\\python\\python310\\lib\\site-packages (3.0.1)\n"
          ]
        },
        {
          "name": "stderr",
          "output_type": "stream",
          "text": [
            "\n",
            "[notice] A new release of pip is available: 23.3.2 -> 24.0\n",
            "[notice] To update, run: python.exe -m pip install --upgrade pip\n"
          ]
        },
        {
          "name": "stdout",
          "output_type": "stream",
          "text": [
            "Requirement already satisfied: openpyxl in c:\\users\\msii\\appdata\\local\\programs\\python\\python310\\lib\\site-packages (3.1.2)\n",
            "Requirement already satisfied: et-xmlfile in c:\\users\\msii\\appdata\\local\\programs\\python\\python310\\lib\\site-packages (from openpyxl) (1.1.0)\n"
          ]
        },
        {
          "name": "stderr",
          "output_type": "stream",
          "text": [
            "\n",
            "[notice] A new release of pip is available: 23.3.2 -> 24.0\n",
            "[notice] To update, run: python.exe -m pip install --upgrade pip\n"
          ]
        }
      ],
      "source": [
        "!pip install tabula-py\n",
        "!pip install pandas\n",
        "!pip install PyPDF2\n",
        "!pip install openpyxl"
      ]
    },
    {
      "cell_type": "code",
      "execution_count": 2,
      "metadata": {
        "id": "VGQvtph55DwM"
      },
      "outputs": [],
      "source": [
        "import os\n",
        "import re\n",
        "import shutil\n",
        "import tabula\n",
        "import PyPDF2\n",
        "import openpyxl\n",
        "import pandas as pd\n",
        "from datetime import datetime"
      ]
    },
    {
      "cell_type": "code",
      "execution_count": 3,
      "metadata": {
        "id": "RNtDS9jtidmc"
      },
      "outputs": [],
      "source": [
        "# Read the PDF file and store the data in a list.\n",
        "def read_pdf_all(file_path):\n",
        "    file_data = tabula.read_pdf(file_path, pages='all')\n",
        "    data_list = pd.concat(file_data)\n",
        "    return data_list"
      ]
    },
    {
      "cell_type": "code",
      "execution_count": 4,
      "metadata": {
        "id": "LQnnPXkTi0u0"
      },
      "outputs": [],
      "source": [
        "# Preprocess the data by selecting columns, dropping rows with all NaN values.\n",
        "def preprocess_data(data_list):\n",
        "    edit_cols = data_list.iloc[:, [1, 5, 6]]\n",
        "    edit_cols.rename(columns={edit_cols.columns[0]: 'รหัส', edit_cols.columns[1]: 'เข้า', edit_cols.columns[2]: 'ออก'}, inplace=True)\n",
        "    edit_cols = edit_cols.dropna(subset=['รหัส', 'เข้า', 'ออก'], how='all')\n",
        "    edit_cols['รหัส'] = edit_cols['รหัส'].astype(str).str.split('.').str[0]\n",
        "    edit_cols['เข้า'] = pd.to_datetime(edit_cols['เข้า'], format='%H:%M', errors='coerce').dt.time\n",
        "    edit_cols['ออก'] = pd.to_datetime(edit_cols['ออก'], format='%H:%M', errors='coerce').dt.time\n",
        "    return edit_cols"
      ]
    },
    {
      "cell_type": "code",
      "execution_count": 5,
      "metadata": {
        "id": "HpdEtsVfjkh1"
      },
      "outputs": [],
      "source": [
        "# Extract the date from the file name.\n",
        "def extract_date(file_path):\n",
        "    with open(file_path, \"rb\") as file:\n",
        "        pdf_reader = PyPDF2.PdfReader(file)\n",
        "        num_pages = len(pdf_reader.pages)\n",
        "\n",
        "        extracted_text = []\n",
        "        for page_number in range(num_pages):\n",
        "            page = pdf_reader.pages[page_number]\n",
        "            extracted_text.append(page.extract_text())\n",
        "\n",
        "    # Initialize a variable to store the matched date\n",
        "    matched_date = None\n",
        "\n",
        "    for line in extracted_text:\n",
        "        matchs = re.search(r\"ประจำวันที่ (\\d{2}/\\d{2}/\\d{4})\", line)\n",
        "        if matchs:\n",
        "            matched_date = matchs.group(1)\n",
        "            break  # Exit the loop if a match is foun\n",
        "    return matched_date"
      ]
    },
    {
      "cell_type": "code",
      "execution_count": 6,
      "metadata": {
        "id": "kQHWIGGXjyEs"
      },
      "outputs": [],
      "source": [
        "# Save the data as an Excel file.\n",
        "def save_as_excel(data, file_name, success_path):\n",
        "    file_name = os.path.splitext(file_name)[0]\n",
        "    result_file_name = f\"{file_name}.xlsx\"\n",
        "    success_file = os.path.join(success_path, result_file_name)\n",
        "    data.to_excel(success_file, index=False)\n",
        "    print(f\"Processed: {file_name} -> {success_file}\")"
      ]
    },
    {
      "cell_type": "code",
      "execution_count": 7,
      "metadata": {
        "id": "bBYz3L4Nj2vi"
      },
      "outputs": [],
      "source": [
        "# Move the failed file to the fail_path.\n",
        "def move_failed_file(file_path, fail_path):\n",
        "    fail_file = os.path.join(fail_path, os.path.basename(file_path))\n",
        "    shutil.move(file_path, fail_file)\n",
        "    print(f\"Failed to process: {file_path} -> {fail_file}\")"
      ]
    },
    {
      "cell_type": "code",
      "execution_count": 8,
      "metadata": {
        "id": "IBY_2XgVj6fM"
      },
      "outputs": [],
      "source": [
        "def convert_pdf_to_excel(file_name, file_path, success_path, fail_path):\n",
        "    try:\n",
        "        data_list = read_pdf_all(file_path)\n",
        "        processed_data = preprocess_data(data_list)\n",
        "        matched_date = extract_date(file_path)\n",
        "        processed_data['วันที่'] = matched_date\n",
        "        save_as_excel(processed_data, file_name, success_path)\n",
        "        os.remove(file_path)\n",
        "    except Exception as e:\n",
        "        move_failed_file(file_path, fail_path)\n",
        "        print(f\"Error: {str(e)}\")"
      ]
    },
    {
      "cell_type": "code",
      "execution_count": 9,
      "metadata": {
        "id": "rJcrmPgCFUu1"
      },
      "outputs": [],
      "source": [
        "def process_data(data_path):\n",
        "    for root, dirs, files in os.walk(data_path):\n",
        "        if root != data_path:\n",
        "            success_path = os.path.join(root, \"success\")\n",
        "            fail_path = os.path.join(root, \"fail\")\n",
        "            os.makedirs(success_path, exist_ok=True)\n",
        "            os.makedirs(fail_path, exist_ok=True)\n",
        "            for file_name in files:\n",
        "                if file_name.endswith(\".pdf\"):\n",
        "                    file_path = os.path.join(root, file_name)\n",
        "                    convert_pdf_to_excel(file_name, file_path, success_path, fail_path)"
      ]
    },
    {
      "cell_type": "code",
      "execution_count": null,
      "metadata": {
        "colab": {
          "base_uri": "https://localhost:8080/"
        },
        "id": "Sn8j27Elkd5d",
        "outputId": "555ff082-cdbb-43d7-e452-6fa54303202d"
      },
      "outputs": [],
      "source": [
        "# Specify the folder path containing the PDF files\n",
        "data_path =\"D:/KMUTT/Intern_Sky/pdf_to_excel/data/\"\n",
        "\n",
        "# Process the data\n",
        "process_data(data_path)"
      ]
    }
  ],
  "metadata": {
    "colab": {
      "provenance": []
    },
    "kernelspec": {
      "display_name": "Python 3",
      "name": "python3"
    },
    "language_info": {
      "codemirror_mode": {
        "name": "ipython",
        "version": 3
      },
      "file_extension": ".py",
      "mimetype": "text/x-python",
      "name": "python",
      "nbconvert_exporter": "python",
      "pygments_lexer": "ipython3",
      "version": "3.10.8"
    }
  },
  "nbformat": 4,
  "nbformat_minor": 0
}
