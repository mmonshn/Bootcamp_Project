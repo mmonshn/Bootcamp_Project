{
 "cells": [
  {
   "cell_type": "code",
   "execution_count": 1,
   "metadata": {},
   "outputs": [
    {
     "name": "stdout",
     "output_type": "stream",
     "text": [
      "Requirement already satisfied: selenium in c:\\users\\msii\\appdata\\local\\programs\\python\\python310\\lib\\site-packages (4.5.0)\n",
      "Requirement already satisfied: urllib3[socks]~=1.26 in c:\\users\\msii\\appdata\\local\\programs\\python\\python310\\lib\\site-packages (from selenium) (1.26.12)\n",
      "Requirement already satisfied: trio~=0.17 in c:\\users\\msii\\appdata\\local\\programs\\python\\python310\\lib\\site-packages (from selenium) (0.22.0)\n",
      "Requirement already satisfied: trio-websocket~=0.9 in c:\\users\\msii\\appdata\\local\\programs\\python\\python310\\lib\\site-packages (from selenium) (0.9.2)\n",
      "Requirement already satisfied: certifi>=2021.10.8 in c:\\users\\msii\\appdata\\local\\programs\\python\\python310\\lib\\site-packages (from selenium) (2022.9.24)\n",
      "Requirement already satisfied: attrs>=19.2.0 in c:\\users\\msii\\appdata\\local\\programs\\python\\python310\\lib\\site-packages (from trio~=0.17->selenium) (22.1.0)\n",
      "Requirement already satisfied: sortedcontainers in c:\\users\\msii\\appdata\\local\\programs\\python\\python310\\lib\\site-packages (from trio~=0.17->selenium) (2.4.0)\n",
      "Requirement already satisfied: async-generator>=1.9 in c:\\users\\msii\\appdata\\local\\programs\\python\\python310\\lib\\site-packages (from trio~=0.17->selenium) (1.10)\n",
      "Requirement already satisfied: idna in c:\\users\\msii\\appdata\\local\\programs\\python\\python310\\lib\\site-packages (from trio~=0.17->selenium) (3.4)\n",
      "Requirement already satisfied: outcome in c:\\users\\msii\\appdata\\local\\programs\\python\\python310\\lib\\site-packages (from trio~=0.17->selenium) (1.2.0)\n",
      "Requirement already satisfied: sniffio in c:\\users\\msii\\appdata\\local\\programs\\python\\python310\\lib\\site-packages (from trio~=0.17->selenium) (1.3.0)\n",
      "Requirement already satisfied: cffi>=1.14 in c:\\users\\msii\\appdata\\local\\programs\\python\\python310\\lib\\site-packages (from trio~=0.17->selenium) (1.15.1)\n",
      "Requirement already satisfied: exceptiongroup>=1.0.0rc9 in c:\\users\\msii\\appdata\\local\\programs\\python\\python310\\lib\\site-packages (from trio~=0.17->selenium) (1.0.0rc9)\n",
      "Requirement already satisfied: wsproto>=0.14 in c:\\users\\msii\\appdata\\local\\programs\\python\\python310\\lib\\site-packages (from trio-websocket~=0.9->selenium) (1.2.0)\n",
      "Requirement already satisfied: PySocks!=1.5.7,<2.0,>=1.5.6 in c:\\users\\msii\\appdata\\local\\programs\\python\\python310\\lib\\site-packages (from urllib3[socks]~=1.26->selenium) (1.7.1)\n",
      "Requirement already satisfied: pycparser in c:\\users\\msii\\appdata\\local\\programs\\python\\python310\\lib\\site-packages (from cffi>=1.14->trio~=0.17->selenium) (2.21)\n",
      "Requirement already satisfied: h11<1,>=0.9.0 in c:\\users\\msii\\appdata\\local\\programs\\python\\python310\\lib\\site-packages (from wsproto>=0.14->trio-websocket~=0.9->selenium) (0.14.0)\n",
      "Note: you may need to restart the kernel to use updated packages.\n"
     ]
    },
    {
     "name": "stderr",
     "output_type": "stream",
     "text": [
      "\n",
      "[notice] A new release of pip is available: 23.2.1 -> 23.3.1\n",
      "[notice] To update, run: python.exe -m pip install --upgrade pip\n"
     ]
    }
   ],
   "source": [
    "pip install selenium"
   ]
  },
  {
   "cell_type": "code",
   "execution_count": 2,
   "metadata": {},
   "outputs": [],
   "source": [
    "from selenium import webdriver\n",
    "from selenium.webdriver.common.by import By\n",
    "from selenium.common.exceptions import NoSuchElementException\n",
    "from selenium.webdriver.common.action_chains import ActionChains"
   ]
  },
  {
   "cell_type": "code",
   "execution_count": 5,
   "metadata": {},
   "outputs": [],
   "source": [
    "import pandas as pd\n",
    "import json\n",
    "import time\n",
    "import os\n",
    "import re"
   ]
  },
  {
   "cell_type": "code",
   "execution_count": 6,
   "metadata": {},
   "outputs": [],
   "source": [
    "path = 'C:/Users/MSII/Downloads/selenium/'\n",
    "os.chdir(path)"
   ]
  },
  {
   "cell_type": "markdown",
   "metadata": {},
   "source": [
    "### 1 Link"
   ]
  },
  {
   "cell_type": "code",
   "execution_count": 4,
   "metadata": {},
   "outputs": [],
   "source": [
    "#Link web\n",
    "url = \"https://thai.tourismthailand.org/Attraction/%E0%B8%AA%E0%B8%A7%E0%B8%99%E0%B8%AA%E0%B8%B1%E0%B8%95%E0%B8%A7%E0%B9%8C%E0%B9%80%E0%B8%8A%E0%B8%B5%E0%B8%A2%E0%B8%87%E0%B9%83%E0%B8%AB%E0%B8%A1%E0%B9%88\""
   ]
  },
  {
   "cell_type": "code",
   "execution_count": 7,
   "metadata": {},
   "outputs": [
    {
     "name": "stderr",
     "output_type": "stream",
     "text": [
      "C:\\Users\\MSII\\AppData\\Local\\Temp\\ipykernel_16252\\243628157.py:2: DeprecationWarning: executable_path has been deprecated, please pass in a Service object\n",
      "  driver = webdriver.Chrome(path+\"chromedriver.exe\")\n"
     ]
    },
    {
     "name": "stdout",
     "output_type": "stream",
     "text": [
      "<html lang=\"th\"><head><meta charset=\"utf-8\"><meta name=\"viewport\" content=\"width=device-width\"><title>ศูนย์ธรรมชาติวิทยาดอยสุเทพเฉลิมพระเกียรติ</title><meta name=\"description\" content=\"เป็นศูนย์สำหรับนักท่องเที่ยว นักศึกษา และนักเรียนได้ศึกษาเรียนรู้เกี่ยวกับด้านธรรมชาติวิทาของดอยสุเทพ รวมทั้งในด้านประวัติศาสตร์ ศิลปวัฒนธรรม ก่อนที่จะเดินทางไปท่องเที่ยวบนดอยสุเทพ ซึ่งเป็นสถานที่สำคัญทางศาสนาและทางการท่องเที่ยวของจังหวัดเชียงใหม่ \"><meta property=\"og:type\" content=\"website\"><meta property=\"og:title\" content=\"ศูนย์ธรรมชาติวิทยาดอยสุเทพเฉลิมพระเกียรติ\"><meta property=\"og:description\" content=\"เป็นศูนย์สำหรับนักท่องเที่ยว นักศึกษา และนักเรียนได้ศึกษาเรียนรู้เกี่ยวกับด้านธรรมชาติวิทาของดอยสุเทพ รวมทั้งในด้านประวัติศาสตร์ ศิลปวัฒนธรรม ก่อนที่จะเดินทางไปท่องเที่ยวบนดอยสุเทพ ซึ่งเป็นสถานที่สำคัญทางศาสนาและทางการท่องเที่ยวของจังหวัดเชียงใหม่ \"><meta property=\"og:url\" content=\"https://thailandtourismdirectory.go.th/th/attraction/98040\"><meta property=\"og:image\" content=\"https://files.thailandtourismdirectory.go.th/assets/upload/2019/06/06/20190606eccbc87e4b5ce2fe28308fd9f2a7baf3145756.jpg\"><meta property=\"og:image:alt\" content=\"ศูนย์ธรรมชาติวิทยาดอยสุเทพเฉลิมพระเกียรติ\"><meta name=\"next-head-count\" content=\"10\"><link rel=\"stylesheet\" href=\"https://maxcdn.bootstrapcdn.com/bootstrap/4.0.0/css/bootstrap.min.css\" integrity=\"sha384-Gn5384xqQ1aoWXA+058RXPxPg6fy4IWvTNh0E263XmFcJlSAwiGgFAW/dAiS6JXm\" crossorigin=\"anonymous\"><link rel=\"stylesheet\" href=\"/assets/css/bootstrap.min.css\"><link rel=\"stylesheet\" href=\"/assets/css/animate.css\"><link rel=\"stylesheet\" href=\"/assets/css/magnific-popup.css\"><link rel=\"stylesheet\" href=\"/assets/css/owl.carousel.min.css\"><link rel=\"stylesheet\" href=\"/assets/css/slick.css\"><link rel=\"stylesheet\" href=\"/assets/css/swiper.min.css\"><link rel=\"stylesheet\" href=\"/assets/css/nice-select.css\"><link rel=\"stylesheet\" href=\"/assets/css/jquery-ui.min.css\"><link rel=\"stylesheet\" href=\"/assets/css/font-awesome.min.css\"><link rel=\"stylesheet\" href=\"/assets/css/themify-icons.css\"><link rel=\"stylesheet\" href=\"/assets/css/line-awesome.min.css\"><link rel=\"stylesheet\" href=\"/assets/css/style.css\"><link rel=\"stylesheet\" href=\"/assets/css/custom-style.css\"><link rel=\"stylesheet\" href=\"/assets/css/responsive.css\"><script type=\"text/javascript\" src=\"/assets/js/jquery-2.2.4.min.js\" defer=\"\"></script><script type=\"text/javascript\" src=\"/assets/js/popper.min.js\" defer=\"\"></script><script type=\"text/javascript\" src=\"/assets/js/bootstrap.min.js\" defer=\"\"></script><script type=\"text/javascript\" src=\"/assets/js/jquery.magnific-popup.js\" defer=\"\"></script><script type=\"text/javascript\" src=\"/assets/js/owl.carousel.min.js\" defer=\"\"></script><script type=\"text/javascript\" src=\"/assets/js/wow.min.js\" defer=\"\"></script><script type=\"text/javascript\" src=\"/assets/js/slick.js\" defer=\"\"></script><script type=\"text/javascript\" src=\"/assets/js/waypoints.min.js\" defer=\"\"></script><script type=\"text/javascript\" src=\"/assets/js/jquery.counterup.min.js\" defer=\"\"></script><script type=\"text/javascript\" src=\"/assets/js/imagesloaded.pkgd.min.js\" defer=\"\"></script><script type=\"text/javascript\" src=\"/assets/js/isotope.pkgd.min.js\" defer=\"\"></script><script type=\"text/javascript\" src=\"/assets/js/swiper.min.js\" defer=\"\"></script><script type=\"text/javascript\" src=\"/assets/js/jquery.nice-select.min.js\" defer=\"\"></script><script type=\"text/javascript\" src=\"/assets/js/jquery-ui.min.js\" defer=\"\"></script><script type=\"text/javascript\" src=\"/assets/js/video-player.min.js\" defer=\"\"></script><link rel=\"preload\" href=\"/_next/static/css/9292391393c29f77.css\" as=\"style\"><link rel=\"stylesheet\" href=\"/_next/static/css/9292391393c29f77.css\" data-n-p=\"\"><noscript data-n-css=\"\"></noscript><script defer=\"\" nomodule=\"\" src=\"/_next/static/chunks/polyfills-c67a75d1b6f99dc8.js\"></script><script src=\"/_next/static/chunks/webpack-8c22dafb2ce01282.js\" defer=\"\"></script><script src=\"/_next/static/chunks/framework-230a583b6119a0d9.js\" defer=\"\"></script><script src=\"/_next/static/chunks/main-02a9f36881c8f995.js\" defer=\"\"></script><script src=\"/_next/static/chunks/pages/_app-02f1cf06731113b1.js\" defer=\"\"></script><script src=\"/_next/static/chunks/29107295-a1925123cebc8607.js\" defer=\"\"></script><script src=\"/_next/static/chunks/8710b798-6cdb1e5b64c8893f.js\" defer=\"\"></script><script src=\"/_next/static/chunks/ea88be26-a16abaac0f5a6f36.js\" defer=\"\"></script><script src=\"/_next/static/chunks/75fc9c18-d53a6f1afc0eb505.js\" defer=\"\"></script><script src=\"/_next/static/chunks/5746-0f965f119bca33f2.js\" defer=\"\"></script><script src=\"/_next/static/chunks/9260-9aa34723013bfe96.js\" defer=\"\"></script><script src=\"/_next/static/chunks/9473-0794039ee5579943.js\" defer=\"\"></script><script src=\"/_next/static/chunks/9996-c1c081a03f4fc858.js\" defer=\"\"></script><script src=\"/_next/static/chunks/1929-319b0bf8e47d746d.js\" defer=\"\"></script><script src=\"/_next/static/chunks/2685-bb64ef629137276e.js\" defer=\"\"></script><script src=\"/_next/static/chunks/6741-a3088f53671e38db.js\" defer=\"\"></script><script src=\"/_next/static/chunks/pages/attraction/%5Bid%5D-4e9c421bddc30480.js\" defer=\"\"></script><script src=\"/_next/static/2L-6W5CCI-51lOOaO_0w5/_buildManifest.js\" defer=\"\"></script><script src=\"/_next/static/2L-6W5CCI-51lOOaO_0w5/_ssgManifest.js\" defer=\"\"></script><link as=\"script\" rel=\"prefetch\" href=\"/_next/static/chunks/3749-7ccf1d4eb189f4cd.js\"><link as=\"script\" rel=\"prefetch\" href=\"/_next/static/chunks/pages/index-b16e4998de8760c0.js\"><meta http-equiv=\"origin-trial\" content=\"AymqwRC7u88Y4JPvfIF2F37QKylC04248hLCdJAsh8xgOfe/dVJPV3XS3wLFca1ZMVOtnBfVjaCMTVudWM//5g4AAAB7eyJvcmlnaW4iOiJodHRwczovL3d3dy5nb29nbGV0YWdtYW5hZ2VyLmNvbTo0NDMiLCJmZWF0dXJlIjoiUHJpdmFjeVNhbmRib3hBZHNBUElzIiwiZXhwaXJ5IjoxNjk1MTY3OTk5LCJpc1RoaXJkUGFydHkiOnRydWV9\"></head><body style=\"overflow:hidden\"><div class=\"search-popup\" id=\"search-popup\"><form action=\"index.html\" class=\"search-form\"><div class=\"form-group\"><input type=\"text\" class=\"form-control\" placeholder=\"Search.....\"></div><button type=\"submit\" class=\"submit-btn\"><i class=\"fa fa-search\"></i></button></form></div><div id=\"viaje\"></div><div class=\"back-to-top\"><span class=\"back-top\"><i class=\"fa fa-angle-up\"></i></span></div><div id=\"__next\"><div><div class=\"container\"></div><div><div class=\"menu-back-page animated fadeIn\"><span class=\"back-top\"><a hreflang=\"th\" href=\"/th/attractions\" class=\"normal-text-18-detail\"><i class=\"fa fa-angle-left\" style=\"font-size: 22px;\"><span class=\"large-text-20\" style=\"padding: 0px 0px 0px 10px;\">ย้อนกลับ</span></i></a></span></div><nav class=\"navbar navbar-area navbar-expand-lg nav-style-01 viaje-go-top\"><div class=\"container nav-container\"><div class=\"responsive-mobile-menu\"><div style=\"display: flex; justify-content: space-between;\"><div class=\"mobile-logo\"><a href=\"/\"><img src=\"/assets/img/sticky-logo.png\" alt=\"logo\"></a></div><button class=\"navbar-toggler float-right\" type=\"button\" data-toggle=\"collapse\" data-target=\"#tp_main_menu\" aria-expanded=\"false\" aria-label=\"Toggle navigation\"><span class=\"navbar-toggle-icon\"><span class=\"line\"></span><span class=\"line\"></span><span class=\"line\"></span></span></button></div><div class=\"nav-right-content\"><ul class=\"pl-0\" style=\"margin-top: 7px;\"><img src=\"./assets/img/TTS2.png\" alt=\"TTS\" style=\"width: 35px; height: 35px; margin-right: 15px; cursor: pointer;\"><div style=\"display: inline-flex;\"><div class=\"d-inline-block width-dropdown-lang style-dropdown-moblie dropdown\" style=\"padding-top: 4px;\"><ul aria-haspopup=\"true\" class=\"bt-change-color\" aria-expanded=\"false\"><img src=\"/assets/img/flags/tha.jpg\" height=\"16\" class=\"mr-1\" alt=\"\"><li class=\"align-middle\">THAI</li></ul><div tabindex=\"-1\" role=\"menu\" aria-hidden=\"true\" class=\"language-switch dropdown-menu\" style=\"margin: 0px;\"><button type=\"button\" tabindex=\"0\" role=\"menuitem\" class=\"notify-item none dropdown-item\"><a hreflang=\"en\" href=\"/en/attraction/98040\"><img src=\"/assets/img/flags/us.jpg\" class=\"mr-1\" height=\"12\" alt=\"\"><span class=\"align-middle\">English</span></a></button><button type=\"button\" tabindex=\"0\" role=\"menuitem\" class=\"notify-item active dropdown-item\"><a hreflang=\"th\" href=\"/th/attraction/98040\"><img src=\"/assets/img/flags/tha.jpg\" class=\"mr-1\" height=\"12\" alt=\"\"><span class=\"align-middle\">THAI</span></a></button><button type=\"button\" tabindex=\"0\" role=\"menuitem\" class=\"notify-item none dropdown-item\"><a hreflang=\"zh\" href=\"/zh/attraction/98040\"><img src=\"/assets/img/flags/ch.png\" class=\"mr-1\" height=\"12\" alt=\"\"><span class=\"align-middle\">简体中文</span></a></button></div></div></div><li class=\"style-navbar-bf\"><div class=\"signUp-btn\"><i class=\"fa fa-user-o\"></i></div></li></ul></div></div><div class=\"collapse navbar-collapse\" id=\"tp_main_menu\"><div class=\"logo-wrapper desktop-logo\"><a href=\"/th\" class=\"main-logo\"><img src=\"/assets/img/logo.png\" alt=\"logo\"></a><a href=\"/th\" class=\"sticky-logo\"><img src=\"/assets/img/sticky-logo.png\" alt=\"logo\"></a></div><ul class=\"navbar-nav\"><li class=\"menu-item-has-children\"><a href=\"/\">หน้าหลัก</a></li><li class=\"menu-item-has-children\"><a>แหล่งท่องเที่ยว</a><ul class=\"sub-menu\"><li><a href=\"/th/attraction\">แหล่งท่องเที่ยว</a></li><li><a href=\"/th/attraction/agriculture\">แหล่งท่องเที่ยวเชิงเกษตร</a></li><li><a href=\"/th/accommodations\">ที่พัก</a></li><li><a href=\"/th/spas\">สปา</a></li><li><a href=\"/th/restaurants\">ร้านอาหาร</a></li><li><a href=\"/th/stores\">ร้านค้าของฝาก</a></li></ul></li><li class=\"menu-item-has-children\"><a href=\"/th/activities\">กิจกรรมการท่องเที่ยว</a></li><li class=\"menu-item-has-children\"><a href=\"/th/routes\">เส้นทางท่องเที่ยว</a></li><li class=\"menu-item-has-children\"><a href=\"/th/community_routes\">เส้นทางท่องเที่ยวโดยชุมชน</a></li></ul></div><div class=\"nav-right-content\"><ul class=\"style-flex-login-bf\"><img src=\"./assets/img/TTS2.png\" alt=\"TTS\" style=\"width: 35px; height: 35px; margin-right: 15px; cursor: pointer;\"><div style=\"display: inline-flex;\"><div class=\"d-inline-block width-dropdown-lang style-dropdown-moblie dropdown\" style=\"padding-top: 4px;\"><ul aria-haspopup=\"true\" class=\"bt-change-color\" aria-expanded=\"false\"><img src=\"/assets/img/flags/tha.jpg\" height=\"16\" class=\"mr-1\" alt=\"\"><li class=\"align-middle\">THAI</li></ul><div tabindex=\"-1\" role=\"menu\" aria-hidden=\"true\" class=\"language-switch dropdown-menu\" style=\"margin: 0px;\"><button type=\"button\" tabindex=\"0\" role=\"menuitem\" class=\"notify-item none dropdown-item\"><a hreflang=\"en\" href=\"/en/attraction/98040\"><img src=\"/assets/img/flags/us.jpg\" class=\"mr-1\" height=\"12\" alt=\"\"><span class=\"align-middle\">English</span></a></button><button type=\"button\" tabindex=\"0\" role=\"menuitem\" class=\"notify-item active dropdown-item\"><a hreflang=\"th\" href=\"/th/attraction/98040\"><img src=\"/assets/img/flags/tha.jpg\" class=\"mr-1\" height=\"12\" alt=\"\"><span class=\"align-middle\">THAI</span></a></button><button type=\"button\" tabindex=\"0\" role=\"menuitem\" class=\"notify-item none dropdown-item\"><a hreflang=\"zh\" href=\"/zh/attraction/98040\"><img src=\"/assets/img/flags/ch.png\" class=\"mr-1\" height=\"12\" alt=\"\"><span class=\"align-middle\">简体中文</span></a></button></div></div></div><li class=\"style-navbar-bf mr-login\"><div class=\"icon-login-white\"><img src=\"/assets/img/icons/icon-login-white.svg\" alt=\"\" style=\"padding-right: 10px; height: 20px;\"><span>สมัครสมาชิก</span> <span>/ เข้าสู่ระบบ</span></div><div class=\"icon-login-black\"><img src=\"/assets/img/icons/icon-login-black.svg\" alt=\"\" style=\"padding-right: 10px; height: 20px;\"><span>สมัครสมาชิก</span> <span>/ เข้าสู่ระบบ</span></div></li></ul></div></div></nav><div class=\"breadcrumb-area jarallax \" style=\"background-image: url(&quot;/assets/img/bg/homebg1.jpg&quot;); background-position-y: 60%;\"><div class=\"container\"><div class=\"row\"><div class=\"col-lg-12\"><div class=\"breadcrumb-inner\"><h1 class=\"page-title\">ศูนย์ธรรมชาติวิทยาดอยสุเทพเฉลิมพระเกียรติ</h1><ul class=\"page-list\"></ul></div></div></div></div></div><div class=\"destinations-details-page mg-top--70s\"><div class=\"container\"><div class=\"row\"><div class=\"col-lg-4 col-xl-4 col-md-12 col-sm-12 col-12\"><div><div class=\"card card-color\" style=\"border-radius: 15px;\"><div class=\"card-body\"><div class=\"pd-bt-30\"><h5 class=\"mg-top-card open-text cl-gray\"><span data-nosnippet=\"true\">ปิดอยู่ในขณะนี้</span></h5></div><h6 class=\"card-subtitle topic-text pd-bt-15\">วันเวลาทำการ</h6><div><div class=\"row\" style=\"width: 100%;\"><div class=\"col-xl-4 col-lg-5 col-md-5 col-sm-5 col-5\"><div class=\"normal-text-day pd-bt-15\"><span class=\"card-title\">วันจันทร์</span></div></div><div class=\"col-xl-8 col-lg-7 col-md-7 col-sm-7 col-7\"><div class=\"row\" style=\"justify-content: flex-end;\"><div class=\"normal-text-day pd-bt-15\"><span class=\"card-title\">08:30 น. - </span></div><div class=\"normal-text-day\" style=\"padding-left: 5px;\"><span class=\"card-title\"> 16:30 น.</span></div></div></div></div><div class=\"row\" style=\"width: 100%;\"><div class=\"col-xl-4 col-lg-5 col-md-5 col-sm-5 col-5\"><div class=\"normal-text-day pd-bt-15\"><span class=\"card-title\">วันอังคาร</span></div></div><div class=\"col-xl-8 col-lg-7 col-md-7 col-sm-7 col-7\"><div class=\"row\" style=\"justify-content: flex-end;\"><div class=\"normal-text-day pd-bt-15\"><span class=\"card-title\">08:30 น. - </span></div><div class=\"normal-text-day\" style=\"padding-left: 5px;\"><span class=\"card-title\"> 16:30 น.</span></div></div></div></div><div class=\"row\" style=\"width: 100%;\"><div class=\"col-xl-4 col-lg-5 col-md-5 col-sm-5 col-5\"><div class=\"normal-text-day pd-bt-15\"><span class=\"card-title\">วันพุธ</span></div></div><div class=\"col-xl-8 col-lg-7 col-md-7 col-sm-7 col-7\"><div class=\"row\" style=\"justify-content: flex-end;\"><div class=\"normal-text-day pd-bt-15\"><span class=\"card-title\">08:30 น. - </span></div><div class=\"normal-text-day\" style=\"padding-left: 5px;\"><span class=\"card-title\"> 16:30 น.</span></div></div></div></div><div class=\"row\" style=\"width: 100%;\"><div class=\"col-xl-4 col-lg-5 col-md-5 col-sm-5 col-5\"><div class=\"normal-text-day pd-bt-15\"><span class=\"card-title\">วันพฤหัสบดี</span></div></div><div class=\"col-xl-8 col-lg-7 col-md-7 col-sm-7 col-7\"><div class=\"row\" style=\"justify-content: flex-end;\"><div class=\"normal-text-day pd-bt-15\"><span class=\"card-title\">08:30 น. - </span></div><div class=\"normal-text-day\" style=\"padding-left: 5px;\"><span class=\"card-title\"> 16:30 น.</span></div></div></div></div><div class=\"row\" style=\"width: 100%;\"><div class=\"col-xl-4 col-lg-5 col-md-5 col-sm-5 col-5\"><div class=\"normal-text-day pd-bt-15\"><span class=\"card-title\">วันศุกร์</span></div></div><div class=\"col-xl-8 col-lg-7 col-md-7 col-sm-7 col-7\"><div class=\"row\" style=\"justify-content: flex-end;\"><div class=\"normal-text-day pd-bt-15\"><span class=\"card-title\">08:30 น. - </span></div><div class=\"normal-text-day\" style=\"padding-left: 5px;\"><span class=\"card-title\"> 16:30 น.</span></div></div></div></div><div class=\"row\" style=\"width: 100%;\"><div class=\"col-xl-4 col-lg-5 col-md-5 col-sm-5 col-5\"><div class=\"normal-text-day pd-bt-15\"><span class=\"card-title\">วันเสาร์</span></div></div><div class=\"col-xl-8 col-lg-7 col-md-7 col-sm-7 col-7\"><div class=\"row\" style=\"justify-content: flex-end;\"><div class=\"normal-text-day pd-bt-15\"><span class=\"card-title\">08:30 น. - </span></div><div class=\"normal-text-day\" style=\"padding-left: 5px;\"><span class=\"card-title\"> 16:30 น.</span></div></div></div></div><div class=\"row\" style=\"width: 100%;\"><div class=\"col-xl-4 col-lg-5 col-md-5 col-sm-5 col-5\"><div class=\"normal-text-day pd-bt-15\"><span class=\"card-title\">วันอาทิตย์</span></div></div><div class=\"col-xl-8 col-lg-7 col-md-7 col-sm-7 col-7\"><div class=\"row\" style=\"justify-content: flex-end;\"><div class=\"normal-text-day pd-bt-15\"><span class=\"card-title\">08:30 น. - </span></div><div class=\"normal-text-day\" style=\"padding-left: 5px;\"><span class=\"card-title\"> 16:30 น.</span></div></div></div></div></div><div class=\"row\" style=\"margin: 0px;\"><p class=\"normal-text\">หมายเหตุเวลาทำการ: -</p></div><hr class=\"\"><div class=\"row pd\"><div class=\"col-xl-3 col-lg-5 col-md-3 col-sm-3 al-self\" style=\"display: flex; justify-content: center;\"><img class=\"\" src=\"/assets/img/icons/dataofof.svg\" alt=\"\"></div><div class=\"col-xl-9 col-lg-7 col-md-9 col-sm-9\"><p class=\"normal-text\">ข้อมูลที่เป็นหน่วยงานของรัฐ:</p><p class=\"normal-text\" style=\"color: rgb(23, 56, 101);\">ไม่เป็นข้อมูลทางการ</p></div></div><hr class=\"\"><div class=\"row pd\"><div class=\"col-xl-3 col-lg-5 col-md-3 col-sm-3 al-self\" style=\"display: flex; justify-content: center;\"><img class=\"\" src=\"/assets/img/icons/dataver.svg\" alt=\"\"></div><div class=\"col-xl-9 col-lg-7 col-md-9 col-sm-9\"><div class=\"row\"><div class=\"col-xl-12 col-lg-12 col-md-12\"><p class=\"normal-text\">สังกัด : </p><p style=\"color: rgb(23, 56, 101);\">ศูนย์ปฏิบัติการส่วนกลาง</p></div></div></div></div><hr class=\"pd-bt-15\"><h6 class=\"card-subtitle topic-text pd-bt-15\">ข้อมูลติดต่อ</h6><div></div><div><p class=\"normal-text pd-bt-15\"><img src=\"/assets/img/icons/mark.svg\" alt=\"\" style=\"padding-right: 17px; height: 27px;\">239 ถนนห้วยแก้ว อำเภอเมือง จังหวัดเชียงใหม่ 50200</p></div><div></div><div></div><div></div><div></div><div class=\"row\" style=\"display: flex; margin: 0px;\"><p class=\"pd-bt-15\"><img src=\"/assets/img/icons/facebook1.svg\" alt=\"\" style=\"padding-right: 11px; height: 24px;\"></p><button class=\"btn-style\" style=\"cursor: pointer; margin-left: 5px;\"><span class=\"normal-text\">เพจเฟสบุ๊ค</span></button></div><div></div><div></div><div></div><hr class=\"pd-bt-15\"><div style=\"margin-top: 20px;\"><h6 class=\"card-subtitle topic-text pd-bt-15\">ตำแหน่งในแผนที่</h6><div class=\"map-style\"><img class=\"map\" src=\"/assets/img/map2.png\" alt=\"\"></div></div></div></div><div class=\"row hidden-row\" style=\"display: flex; justify-content: space-around; margin-top: 0.5rem;\"><div class=\"large-text cl-black\">หน่วยงานที่เกี่ยวข้อง</div><div class=\"border-yellow\"></div></div><div class=\"style-img-website\"><img class=\"img-website\" src=\"/assets/img/bg/ttd.png\" alt=\"\"><div class=\"row row-flex\"><img class=\"img-logo\" src=\"/assets/img/logo_ttd.png\" alt=\"\"><div class=\"\" style=\"display: block;\"><div class=\"large-text cl-white\">กระทรวงการท่องเที่ยวและกีฬา</div><div class=\"normal-text-18 cl-white\">MINISTRY OF TOURISM &amp; SPORT</div></div></div><div class=\"row\" style=\"justify-content: center;\"><a class=\"btn btn-website-blue\" href=\"https://www.mots.go.th/\" style=\"width: 40%;\"><span class=\"normal-text-18\">เข้าสู่เว็บไซด์</span></a></div></div></div></div><div class=\"col-lg-8 col-xl-8 col-md-12 col-sm-12 col-12\"><div class=\"mg-top--70ss pd-bt-30 mg-left-20\"><div class=\"image-gallery\" aria-live=\"polite\"><div class=\"image-gallery-content bottom\"><div class=\"image-gallery-slide-wrapper bottom\"><div class=\"image-gallery-slides\"><div aria-label=\"Go to Slide 1\" tabindex=\"-1\" class=\"image-gallery-slide  center \" role=\"button\" style=\"display: inherit; transform: translate3d(0%, 0px, 0px);\"><img class=\"image-gallery-image\" src=\"https://files.thailandtourismdirectory.go.th/assets/upload/2019/06/06/20190606eccbc87e4b5ce2fe28308fd9f2a7baf3145756.jpg\" alt=\"ศูนย์ธรรมชาติวิทยาดอยสุเทพเฉลิมพระเกียรติ\" srcset=\"\" height=\"\" width=\"\" sizes=\"\" title=\"\" loading=\"eager\"></div></div><button type=\"button\" class=\"image-gallery-icon image-gallery-play-button\" aria-label=\"Play or Pause Slideshow\"><svg class=\"image-gallery-svg\" xmlns=\"http://www.w3.org/2000/svg\" viewBox=\"0 0 24 24\" fill=\"none\" stroke=\"currentColor\" stroke-width=\"2\" stroke-linecap=\"round\" stroke-linejoin=\"round\"><polygon points=\"5 3 19 12 5 21 5 3\"></polygon></svg></button><button type=\"button\" class=\"image-gallery-icon image-gallery-fullscreen-button\" aria-label=\"Open Fullscreen\"><svg class=\"image-gallery-svg\" xmlns=\"http://www.w3.org/2000/svg\" viewBox=\"0 0 24 24\" fill=\"none\" stroke=\"currentColor\" stroke-width=\"2\" stroke-linecap=\"round\" stroke-linejoin=\"round\"><path d=\"M8 3H5a2 2 0 0 0-2 2v3m18 0V5a2 2 0 0 0-2-2h-3m0 18h3a2 2 0 0 0 2-2v-3M3 16v3a2 2 0 0 0 2 2h3\"></path></svg></button><div class=\"image-gallery-index\"><span class=\"image-gallery-index-current\">1</span><span class=\"image-gallery-index-separator\"> / </span><span class=\"image-gallery-index-total\">1</span></div></div></div></div></div><div><p class=\"large-text-36 pd-l-10 cl-black dp\">ศูนย์ธรรมชาติวิทยาดอยสุเทพเฉลิมพระเกียรติ</p></div><div class=\"modal fade\" id=\"exampleModalCenter1\" tabindex=\"-1\" role=\"dialog\" aria-labelledby=\"exampleModalCenterTitle\" aria-hidden=\"true\"><div class=\"modal-dialog modal-dialog-centered modal-lg\" role=\"document\"><div class=\"modal-content-details\"><div class=\"modal-header\"><h5 class=\"modal-title\" id=\"exampleModalLongTitle\">แชร์ให้กับเพื่อนๆ</h5><button type=\"button\" class=\"close\" data-dismiss=\"modal\" aria-label=\"Close\"><span aria-hidden=\"true\">×</span></button></div><div class=\"modal-body\"><div class=\"modal-body\"><div class=\"mb-3\"><label for=\"Name\" class=\"cl-black form-label\">ชื่อ <span class=\"cl-red\">*</span></label><input required=\"\" id=\"Name\" placeholder=\"กรุณากรอกชื่อ\" type=\"text\" class=\"form-control form-control\" value=\"ศูนย์ธรรมชาติวิทยาดอยสุเทพเฉลิมพระเกียรติ\"></div></div></div><div class=\"modal-footer\"><a class=\"btn\" style=\"background-color: rgb(51, 153, 51); color: white;\">บันทึกข้อมูล</a></div></div></div></div><div class=\"pd-bt-15 pd-l-10 row\" style=\"margin: 10px 0px 0px;\"><div class=\"pd-r-15\" style=\"display: flex;\"><img src=\"/assets/img/icons/location.svg\" alt=\"\" style=\"padding-right: 10px; height: 25px;\"><p class=\"normal-text-18-detail cl-blue\">ตำบล: สุเทพ</p></div><div class=\"pd-r-15\"><p class=\"normal-text-18-detail cl-blue\">อำเภอ: เมืองเชียงใหม่</p></div><div class=\"pd-r-15\"><p class=\"normal-text-18-detail cl-blue\">จังหวัด: เชียงใหม่</p></div><div class=\"pd-r-15\"><p class=\"normal-text-18-detail cl-blue\">50200</p></div></div><div class=\"col-lg-12 col-xl-12 col-md-12 col-sm-12 col-12\"><div class=\"row pd-bt-30\"><div class=\"col-lg-10 col-xl-10 col-md-8 col-sm-8 col-8 mb-8\"><div class=\"row\"><div></div><div style=\"padding: 10px;\"><button class=\"Buttonshare\" data-toggle=\"modal\" data-target=\"#exampleModalCenter\"><img src=\"/assets/img/icons/Share.svg\" alt=\"\" style=\"padding-right: 10px; height: 15px; padding-left: 10px;\"><span style=\"padding-right: 10px;\">แชร์ข้อมูล</span></button></div><div class=\"modal fade\" id=\"exampleModalCenter\" tabindex=\"-1\" role=\"dialog\" aria-labelledby=\"exampleModalCenterTitle\" aria-hidden=\"true\"><div class=\"modal-dialog modal-dialog-centered modal-lg\" role=\"document\" style=\"right: -125px; top: -100px;\"><div class=\"modal-content\"><div class=\"modal-header\"><p class=\"large-text cl-black\" id=\"exampleModalLongTitle\">แชร์ให้กับเพื่อนๆ</p><button type=\"button\" class=\"close\" data-dismiss=\"modal\" aria-label=\"Close\" style=\"margin-right: -10px;\"><span aria-hidden=\"true\" style=\"font-size: 35px;\">×</span></button></div><div class=\"modal-body\"><p class=\"pd-bt-15 normal-text-16 cl-black\">ผ่านช่องทางโซเชียลมีเดีย</p><button aria-label=\"facebook\" style=\"background-color: transparent; border: none; padding: 20px; font: inherit; color: inherit; cursor: pointer; outline: none;\"><svg viewBox=\"0 0 64 64\" width=\"28\" height=\"28\"><circle cx=\"32\" cy=\"32\" r=\"31\" fill=\"#3b5998\"></circle><path d=\"M34.1,47V33.3h4.6l0.7-5.3h-5.3v-3.4c0-1.5,0.4-2.6,2.6-2.6l2.8,0v-4.8c-0.5-0.1-2.2-0.2-4.1-0.2 c-4.1,0-6.9,2.5-6.9,7V28H24v5.3h4.6V47H34.1z\" fill=\"white\"></path></svg></button><button aria-label=\"facebookmessenger\" style=\"background-color: transparent; border: none; padding: 20px; font: inherit; color: inherit; cursor: pointer; outline: none;\"><svg viewBox=\"0 0 64 64\" width=\"28\" height=\"28\"><circle cx=\"32\" cy=\"32\" r=\"31\" fill=\"#2196F3\"></circle><path d=\"M 53.066406 21.871094 C 52.667969 21.339844 51.941406 21.179688 51.359375 21.496094 L 37.492188 29.058594 L 28.867188 21.660156 C 28.339844 21.207031 27.550781 21.238281 27.054688 21.730469 L 11.058594 37.726562 C 10.539062 38.25 10.542969 39.09375 11.0625 39.613281 C 11.480469 40.027344 12.121094 40.121094 12.640625 39.839844 L 26.503906 32.28125 L 35.136719 39.679688 C 35.667969 40.132812 36.457031 40.101562 36.949219 39.609375 L 52.949219 23.613281 C 53.414062 23.140625 53.464844 22.398438 53.066406 21.871094 Z M 53.066406 21.871094\" fill=\"white\"></path></svg></button><button aria-label=\"line\" style=\"background-color: transparent; border: none; padding: 20px; font: inherit; color: inherit; cursor: pointer; outline: none;\"><svg viewBox=\"0 0 64 64\" width=\"28\" height=\"28\"><circle cx=\"32\" cy=\"32\" r=\"31\" fill=\"#00b800\"></circle><path d=\"M52.62 30.138c0 3.693-1.432 7.019-4.42 10.296h.001c-4.326 4.979-14 11.044-16.201 11.972-2.2.927-1.876-.591-1.786-1.112l.294-1.765c.069-.527.142-1.343-.066-1.865-.232-.574-1.146-.872-1.817-1.016-9.909-1.31-17.245-8.238-17.245-16.51 0-9.226 9.251-16.733 20.62-16.733 11.37 0 20.62 7.507 20.62 16.733zM27.81 25.68h-1.446a.402.402 0 0 0-.402.401v8.985c0 .221.18.4.402.4h1.446a.401.401 0 0 0 .402-.4v-8.985a.402.402 0 0 0-.402-.401zm9.956 0H36.32a.402.402 0 0 0-.402.401v5.338L31.8 25.858a.39.39 0 0 0-.031-.04l-.002-.003-.024-.025-.008-.007a.313.313 0 0 0-.032-.026.255.255 0 0 1-.021-.014l-.012-.007-.021-.012-.013-.006-.023-.01-.013-.005-.024-.008-.014-.003-.023-.005-.017-.002-.021-.003-.021-.002h-1.46a.402.402 0 0 0-.402.401v8.985c0 .221.18.4.402.4h1.446a.401.401 0 0 0 .402-.4v-5.337l4.123 5.568c.028.04.063.072.101.099l.004.003a.236.236 0 0 0 .025.015l.012.006.019.01a.154.154 0 0 1 .019.008l.012.004.028.01.005.001a.442.442 0 0 0 .104.013h1.446a.4.4 0 0 0 .401-.4v-8.985a.402.402 0 0 0-.401-.401zm-13.442 7.537h-3.93v-7.136a.401.401 0 0 0-.401-.401h-1.447a.4.4 0 0 0-.401.401v8.984a.392.392 0 0 0 .123.29c.072.068.17.111.278.111h5.778a.4.4 0 0 0 .401-.401v-1.447a.401.401 0 0 0-.401-.401zm21.429-5.287c.222 0 .401-.18.401-.402v-1.446a.401.401 0 0 0-.401-.402h-5.778a.398.398 0 0 0-.279.113l-.005.004-.006.008a.397.397 0 0 0-.111.276v8.984c0 .108.043.206.112.278l.005.006a.401.401 0 0 0 .284.117h5.778a.4.4 0 0 0 .401-.401v-1.447a.401.401 0 0 0-.401-.401h-3.93v-1.519h3.93c.222 0 .401-.18.401-.402V29.85a.401.401 0 0 0-.401-.402h-3.93V27.93h3.93z\" fill=\"white\"></path></svg></button><button aria-label=\"twitter\" style=\"background-color: transparent; border: none; padding: 20px; font: inherit; color: inherit; cursor: pointer; outline: none;\"><svg viewBox=\"0 0 64 64\" width=\"28\" height=\"28\"><circle cx=\"32\" cy=\"32\" r=\"31\" fill=\"#00aced\"></circle><path d=\"M48,22.1c-1.2,0.5-2.4,0.9-3.8,1c1.4-0.8,2.4-2.1,2.9-3.6c-1.3,0.8-2.7,1.3-4.2,1.6 C41.7,19.8,40,19,38.2,19c-3.6,0-6.6,2.9-6.6,6.6c0,0.5,0.1,1,0.2,1.5c-5.5-0.3-10.3-2.9-13.5-6.9c-0.6,1-0.9,2.1-0.9,3.3 c0,2.3,1.2,4.3,2.9,5.5c-1.1,0-2.1-0.3-3-0.8c0,0,0,0.1,0,0.1c0,3.2,2.3,5.8,5.3,6.4c-0.6,0.1-1.1,0.2-1.7,0.2c-0.4,0-0.8,0-1.2-0.1 c0.8,2.6,3.3,4.5,6.1,4.6c-2.2,1.8-5.1,2.8-8.2,2.8c-0.5,0-1.1,0-1.6-0.1c2.9,1.9,6.4,2.9,10.1,2.9c12.1,0,18.7-10,18.7-18.7 c0-0.3,0-0.6,0-0.8C46,24.5,47.1,23.4,48,22.1z\" fill=\"white\"></path></svg></button><p class=\"pd-bt-15 normal-text-16 cl-black\" style=\"padding-top: 10px;\">คุณสามารถคัดลอกลิงก์และส่งต่อได้</p><div class=\"form-group \"><div class=\"row\"><div class=\"col-lg-10\"><input type=\"text\" class=\"form-control\" id=\"url-input\" value=\"https://thailandtourismdirectory.go.th/attraction/98040\"></div><div class=\"col-lg-2\"><p class=\"normal-text-18 cl-black\" style=\"cursor: pointer; margin-top: 4px;\">คัดลอก</p></div></div></div></div></div></div></div></div></div><div class=\"col-xl-2 col-lg-2 col-md-4 col-sm-4 col-xs-4 mb-4\"></div></div></div><div class=\"col-md-12 col-sm-12 col-12\"><div class=\"style-description\"><h5 class=\"topic-text pd-bt-15\">ข้อมูลสถานที่</h5><p class=\"normal-text pd-bt-15\" style=\"text-align: justify; white-space: pre-line;\">เป็นศูนย์สำหรับนักท่องเที่ยว นักศึกษา และนักเรียนได้ศึกษาเรียนรู้เกี่ยวกับด้านธรรมชาติวิทาของดอยสุเทพ รวมทั้งในด้านประวัติศาสตร์ ศิลปวัฒนธรรม ก่อนที่จะเดินทางไปท่องเที่ยวบนดอยสุเทพ ซึ่งเป็นสถานที่สำคัญทางศาสนาและทางการท่องเที่ยวของจังหวัดเชียงใหม่ </p><hr></div><div><h5 class=\"topic-text pd-bt-15\">ประเภทแหล่งท่องเที่ยว</h5><p class=\"normal-text pd-bt-15\" style=\"text-align: justify; white-space: pre-line;\"></p><hr></div><div></div><div></div><div></div><div><h5 class=\"topic-text pd-bt-15\">ข้อมูลแนะนำ</h5></div><div class=\"row\" style=\"padding-left: 15px;\"><div class=\"col-lg-6 pd-bt-15\"><div class=\"row\"><img src=\"https://files.thailandtourismdirectory.go.th/assets/upload/icons/Source_file-22.png\" alt=\"\" style=\"padding-right: 10px; height: 25px; margin-top: 5px;\"><p class=\"normal-text\" style=\"font-weight: bold;\">กลุ่มนักท่องเที่ยว</p></div></div><div class=\"col-lg-6 pd-bt-15\"><div class=\"row\"><img src=\"https://files.thailandtourismdirectory.go.th/assets/upload/icons/Source_file-23.png\" alt=\"\" style=\"padding-right: 10px; height: 25px; margin-top: 5px;\"><p class=\"normal-text\" style=\"font-weight: bold;\">การเดินทาง</p></div><div class=\"col-lg-12\"><li class=\"normal-text\">รถโดยสารประจำทาง</li></div><div class=\"col-lg-12\"><li class=\"normal-text\">รถยนต์</li></div><div><p class=\"normal-text pd-bt-15\">หมายเหตุการเดินทาง: -</p></div></div><div></div><div class=\"col-lg-6 pd-bt-15\"><div class=\"row\"><img src=\"https://files.thailandtourismdirectory.go.th/assets/upload/icons/Source_file-24.png\" alt=\"\" style=\"padding-right: 10px; height: 30px;\"><p class=\"normal-text\" style=\"font-weight: bold;\">ราคาเข้าชม</p></div><div><div class=\"col-lg-12\"><li class=\"normal-text\">ไม่มีค่าใช้จ่าย</li></div></div></div></div><hr><div></div><div></div><div></div><div class=\"row pd-bt-15\"><div class=\"col-xl-6 col-lg-7\"><h5 class=\"topic-text\" style=\"align-items: center; align-content: center;\">แสดงความคิดเห็นต่อสถานที่</h5></div><div class=\"col-xl-6 col-lg-5\" style=\"text-align: end;\"><h5 class=\"topic-text\" style=\"color: rgb(244, 208, 6);\"><img src=\"/assets/img/icons/edit.svg\" alt=\"\" style=\"padding-right: 10px; height: 30px;\">เขียนความคิดเห็น</h5></div></div><div class=\"location-review-area pd-bt-15\"><div class=\"btn-wrapper\" style=\"text-align: center;\"><div><div class=\"btn btn-transparent\" style=\"cursor: pointer;\"><img src=\"/assets/img/icons/Vectorgologin.svg\" alt=\"\" style=\"padding-right: 10px;\">กรุณา <span style=\"color: rgb(36, 90, 163);\">เข้าสู่ระบบ</span> เพื่อแสดงความคิดเห็น</div></div></div></div><hr><h5 class=\"topic-text pd-bt-15\">ข้อมูลรีวิว</h5><div class=\"card card-color\" style=\"background-color: rgb(248, 248, 248);\"><div class=\"row\" style=\"padding: 10px;\"><div class=\"col-lg-4\" style=\"border-right: 1px solid rgb(226, 226, 226);\"><p class=\"normal-text-18 pd-bt-51\" style=\"text-align: center; color: rgb(0, 0, 0); margin-top: 10px;\">คะแนนเฉลี่ย</p><div class=\"row pd-bt-51\" style=\"justify-content: center;\"><p class=\"normal-text\" style=\"color: rgb(244, 208, 6); font-size: 60px; align-items: flex-end;\">0</p><p style=\"color: rgb(244, 208, 6); font-size: 40px; margin-top: 9px;\"> /5</p></div><div class=\"row\" style=\"justify-content: center;\"><p class=\"normal-text-18\" style=\"color: rgb(0, 0, 0);\">รีวิวทั้งหมด : </p><p class=\"normal-text-18\" style=\"color: rgb(244, 208, 6); padding-left: 10px;\"> 0 <span data-nosnippet=\"true\">รายการ</span></p></div></div><div class=\"col-lg-8\" style=\"display: grid;\"><div class=\"row\"><div class=\"col-lg-12\" style=\"display: flex; justify-content: space-around;\"><div class=\"small-text-13 cl-black al-self\">5</div><img class=\"al-self\" src=\"/assets/img/icons/star.svg\" alt=\"\" style=\"width: 12px; height: 12px;\"><div class=\"al-self\" style=\"width: 85%;\"><div class=\"progress\" style=\"height: 7px;\"><div role=\"progressbar\" class=\"progress-bar bg-warning\" aria-valuenow=\"0\" aria-valuemin=\"0\" aria-valuemax=\"100\" style=\"width: 0%;\"></div></div></div><div class=\"small-text-13 cl-black al-self\">(0)</div></div></div><div class=\"row\"><div class=\"col-lg-12\" style=\"display: flex; justify-content: space-around;\"><div class=\"small-text-13 cl-black al-self\">4</div><img class=\"al-self\" src=\"/assets/img/icons/star.svg\" alt=\"\" style=\"width: 12px; height: 12px;\"><div class=\"al-self\" style=\"width: 85%;\"><div class=\"progress\" style=\"height: 7px;\"><div role=\"progressbar\" class=\"progress-bar bg-warning\" aria-valuenow=\"0\" aria-valuemin=\"0\" aria-valuemax=\"100\" style=\"width: 0%;\"></div></div></div><div class=\"small-text-13 cl-black al-self\">(0)</div></div></div><div class=\"row\"><div class=\"col-lg-12\" style=\"display: flex; justify-content: space-around;\"><div class=\"small-text-13 cl-black al-self\">3</div><img class=\"al-self\" src=\"/assets/img/icons/star.svg\" alt=\"\" style=\"width: 12px; height: 12px;\"><div class=\"al-self\" style=\"width: 85%;\"><div class=\"progress\" style=\"height: 7px;\"><div role=\"progressbar\" class=\"progress-bar bg-warning\" aria-valuenow=\"0\" aria-valuemin=\"0\" aria-valuemax=\"100\" style=\"width: 0%;\"></div></div></div><div class=\"small-text-13 cl-black al-self\">(0)</div></div></div><div class=\"row\"><div class=\"col-lg-12\" style=\"display: flex; justify-content: space-around;\"><div class=\"small-text-13 cl-black al-self\">2</div><img class=\"al-self\" src=\"/assets/img/icons/star.svg\" alt=\"\" style=\"width: 12px; height: 12px;\"><div class=\"al-self\" style=\"width: 85%;\"><div class=\"progress\" style=\"height: 7px;\"><div role=\"progressbar\" class=\"progress-bar bg-warning\" aria-valuenow=\"0\" aria-valuemin=\"0\" aria-valuemax=\"100\" style=\"width: 0%;\"></div></div></div><div class=\"small-text-13 cl-black al-self\">(0)</div></div></div><div class=\"row\"><div class=\"col-lg-12\" style=\"display: flex; justify-content: space-around;\"><div class=\"small-text-13 cl-black al-self\">1</div><img class=\"al-self\" src=\"/assets/img/icons/star.svg\" alt=\"\" style=\"width: 12px; height: 12px;\"><div class=\"al-self\" style=\"width: 85%;\"><div class=\"progress\" style=\"height: 7px;\"><div role=\"progressbar\" class=\"progress-bar bg-warning\" aria-valuenow=\"0\" aria-valuemin=\"0\" aria-valuemax=\"100\" style=\"width: 0%;\"></div></div></div><div class=\"small-text-13 cl-black al-self\">(0)</div></div></div></div></div></div><div class=\"comments-area\"><ul class=\"comment-list\"><li></li></ul></div></div></div></div></div></div><div class=\"mt-130 \"><footer class=\"footer-area\" style=\"background-image: url(&quot;../../assets/img/bg/footer.png&quot;); margin-top: 130px;\"><div class=\"container\"><div class=\"row\"><div class=\"col-lg-4 col-md-6\"><div class=\"footer-widget widget\"><div class=\"about_us_widget\"><a href=\"/\" class=\"footer-logo\"><img src=\"../../assets/img/logo.png\" alt=\"footer logo\"></a><p>นี่คือเว็บไซต์อย่างเป็นทางการของกระทรวงการท่องเที่ยวและกีฬาของประเทศไทย เนื้อหาที่แสดงบนเว็บไซต์นี้มีจุดประสงค์เพื่อให้ข้อมูลมากกว่าเพื่อการค้า และการขายที่แสดงมีขึ้นเพื่อเป็นสัญลักษณ์แห่งการเป็นหุ้นส่วนและจะนำคุณไปยังไซต์ของพันธมิตรของเราเสมอ</p></div></div></div><div class=\"col-lg-4 col-md-6\"><div class=\"footer-widget widget \"><div class=\"widget-contact\"><h4 class=\"widget-title\">ข้อมูลติดต่อ</h4><p><i class=\"fa fa-map-marker\"></i><span>เลขที่ 4 ถนนราชดำเนินนอก แขวงวัดโสมนัส เขตป้อมปราบศัตรูพ่าย กรุงเทพมหานคร 10100</span></p></div></div></div><div class=\"col-lg-4 col-md-6\"><div class=\"footer-widget widget \"><div class=\"widget-contact\"><h4 class=\"widget-title\">ติดต่อขอใช้งาน Open API</h4><a class=\"btn btn-yellow\" target=\"_blank\" rel=\"noopener noreferrer\" href=\"/th/openapi\">ขอใช้งาน OPEN API</a></div></div></div></div></div><div class=\"copyright-inner\"><div class=\"copyright-text\"><i class=\"fa fa-copyright\"></i>2564 กระทรวงการท่องเที่ยวและกีฬา</div></div></footer></div></div></div></div><script id=\"__NEXT_DATA__\" type=\"application/json\">{\"props\":{\"pageProps\":{\"_nextI18Next\":{\"initialI18nStore\":{\"th\":{\"common\":{\"Name\":\"ชื่อ\",\"Surname\":\"นามสกุล\",\"Home\":\"หน้าหลัก\",\"Attractions\":\"สถานที่ท่องเที่ยว\",\"Attraction\":\"แหล่งท่องเที่ยว\",\"Accommodation\":\"ที่พัก\",\"Accommodations\":\"ที่พักทั่วไทย\",\"Restaurant\":\"ร้านอาหาร\",\"Restaurants\":\"ร้านอาหารเด็ดทั่วไป\",\"Stores\":\"ร้านค้าของฝาก\",\"Thing to do\":\"กิจกรรมการท่องเที่ยว\",\"Activity\":\"กิจกรรมการท่องเที่ยว\",\"Tourist Routes\":\"เส้นทางท่องเที่ยว\",\"Tour Operators\":\"ผู้ประกอบธุรกิจนำเที่ยว\",\"Guide\":\"มัคคุเทศก์\",\"Sign Up\":\"สมัครสมาชิก\",\"Register\":\"สมัครสมาชิก\",\"Successfully Registered\":\"สมัครสมาชิกสำเร็จ\",\"Login\":\"เข้าสู่ระบบ\",\"login\":\"เข้าสู่ระบบ\",\"Profile\":\"ข้อมูลส่วนตัว\",\"Username\":\"ชื่อผู้ใข้งาน\",\"User Profile\":\"ประวัติผู้ใช้งาน\",\"Enter Username\":\"กรอกชื่อผู้ใข้งาน\",\"Password\":\"รหัสผ่าน\",\"Enter Password\":\"กรอกรหัสผ่านผู้ใช้งาน\",\"Confirm Password\":\"ยืนยันรหัสผ่าน\",\"Confirm Enter Password\":\"ยืนยันกรอกรหัสผ่าน\",\"Correct\":\"รหัสผ่านถูกต้อง\",\"Incorrect\":\"รหัสผ่านไม่ถูกต้อง\",\"If you are already a member\":\"หากคุณเป็นสมาชิกแล้ว\",\"If you are not a member yet\":\"หากคุณยังไม่ได้เป็นสมาชิก\",\"Here\":\"ได้ที่นี่\",\"Remember my account\":\"จดจำบัญชีของฉันไว้\",\"Forgot your password ?\":\"ลืมรหัสผ่าน ?\",\"Login with\":\"เข้าสูู่ระบบด้วย\",\"The system will take you to the login page\":\"ระบบจะพาคุณไปหน้า เข้าสูู่ระบบ\",\"Automatic, if there is no response, can be clicked from below.\":\"อัตโนมัติหากไม่มีการตอบสนองสามารถคลิกได้จากด้านล่าง\",\"Go to the login page\":\"ไปหน้าเข้าสู่ระบบ\",\"Logout\":\"ออกจากระบบ\",\"Complete, Accurate\":\"ครบถ้วนที่สุด ถูกต้องที่สุด\",\"up-to-date, Trusted information source from government organizations\":\"ปัจจุบันที่สุด อ้างอิงได้ดีที่สุดจากหน่วยงานภาครัฐ\",\"New Standard of Thailand Tourism Information\":\"มาตรฐานใหม่ข้อมูลการท่องเที่ยวของประเทศไทย\",\"Search\":\"ค้นหา\",\"Search for attractions based on your search terms\":\"ค้นหาสถานที่ท่องเที่ยวจากคำค้นหาของคุณ\",\"Enter keyword to search\":\"ค้นหาสถานที่ท่องเที่ยวจากคำค้นหาของคุณ\",\"Accurate information\":\"ข้อมูลที่ถูกต้อง\",\"up-to-date, Trusted information source from government organizations and verified.\":\"เป็นปัจจุบันที่สุด อ้างอิงได้ดีที่สุดจากหน่วยงานรัฐและผ่านการตรวจสอบ\",\"New experience\":\"ประสบการณ์ใหม่\",\"Many tourism activities that are ready to give you a new experience of doing activities.\":\"กิจกรรมการท่องเที่ยวมากมายที่พร้อมจะให้คุณได้สัมผัสกับประสบการณ์ที่แปลกใหม่กับการทำกิจกรรม\",\"Up-to-date\":\"ทันสมัย\",\"There is a ranking of popular tourist spots and recommended places for you as you want.\":\"มีการจัดอันดับแหล่งท่องเที่ยวยอดนิยมและแนะนำสถานที่ให้คุณได้ตามต้องการ\",\"Hilight Visit our popular attractions\":\"แหล่งท่องเที่ยวยอดนิยม\",\"Waiting for you to experience the real\":\"ที่รอให้ท่านเดินทางไปสัมผัสประสบการณ์จริง\",\"New attractions from every community\":\"แหล่งท่องเที่ยวใหม่จากชุมชน\",\"Everybody in Thailand is willing to welcome travelers from all over the world\":\"ทุกๆ ท้องถิ่นในประเทศไทยที่เต็มใจต้อนรับนักเดินทางจากทั่วโลก\",\"View more\":\"ดูเพิ่มเติม\",\"Open\":\"เปิดอยู่ในขณะนี้\",\"Closed\":\"ปิดอยู่ในขณะนี้\",\"Details\":\"รายละเอียด\",\"See more details\":\"ดูรายละเอียดเพิ่มเติม\",\"Rooms and services that will blow your mind\":\"ห้องพักและบริการที่จะทำให้คุณประทับใจ\",\"Collect various restaurants around the country that I recommend everyone to try it on\":\"รวบรวมร้านอาหารต่างๆทั่วประเทศที่อยากแนะนำให้ทุกคนได้ลิ้มลอง\",\"Not only are many attractions and souvenir shops, or of a province, we have a choice to go shopping\":\"ไม่เพียงแต่สถานที่ท่องเที่ยวมากมายแล้วร้านค้าของฝากต่างๆหรือของดีประจำจังหวัดเราก็มีให้คุณไปเลือกช้อป\",\"A special experience of Thai way of travel that will make you fall in love with Thailand even more\":\"ประสบการณ์พิเศษท่องเที่ยววิถีไทยที่จะทำให้คุณหลงรักประเทศไทยมากยิ่งขึ้น\",\"Souvenir shop / Provincial Product\":\"ร้านของฝาก / ของดีประจำจังหวัด\",\"Tourism Activities\":\"กิจกรรมการท่องเที่ยว ที่น่าสนใจทั่วประเทศไทย\",\"Thai Tourist Routes by Locals\":\"เส้นทางท่องเที่ยววิถีไทยงดงามอย่างไทย\",\"Read more\":\"อ่านต่อ \",\"Start your journey, Discover Thainess\":\"เริ่มต้นการเดินทางเปิดมุมมองสัมผัสวิถีชีวิตความเป็นไทย\",\"Start your journey\":\"เริ่มต้นการเดินทาง\",\"Discover Thainess\":\"เปิดมุมมองสัมผัสวิถีชีวิตความเป็นไทย\",\"Discover Thainess through your journey to the amazing attractions, you will love Thailand.\":\"สัมผัสวิถีความเป็นไทย จากการเดินทางท่องเที่ยวไปยังสถานต่างๆ แล้วคุณจะหลงรักประเทศไทย\",\"What to Know About Thailand\":\"สิ่งที่ต้องรู้เกี่ยวกับประเทศไทย\",\"Travel Tips in Thailand\":\"แนะนำข้อมูลที่ควรรู้ในประเทศไทย\",\"Religion\":\"ศาสนา\",\"Foods\":\"อาหาร\",\"Travel to Thailand\":\"การเดินทางเข้าประเทศ\",\"Jobs\":\"อาชีพ\",\"Regions\":\"ภูมิภาค\",\"Transportations\":\"การเดินทาง\",\"Spa\":\"สปา\",\"lang\":\"th\",\"Viewpoint\":\"มุมมอง\",\"list\":\"รายการ\",\"Map\":\"ตำแหน่งในแผนที่\",\"Maps\":\"แผนที่\",\"Search for Attractions\":\"ค้นหาสถานที่ท่องเที่ยว\",\"Search for Agricultural Attractions\":\"ค้นหาสถานที่ท่องเที่ยวเชิงเกษตร\",\"Search for Accommodation\":\"ค้นหาสถานที่ที่พัก\",\"Search for Spa\":\"ค้นหาสถานที่สปา\",\"Search for Restaurant\":\"ค้นหาสถานที่ร้านอาหาร\",\"Search for Stores\":\"ค้นหาสถานที่ร้านค้า\",\"Search for Activity\":\"ค้นหาสถานที่กิจกรรมท่องเที่ยว\",\"Search for Tourist Routes\":\"ค้นหาสถานที่เส้นทางท่องเที่ยว\",\"Search for Tour Operators\":\"ค้นหาผู้ประกอบการท่องเที่ยว\",\"Search for Guide\":\"ค้นหามัคคุเทศก์\",\"Search for Article page\":\"ค้นหาบทความทั่วไป\",\"Search for News and events\":\"ค้นหาข่าวสารและกิจกรรม\",\"Article page\":\"บทความทั่วไป\",\"Search for Article story\":\"ค้นหาบทความเรื่องราว\",\"Article story\":\"บทความเรื่องราว\",\"Search for the name of the desired location\":\"ค้นหาสถานที่ท่องเที่ยว\",\"Region\":\"ภูมิภาค\",\"Province\":\"จังหวัด\",\"District\":\"อำเภอ\",\"SubDistrict\":\"ตำบล\",\"Via social media channels\":\"ผ่านช่องทางโซเชียลมีเดีย\",\"You can copy the link and forward it.\":\"คุณสามารถคัดลอกลิงก์และส่งต่อได้\",\"Attraction type\":\"ประเภทสถานที่ท่องเที่ยว\",\"Please select a Region\":\"กรุณาเลือกภูมิภาค\",\"Please select a Province\":\"กรุณาเลือกจังหวัด\",\"All regions\":\"ทุกภูมิภาค\",\"Article\":\"บทความ\",\"Official Information of Government Agencies\":\"ข้อมูลที่เป็นหน่วยงานของรัฐ\",\"Not official information\":\"ไม่เป็นข้อมูลทางการ\",\"Update information\":\"ปรับปรุงข้อมูลโดย\",\"Affiliation\":\"สังกัด\",\"Contact us\":\"ข้อมูลติดต่อ\",\"Favourite\":\"บันทึก\",\"Favourited\":\"รายการโปรด\",\"Save\":\"บันทึกข้อมูล\",\"Facebook\":\"เฟสบุ๊ค\",\"Line\":\"ไลน์\",\"Change Report\":\"แจ้งแก้ไขข้อมูล\",\"Share\":\"แชร์ให้กับเพื่อนๆ\",\"Share information\":\"แชร์ข้อมูล\",\"Copy\":\"คัดลอก\",\"Description Activities\":\"ข้อมูลกิจกรรมท่องเที่ยว\",\"Description Tour operator\":\"ข้อมูลกิจกรรมท่องเที่ยว\",\"Opening hours\":\"วันเวลาทำการ\",\"Edit\":\"แก้ไขข้อมูล\",\"Description\":\"ข้อมูลสถานที่\",\"Address\":\"ที่อยู่\",\"Phone number\":\"เบอร์ติดต่อ\",\"Email\":\"อีเมล\",\"Website\":\"เว็บไซต์\",\"History\":\"ประวัติ\",\"Information\":\"ข้อมูลแนะนำ\",\"Type of registration\":\"ประเภทการจดทะเบียน\",\"Allowed Date\":\"วันที่อนุญาต\",\"Expiration date\":\"วันที่หมดอายุ\",\"License number\":\"เลขที่ใบอนุญาต\",\"Registration type\":\"ประเภทการขึ้นทะเบียน\",\"Registration\":\"การขึ้นทะเบียน\",\"Standard\":\"มาตรฐาน\",\"Group of tourist\":\"กลุ่มนักท่องเที่ยว\",\"Feature\":\"ลักษณะเด่น\",\"Activities\":\"กิจกรรมท่องเที่ยว\",\"Traveling\":\"การเดินทาง\",\"Routes to\":\"เส้นทางไป\",\"Admission prices\":\"ราคาเข้าชม\",\"No charge\":\"ไม่มีค่าใช้จ่าย\",\"Have Charge\":\"มีค่าใช้จ่าย\",\"Reviews\":\"แสดงความคิดเห็นต่อสถานที่\",\"Write review\":\"เขียนความคิดเห็น\",\"Please\":\"กรุณา\",\"before review\":\"เพื่อแสดงความคิดเห็น\",\"Rating\":\"ให้คะแนนร้านนี้\",\"Average rating\":\"คะแนนเฉลี่ย\",\"Review information\":\"ข้อมูลรีวิว\",\"Review details\":\"รายละเอียดรีวิว\",\"All Reviews\":\"รีวิวทั้งหมด\",\"Sort\":\"เรียงตาม\",\"Latest\":\"ล่าสุด\",\"Number of rooms\":\"จำนวนห้องพัก\",\"Number of meeting rooms\":\"จำนวนประชุม\",\"More information\":\"ข้อมูลเพิ่มเติม\",\"Facilities\":\"สิ่งอำนวยความสะดวก\",\"Public utilities\":\"สาธารณูปโภค\",\"Products\":\"สินค้า\",\"Activity information\":\"ข้อมูลกิจกรรมท่องเที่ยว\",\"Tour Operator information\":\"ข้อมูลผู้ประกอบธุรกิจนำเที่ยว\",\"etc.\":\"อื่นๆ\",\"Preparing data, please wait...\":\"กำลังเตรียมข้อมูล กรุณารอสักครู่\",\"Sunday\":\"วันอาทิตย์\",\"Monday\":\"วันจันทร์\",\"Tuesday\":\"วันอังคาร\",\"Wednesday\":\"วันพุธ\",\"Thursday\":\"วันพฤหัสบดี\",\"Friday\":\"วันศุกร์\",\"Saturday\":\"วันเสาร์\",\"Ministry Of Tourism \\u0026 Sports\":\"2564 กระทรวงการท่องเที่ยวและกีฬา\",\"4 Ratchadamnoen nok Road, Watsomanas, Pom Prap Sattru Phai, Bangkok 10100\":\"เลขที่ 4 ถนนราชดำเนินนอก แขวงวัดโสมนัส เขตป้อมปราบศัตรูพ่าย กรุงเทพมหานคร 10100\",\"Add Photo\":\"เพิ่มรูปภาพ\",\"Rooms\":\"ห้อง\",\"Official Verify\":\"ยืนยันอย่างเป็นทางการ\",\"Related Agencies\":\"หน่วยงานที่เกี่ยวข้อง\",\"Visit Website\":\"เข้าสู่เว็บไซด์\",\"Restaurant type\":\"ประเภทร้านอาหาร\",\"Price range\":\"ช่วงราคา\",\"Number of seats\":\"จำนวนที่นั่ง\",\"Parking\":\"ที่จอดรถ\",\"Reservations\":\"จองล่วงหน้า\",\"Delivery\":\"จัดส่ง\",\"Restaurant Information\":\"ข้อมูลร้านอาหาร\",\"Department of Tourism\":\"กระทรวงการท่องเที่ยวและกีฬา\",\"Schedule\":\"กำหนดการ\",\"Pending review approval\":\"รออนุมัติการรีวิว\",\"Foreigner (Adult)\":\"อัตราค่าเข้าชม ชาวต่างชาติ (ผู้ใหญ่)\",\"Foreigner (Child)\":\"อัตราค่าเข้าชม ชาวต่างชาติ (เด็ก)\",\"Thai (Adult)\":\"อัตราค่าเข้าชม ชาวไทย (ผู้ใหญ่)\",\"Thai (Child)\":\"อัตราค่าเข้าชม ชาวไทย (เด็ก)\",\"Remark\":\"หมายเหตุอัตราเข้าชม\",\"Baht\":\"บาท\",\"Travel Remark\":\"หมายเหตุการเดินทาง\",\"Cost Remark\":\"หมายเหตุอัตราเข้าชม\",\"Open Hour Remark\":\"หมายเหตุเวลาทำการ\",\"This is the official website of the Ministry of Tourism and Sports Thailand. The contents listed on this website are intended for informational purposes rather than commercial. And displayed sale is meant as a token of partnership and will always redirect you to our partners sites.\":\"นี่คือเว็บไซต์อย่างเป็นทางการของกระทรวงการท่องเที่ยวและกีฬาของประเทศไทย เนื้อหาที่แสดงบนเว็บไซต์นี้มีจุดประสงค์เพื่อให้ข้อมูลมากกว่าเพื่อการค้า และการขายที่แสดงมีขึ้นเพื่อเป็นสัญลักษณ์แห่งการเป็นหุ้นส่วนและจะนำคุณไปยังไซต์ของพันธมิตรของเราเสมอ\",\"Clear\":\"ล้าง\",\"in\":\"ใน\",\" \":\"\",\"Agricultural Attraction\":\"แหล่งท่องเที่ยวเชิงเกษตร\",\"Back\":\"ย้อนกลับ\",\"Video Introduction\":\"วิดีโอแนะนำสถานที่\",\"Click to watch the video\":\"วีดีโอแนะนำสถานที่\",\"Map Image\":\"รูปภาพแผนที่\",\"Click to view image\":\"คลิกเพื่อดูรูปภาพ\",\"Twitter\":\"ทวิตเตอร์\",\"Facebook Page\":\"เพจเฟสบุ๊ค\",\"Contact Name\":\"ชื่อผู้ติดต่อ\",\"See more products\":\"ดูสินค้าอื่นเพิ่มเติม\",\"Thank you for commenting.\":\"ขอบคุณที่ช่วยแสดงความคิดเห็น\",\"Your comments will appear soon.\":\"ความคิดเห็นของท่านจะปรากฏในเร็ว ๆ นี้\",\"News and events\":\"ข่าวสารและกิจกรรม\",\"Public relations news for tourist attractions throughout Thailand\":\"ข่าวสารประชาสัมพันธ์แหล่งท่องเที่ยวทั่วประเทศไทย\",\"Search for Campaign page\":\"ค้นหาหน้าแคมเปญ\",\"Campaign\":\"แคมเปญ\",\"Community-Based Tourism Routes\":\"เส้นทางท่องเที่ยวโดยชุมชน\",\"Designated Areas for Sustainable Tourism Administration (Public Organization)\":\"องค์การบริหารการพัฒนาพื้นที่พิเศษเพื่อการท่องเที่ยวอย่างยั่งยืน (องค์การมหาชน)\",\"CBT. | CBT Thailand\":\"อพท. | CBT Thailand\",\"Search for Community-Based Tourism Routes\":\"ค้นหาสถานที่เส้นทางท่องเที่ยวชุมชน\",\"Number of days\":\"จำนวนวัน\",\"Day\":\"วันที่\",\"Distance\":\"ระยะทาง\",\"km\":\"กม.\",\"Activity details\":\"รายละเอียดกิจกรรม\",\"day\":\"วัน\",\"Please select number of days\":\"กรุณาเลือกจำนวนวัน\",\"1 Day\":\"1 วัน\",\"2 Days\":\"2 วัน\",\"3 Days\":\"3 วัน\",\"4 Days\":\"4 วัน\",\"5 Days\":\"5 วัน\",\"Data Owner Agencies\":\"หน่วยงานเจ้าของข้อมูล\",\"Notice point\":\"จุดสังเกตุ\",\"The cost of activities\":\"ค่าใช้จ่ายในกิจกรรม\",\"Activity duration\":\"ระยะเวลาในการทำกิจกรรม\",\"Fan\":\"พัดลม\",\"Toilet\":\"ห้องน้ำ\",\"Elderly Toilet\":\"ห้องน้ำผู้สูงอายุ\",\"Wheelchair Service\":\"บริการวีลแชร์\",\"Parking Lot\":\"ที่จอดรถ\",\"Pets Allowed\":\"สัตว์เลี้ยงเข้าได้\",\"Smoking Area\":\"ที่สูบบุหรี่\",\"ATM\":\"เอทีเอ็ม\",\"Internet Wifi\":\"บริการอินเตอร์เน็ตไวไฟ\",\"baht/person\":\"บาท/คน\",\"Minutes\":\"นาที\",\"The point\":\"จุดที่\",\"Continue selecting the province topic to search\":\"*ทำการเลือกหัวข้อจังหวัดต่อไปเพื่อค้นหา\",\"This information was not found in the system\":\"ไม่พบข้อมูลนี้อยู่ในระบบ\",\"Loading information from the system\":\"กำลังโหลดข้อมูลจากระบบ\",\"Support for parking\":\"รองรับที่จอดรถ\",\"There is a parking lot\":\"มีที่จอดรถ\",\"No parking\":\"ไม่มีที่จอดรถ\",\"You can reserve in advance\":\"สามารถจองล่วงหน้าได้\",\"Cannot be reserved in advance\":\"ไม่สามารถจองล่วงหน้าได้\",\"Food delivery available\":\"มีบริการจัดส่งอาหาร\",\"Food delivery unavailable\":\"ไม่มีบริการจัดส่งอาหาร\",\"Please select a Title\":\"กรุณาเลือกคำนำหน้า\",\"Mr.\":\"นาย\",\"Mrs.\":\"นาง\",\"Miss.\":\"นางสาว\",\"Change password\":\"เปลี่ยนรหัสผ่าน\",\"Prefix\":\"คำนำหน้า\",\"Old Password\":\"รหัสผ่านเก่า\",\"New Password\":\"รหัสผ่านใหม่\",\"Instructions for setting up a password\":\"คำแนะนำในการตั้งรหัสผ่าน\",\"It should be at least 8 characters in length.\":\"ควรมีความยาวอย่างน้อย 8 ตัว\",\"There should be at least one number [0-9].\":\"ควรมีตัวเลข [0-9] อย่างน้อย 1 ตัว\",\"Should contain at least 1 uppercase English alphabet [A-Z].\":\"ควรมีอักษรภาษาอังกฤษตัวพิมพ์ใหม่ [A-Z] อย่างน้อย 1 ตัว\",\"Should contain at least 1 English alphabet [a-z].\":\"ควรมีอักษรภาษาอังกฤษ [a-z] อย่างน้อย 1 ตัว\",\"New passwords do not match.\":\"รหัสผ่านใหม่ไม่ตรงกัน\",\"Types of tourist attractions\":\"ประเภทแหล่งท่องเที่ยว\",\"Types of travel activities\":\"ประเภทกิจกรรมการท่องเที่ยว\"}}},\"initialLocale\":\"th\",\"ns\":[\"common\"],\"userConfig\":{\"i18n\":{\"defaultLocale\":\"th\",\"locales\":[\"th\",\"en\",\"zh\"],\"localeDetection\":false},\"default\":{\"i18n\":{\"defaultLocale\":\"th\",\"locales\":[\"th\",\"en\",\"zh\"],\"localeDetection\":false}}}},\"data\":{\"ID\":98040,\"MainTypeID\":1,\"IntroImage\":\"https://files.thailandtourismdirectory.go.th/assets/upload/2019/06/06/20190606eccbc87e4b5ce2fe28308fd9f2a7baf3145756.jpg\",\"MapImage\":null,\"Images\":[\"https://files.thailandtourismdirectory.go.th/assets/upload/2019/06/06/20190606eccbc87e4b5ce2fe28308fd9f2a7baf3145756.jpg\"],\"Name\":{\"th\":\"ศูนย์ธรรมชาติวิทยาดอยสุเทพเฉลิมพระเกียรติ\",\"en\":\"Doi Suthep Natural History Center\",\"zh\":\"Doi Suthep Chaloem Phrakiat 自然科学中心(为国王年纪素贴山自然科学中心)\",\"jp\":\"\"},\"Detail\":{\"th\":\"เป็นศูนย์สำหรับนักท่องเที่ยว นักศึกษา และนักเรียนได้ศึกษาเรียนรู้เกี่ยวกับด้านธรรมชาติวิทาของดอยสุเทพ รวมทั้งในด้านประวัติศาสตร์ ศิลปวัฒนธรรม ก่อนที่จะเดินทางไปท่องเที่ยวบนดอยสุเทพ ซึ่งเป็นสถานที่สำคัญทางศาสนาและทางการท่องเที่ยวของจังหวัดเชียงใหม่ \",\"en\":\"It is a center for tourists, students and students to learn about the nature of Doi Suthep. Including in the history, art and culture before traveling to travel on Doi Suthep. which is an important religious and tourism place of Chiang Mai\",\"zh\":\"\",\"jp\":\"\"},\"Address\":{\"th\":\"239 ถนนห้วยแก้ว อำเภอเมือง จังหวัดเชียงใหม่ 50200\",\"en\":\"239 Huay Kaew Road, Muang District, Chiang Mai Province 50200\",\"zh\":\"清迈府 清迈府治县 Huay Kaew路 239 邮编50200\",\"jp\":\"\"},\"TravelRemark\":{\"th\":\"\",\"en\":\"\",\"zh\":\"\",\"jp\":\"\"},\"OpenHourRemark\":{\"th\":\"\",\"en\":\"\",\"zh\":\"\",\"jp\":\"\"},\"MoreDetail\":{\"th\":\"\",\"en\":\"\",\"zh\":\"\",\"jp\":\"\"},\"IntroText\":{},\"Description\":{},\"Latitude\":18.8102959,\"Longitude\":98.9485695,\"SubDistrict\":{\"th\":\"สุเทพ\",\"en\":\"\",\"zh\":\"素帖\"},\"District\":{\"th\":\"เมืองเชียงใหม่\",\"en\":\"Mueang Chiang Mai\",\"zh\":\"清迈\",\"jp\":\"\"},\"Province\":{\"th\":\"เชียงใหม่\",\"en\":\"Chiang Mai\",\"zh\":\"清邁府\",\"jp\":\"\"},\"Region\":{\"th\":\"ภาคเหนือ\",\"en\":\"Northern\",\"zh\":\"ภาคเหนือ\",\"jp\":\"\"},\"IsOpen\":0,\"OpenHours\":{\"Icon\":\"https://files.thailandtourismdirectory.go.th/assets/upload/icons/Source_file-21.png\",\"Items\":[{\"DayID\":2,\"StartTime\":\"2023-11-28T01:30:00.000Z\",\"EndTime\":\"2023-11-28T09:30:00.000Z\",\"th\":{\"Name\":\"วันจันทร์\",\"NameAbbr\":\"จ.\"},\"en\":{\"Name\":\"Monday\",\"NameAbbr\":\"Mon\"},\"zh\":{\"Name\":\"星期一\",\"NameAbbr\":\"星期一\"},\"jp\":{\"Name\":\"\",\"NameAbbr\":\"\"}},{\"DayID\":3,\"StartTime\":\"2023-11-28T01:30:00.000Z\",\"EndTime\":\"2023-11-28T09:30:00.000Z\",\"th\":{\"Name\":\"วันอังคาร\",\"NameAbbr\":\"อ.\"},\"en\":{\"Name\":\"Tuesday\",\"NameAbbr\":\"Tu\"},\"zh\":{\"Name\":\"星期二\",\"NameAbbr\":\"星期二\"},\"jp\":{\"Name\":\"\",\"NameAbbr\":\"\"}},{\"DayID\":4,\"StartTime\":\"2023-11-28T01:30:00.000Z\",\"EndTime\":\"2023-11-28T09:30:00.000Z\",\"th\":{\"Name\":\"วันพุธ\",\"NameAbbr\":\"พ.\"},\"en\":{\"Name\":\"Wednesday\",\"NameAbbr\":\"Wed\"},\"zh\":{\"Name\":\"星期三\",\"NameAbbr\":\"星期三\"},\"jp\":{\"Name\":\"\",\"NameAbbr\":\"\"}},{\"DayID\":5,\"StartTime\":\"2023-11-28T01:30:00.000Z\",\"EndTime\":\"2023-11-28T09:30:00.000Z\",\"th\":{\"Name\":\"วันพฤหัสบดี\",\"NameAbbr\":\"พฤ.\"},\"en\":{\"Name\":\" Thursday\",\"NameAbbr\":\"Thu\"},\"zh\":{\"Name\":\"星期四\",\"NameAbbr\":\"星期四\"},\"jp\":{\"Name\":\"\",\"NameAbbr\":\"\"}},{\"DayID\":6,\"StartTime\":\"2023-11-28T01:30:00.000Z\",\"EndTime\":\"2023-11-28T09:30:00.000Z\",\"th\":{\"Name\":\"วันศุกร์\",\"NameAbbr\":\"ศ.\"},\"en\":{\"Name\":\"Friday\",\"NameAbbr\":\"Fri\"},\"zh\":{\"Name\":\"星期五\",\"NameAbbr\":\"星期五\"},\"jp\":{\"Name\":\"\",\"NameAbbr\":\"\"}},{\"DayID\":7,\"StartTime\":\"2023-11-28T01:30:00.000Z\",\"EndTime\":\"2023-11-28T09:30:00.000Z\",\"th\":{\"Name\":\"วันเสาร์\",\"NameAbbr\":\"ส.\"},\"en\":{\"Name\":\"Saturday\",\"NameAbbr\":\"Sat\"},\"zh\":{\"Name\":\"星期六\",\"NameAbbr\":\"星期六\"},\"jp\":{\"Name\":\"\",\"NameAbbr\":\"\"}},{\"DayID\":1,\"StartTime\":\"2023-11-28T01:30:00.000Z\",\"EndTime\":\"2023-11-28T09:30:00.000Z\",\"th\":{\"Name\":\"วันอาทิตย์\",\"NameAbbr\":\"อา.\"},\"en\":{\"Name\":\"Sunday\",\"NameAbbr\":\"Sun\"},\"zh\":{\"Name\":\"星期天\",\"NameAbbr\":\"星期天\"},\"jp\":{\"Name\":\"\",\"NameAbbr\":\"\"}}]},\"TravelTypes\":{\"Icon\":\"https://files.thailandtourismdirectory.go.th/assets/upload/icons/Source_file-23.png\",\"Items\":[{\"ID\":6,\"th\":\"รถโดยสารประจำทาง\",\"en\":\"Bus\",\"zh\":\"公共汽車\",\"jp\":\"\"},{\"ID\":8,\"th\":\"รถยนต์\",\"en\":\"Car\",\"zh\":\"汽車\",\"jp\":\"\"}]},\"ViewCount\":810,\"FavouriteMaininfos\":{},\"IsEnabled\":\"Y\",\"IsDeleted\":\"N\",\"PostCode\":\"50200\",\"Telephone\":\"053-941451-3\",\"Fax\":\"\",\"Mobile\":\"\",\"Website\":\"\",\"Email\":\"\",\"FacebookUrl\":\"https://www.facebook.com/DSNSC.SciCMU/\",\"LineID\":\"\",\"Twitter\":\"\",\"VdoYoutubeUrl\":null,\"Official\":0,\"OfficialOwner\":\"\",\"SourceDepartment\":{\"th\":\"ศูนย์ปฏิบัติการส่วนกลาง\",\"en\":\"Thailand Digital Tourism Center\",\"zh\":\"中央行動中心\",\"jp\":\"\"},\"UpdatedEditorTeam\":{\"th\":\"dtchiangmai001\",\"en\":\"\",\"zh\":\"\",\"jp\":\"\"},\"Moo\":{\"th\":\"\",\"en\":\"\",\"zh\":\"\",\"jp\":\"\"},\"Soi\":{\"th\":\"\",\"en\":\"\",\"zh\":\"\",\"jp\":\"\"},\"Road\":{\"th\":\"ห้วยแก้ว\",\"en\":\"Huay Kaew\",\"zh\":\"Huay Kaew路\",\"jp\":\"\"},\"ContactName\":{\"th\":\"\",\"en\":\"\",\"zh\":\"\",\"jp\":\"\"},\"ContactPosition\":{\"th\":\"\",\"en\":\"\",\"zh\":\"\",\"jp\":\"\"},\"Rating\":0,\"Attraction\":{\"Info\":{\"Icon\":\"https://files.thailandtourismdirectory.go.th/assets/upload/icons/Source_file-24.png\",\"HasCost\":0,\"CostForeignAdult\":0,\"CostForeignChild\":0,\"CostThaiAdult\":0,\"CostThaiChild\":0},\"Details\":{\"History\":{\"th\":\"\",\"en\":\"\",\"zh\":\"\",\"jp\":\"\"},\"HighSeason\":{\"th\":\"\",\"en\":\"\",\"zh\":\"\",\"jp\":\"\"},\"Feature\":{\"th\":\"\",\"en\":\"\",\"zh\":\"\",\"jp\":\"\"},\"RewardOther\":{\"th\":\"\",\"en\":\"\",\"zh\":\"\",\"jp\":\"\"},\"Keyword\":{\"th\":\"\",\"en\":\"\",\"zh\":\"\",\"jp\":\"\"},\"KeywordRemark\":{\"th\":\"\",\"en\":\"\",\"zh\":\"\",\"jp\":\"\"},\"CostRemark\":{\"th\":\"\",\"en\":\"\",\"zh\":\"\",\"jp\":\"\"},\"UseTime\":{\"th\":\"\",\"en\":\"\",\"zh\":\"\",\"jp\":\"\"},\"Detail\":{\"th\":\"\",\"en\":\"\",\"zh\":\"\",\"jp\":\"\"},\"ResponseDepartment\":{\"th\":\"\",\"en\":\"\",\"zh\":\"\",\"jp\":\"\"},\"AreaSize\":{\"th\":\"\",\"en\":\"\",\"zh\":\"\",\"jp\":\"\"},\"ParkingDetail\":{\"th\":\"\",\"en\":\"\",\"zh\":\"\",\"jp\":\"\"},\"TargetRemark\":{\"th\":\"\",\"en\":\"\",\"zh\":\"\",\"jp\":\"\"}},\"Activities\":[],\"Targets\":{\"Items\":[]},\"Facilities\":[],\"Utilities\":{},\"Types\":[],\"StandardTypes\":[],\"StandardTargets\":{\"Icon\":\"https://files.thailandtourismdirectory.go.th/assets/upload/icons/Source_file-22.png\",\"Items\":[]}}}},\"__N_SSG\":true},\"page\":\"/attraction/[id]\",\"query\":{\"id\":\"98040\"},\"buildId\":\"2L-6W5CCI-51lOOaO_0w5\",\"isFallback\":false,\"gsp\":true,\"locale\":\"th\",\"locales\":[\"th\",\"en\",\"zh\"],\"defaultLocale\":\"th\",\"scriptLoader\":[]}</script><script src=\"https://www.googletagmanager.com/gtag/js?id=G-CSS0J0SR6N\" data-nscript=\"afterInteractive\"></script><script id=\"google-analytics\" data-nscript=\"afterInteractive\">\n",
      "          window.dataLayer = window.dataLayer || [];\n",
      "          function gtag(){dataLayer.push(arguments);}\n",
      "          gtag('js', new Date());\n",
      " \n",
      "          gtag('config', 'G-CSS0J0SR6N');\n",
      "        </script><next-route-announcer><p aria-live=\"assertive\" id=\"__next-route-announcer__\" role=\"alert\" style=\"border: 0px; clip: rect(0px, 0px, 0px, 0px); height: 1px; margin: -1px; overflow: hidden; padding: 0px; position: absolute; width: 1px; white-space: nowrap; overflow-wrap: normal;\"></p></next-route-announcer><script async=\"\" src=\"/assets/js/main.js\"></script><script async=\"\" src=\"/assets/js/main.js\"></script><script async=\"\" src=\"/assets/js/main.js\"></script><script src=\"/_next/static/chunks/3749-7ccf1d4eb189f4cd.js\"></script><script src=\"/_next/static/chunks/pages/index-b16e4998de8760c0.js\"></script></body></html>\n"
     ]
    }
   ],
   "source": [
    "#Open webdriver\n",
    "driver = webdriver.Chrome(path+\"chromedriver.exe\")\n",
    "\n",
    "driver.get(url)\n",
    "print(driver.page_source)\n",
    "\n",
    "time.sleep(5)"
   ]
  },
  {
   "cell_type": "code",
   "execution_count": 15,
   "metadata": {},
   "outputs": [
    {
     "name": "stdout",
     "output_type": "stream",
     "text": [
      "อุทยานแห่งชาติแม่วาง\n"
     ]
    }
   ],
   "source": [
    "name = driver.find_element(By.CSS_SELECTOR, 'h3.headline.d-flex.w-auto')\n",
    "print(name.text)"
   ]
  },
  {
   "cell_type": "code",
   "execution_count": 16,
   "metadata": {},
   "outputs": [
    {
     "name": "stdout",
     "output_type": "stream",
     "text": [
      "ประเภท สถานที่ท่องเที่ยว\n"
     ]
    }
   ],
   "source": [
    "type = driver.find_element(By.CSS_SELECTOR, 'p.business-type-title')\n",
    "print(type.text)"
   ]
  },
  {
   "cell_type": "code",
   "execution_count": 17,
   "metadata": {},
   "outputs": [
    {
     "name": "stdout",
     "output_type": "stream",
     "text": [
      "อุทยานแห่งชาติ เขตรักษาพันธุ์สัตว์ป่า\n"
     ]
    }
   ],
   "source": [
    "type_data = driver.find_element(By.CSS_SELECTOR, 'p.business-type-name.mb-3')\n",
    "print(type_data.text)"
   ]
  },
  {
   "cell_type": "code",
   "execution_count": 19,
   "metadata": {},
   "outputs": [
    {
     "name": "stdout",
     "output_type": "stream",
     "text": [
      "ข้อมูลติดต่อ\n"
     ]
    }
   ],
   "source": [
    "contact = driver.find_element(By.CSS_SELECTOR, 'div.d-block.business-contact').find_element(By.CSS_SELECTOR, 'p.mb-0')\n",
    "print(contact.text)"
   ]
  },
  {
   "cell_type": "code",
   "execution_count": 20,
   "metadata": {},
   "outputs": [
    {
     "name": "stdout",
     "output_type": "stream",
     "text": [
      "เว็บไซต์ : http://park.dnp.go.th/visitor/nationparkshow.php?PTA_CODE=9124 อีเมล :maewang_np@hotmail.com เบอร์โทร :+66 5310 6759\n"
     ]
    }
   ],
   "source": [
    "# Locate the ul element containing the contact information\n",
    "contact_data = driver.find_element(By.CSS_SELECTOR, 'ul.list-unstyled.business-contact-info')\n",
    "\n",
    "# Check if \"go to website\" is present in the contact data\n",
    "if 'go to website' in contact_data.text:\n",
    "    # Replace \"go to website\" with the actual website link\n",
    "    website_link = contact_data.find_element(By.CSS_SELECTOR, 'a.mr-1').get_attribute('href')\n",
    "    contact_info_text = contact_data.text.replace('go to website', website_link)\n",
    "else:\n",
    "    # If \"go to website\" is not present, use the original text\n",
    "    contact_info_text = contact_data.text\n",
    "element = contact_info_text.replace('\\n', ' ')\n",
    "# Print the modified contact information text\n",
    "print(element)\n"
   ]
  },
  {
   "cell_type": "code",
   "execution_count": 23,
   "metadata": {},
   "outputs": [
    {
     "name": "stdout",
     "output_type": "stream",
     "text": [
      "ข้อมูล\n"
     ]
    }
   ],
   "source": [
    "sec = driver.find_element(By.XPATH, '//*[@id=\"__layout\"]/div/div[1]/div/div[3]/div/div[2]/div[1]/div/div/div[1]/div[2]/span/div')\n",
    "print(sec.text)"
   ]
  },
  {
   "cell_type": "code",
   "execution_count": 22,
   "metadata": {},
   "outputs": [
    {
     "name": "stdout",
     "output_type": "stream",
     "text": [
      "เวลาทำการ\n",
      "เปิดทำการ\n",
      "ที่อยู่\n",
      "หมู่ 7 ดอยหล่อ, เชียงใหม่\n"
     ]
    }
   ],
   "source": [
    "sec_data = driver.find_element(By.XPATH, '//*[@id=\"__layout\"]/div/div[1]/div/div[3]/div/div[2]/div[1]/div/div/div[2]/div/div/div/div')\n",
    "print(sec_data.text)"
   ]
  },
  {
   "cell_type": "code",
   "execution_count": 78,
   "metadata": {},
   "outputs": [],
   "source": [
    "actions = ActionChains(driver)\n",
    "cookies = driver.find_element(By.CSS_SELECTOR, 'button.btn.btn-primary.w-100')\n",
    "actions.click(cookies).perform()\n",
    "see_more = driver.find_element(By.CSS_SELECTOR, 'div.highlight-and-fact-see-more-btn')\n",
    "actions.move_to_element(see_more).click().perform()"
   ]
  },
  {
   "cell_type": "code",
   "execution_count": 79,
   "metadata": {},
   "outputs": [],
   "source": [
    "to_know = driver.find_element(By.ID, 'things_to_know')\n",
    "button = driver.find_element(By.CSS_SELECTOR, 'button.btn.btn-opening.d-block.font-weight-bold.font-family-suksa.mt-2.btn-secondary')\n",
    "actions.move_to_element(to_know).click(button).perform()\n",
    "# tooltip = driver.find_element(By.CSS_SELECTOR, 'div.tooltip-inner').text\n",
    "# print(tooltip)"
   ]
  },
  {
   "cell_type": "code",
   "execution_count": null,
   "metadata": {},
   "outputs": [
    {
     "name": "stdout",
     "output_type": "stream",
     "text": [
      "ค่าธรรมเนียมเข้าชม\n",
      "ผู้ใหญ่ - 100.00\n",
      "เด็ก - 20.00\n",
      "เวลาทำการ จันทร์\n",
      "08:00 - 18:00\n",
      "อังคาร\n",
      "08:00 - 18:00\n",
      "พุธ\n",
      "08:00 - 18:00\n",
      "พฤหัส\n",
      "08:00 - 18:00\n",
      "ศุกร์\n",
      "08:00 - 18:00\n",
      "เสาร์\n",
      "08:00 - 18:00\n",
      "อาทิตย์\n",
      "08:00 - 18:00\n",
      "*หยุดวันหยุดนักขัตฤกษ์\n",
      "ที่อยู่\n",
      "เมืองเชียงใหม่, เชียงใหม่\n"
     ]
    }
   ],
   "source": [
    "# Check if 'sec_data' contains the word 'เวลาทำการ' and replace the word after with the tooltip value\n",
    "if 'เวลาทำการ' in sec_data.text:\n",
    "    elements = re.sub(r'เวลาทำการ\\s*\\S+', f'เวลาทำการ {tooltip}', sec_data.text)\n",
    "    print(elements)"
   ]
  },
  {
   "cell_type": "code",
   "execution_count": null,
   "metadata": {},
   "outputs": [],
   "source": [
    "facility = driver.find_element(By.XPATH, '//*[@id=\"__layout\"]/div/div[1]/div/div[3]/div/div[2]/div[3]/div/div[1]/div[2]/span/ul/li/div')\n",
    "print(facility.text)"
   ]
  },
  {
   "cell_type": "code",
   "execution_count": null,
   "metadata": {},
   "outputs": [
    {
     "name": "stdout",
     "output_type": "stream",
     "text": [
      "ที่จอดรถ\n",
      "ห้องน้ำ\n"
     ]
    }
   ],
   "source": [
    "facility_data = driver.find_element(By.XPATH, '//*[@id=\"__layout\"]/div/div[1]/div/div[3]/div/div[2]/div[3]/div/div[2]/div/div/div/div')\n",
    "print(facility_data.text)"
   ]
  },
  {
   "cell_type": "code",
   "execution_count": 25,
   "metadata": {},
   "outputs": [
    {
     "name": "stdout",
     "output_type": "stream",
     "text": [
      "ข้อมูลทั่วไป\n"
     ]
    }
   ],
   "source": [
    "gen = driver.find_element(By.XPATH, '//*[@id=\"interesting_facts\"]/div/div[1]/div[2]/span/ul/li/div')\n",
    "print(gen.text)"
   ]
  },
  {
   "cell_type": "code",
   "execution_count": 26,
   "metadata": {},
   "outputs": [
    {
     "name": "stdout",
     "output_type": "stream",
     "text": [
      "อุทยานแห่งชาติแม่วางครอบคลุมผืนป่าแห่งเทือกเขาสลับซับซ้อนของทิวเขาถนนธงชัยที่ทอดตัวตามแนวเหนือ-ใต้ และมีความสูงจากระดับทะเลปานกลางตั้งแต่ 400-1,909 เมตรจากระดับน้ำทะเลปานกลาง โดยมีดอยผาตั้งเป็นจุดสูงสุด นอกจากนั้นยังมียอดเขาต่างๆ ที่มีความสูงลดหลั่นกันลงมา เช่น ดอยโป่งสมิต ดอยหินหลวง ดอยห้วยหลวง ดอยแม่ลีบ ดอยขุนแม่ซา ดอยผาไล ดอยหน่อ ทั้งยังเป็นแหล่งต้นน้ำของแม่น้ำสำคัญ 3 สาย ได้แก่ แม่น้ำแจ่ม แม่น้ำวางและแม่น้ำตื่น ซึ่งไหลลงสู่แม่น้ำปิง ไฮไลท์แห่งอุทยานฯ - น้ำตกแม่วาง เป็นน้ำตกชั้นเดียวสูงประมาณ 20 เมตร กว้างประมาณ 10 เมตร มีน้ำไหลตลอดทั้งปี มีความสวยงาม เป็นต้นน้ำของแม่น้ำวาง บรรยากาศร่มรื่น โดยรอบเป็นป่าเต็งรัง ป่าเบญจพรรณ ป่าเต็งรังผสมและป่าดิบเขา ตลอดเส้นทางมีจุดให้ศึกษาธรรมชาติ การเดินทาง จากที่ทำการฯ อำเภอแม่วางไปตามถนน รพช. ประมาณ 36 กม. - น้ำตกผาหม่น ตำบลแม่วิน อำเภอแม่วาง เป็นน้ำตกขนาดใหญ่ 3 ชั้น สูงประมาณ 30 เมตร กว้าง 25 เมตร มีน้ำไหลตลอดทั้งปี เป็นต้นน้ำของแม่น้ำวาง รถยนต์เข้าถึงได้ตลอดปี - ดอยผาตั้ง ตำบลแม่วิน อำเภอแม่วาง เป็นดอยที่มีความสูงจากระดับทะเลปานกลาง 1,909 เมตร เป็นส่วนหนึ่งของเทือกเขาดอยอินทนนท์จึงมีอากาศหนาวเย็นตลอดทั้งปี มีฝนตกชุกประปรายในฤดูร้อนและฤดูหนาว ดอยผาตั้งเป็นภูเขาที่มีหน้าผาสูงชัน ลมพัดแรงตลอดปี ต้นไม้ไม่สามารถขึ้นเจริญเติบโตได้ในภูเขาทั้งลูก - น้ำตกตาดหมอก ตำบลยางคราม กิ่งอำเภอดอยหล่อ มี 1 ชั้น สูง 15 เมตร กว้าง 10 เมตร มีน้ำไหลตลอดปี เป็นต้นน้ำของแม่น้ำตื่น - เส้นทางชมทัศนียภาพสายแม่แจ่ม สภาพภูมิทัศน์ตลอดเส้นทางสายอำเภอแม่วาง สู่อำเภอแม่แจ่ม พื้นที่ดังกล่าวมีความสูงจากระดับน้ำทะเลสูง ทำให้สภาพภูมิอากาศคล้ายคลึงกับอุทยานแห่งชาติดอยอินทนนท์ จัดให้เป็นถนนสายแห่งการเที่ยวชมความงดงามตามธรรมชาติ สำหรับผู้ชื่นชอบความงามตามธรรมชาติของขุนเขาสายน้ำ และยอดดอยสูงบรรยากาศหนาวเย็นตลอดปี - ชมความน่าตื่นตาของปรากฏการณ์ทางธรรมชาติที่เรียกกันว่า ผาช่อ ตั้งอยู่ในเขตอำเภอดอยหล่อ ที่นี่เกิดจากการกัดเซาะหิน สันนิษฐานว่าเมื่อหลายร้อยปีก่อนเคยเป็นทางเดินของแม่น้ำปิง ซึ่งสังเกตได้จากก้อนกรวดหินกลมมนกระจัดกระจายอยู่ในเนื้อดินจำนวนมาก ต่อมาแม่น้ำปิงได้เปลี่ยนสาย ย้ายทิศไหลผ่านไปที่อื่น บริเวณนี้ก็ได้ถูกยกตัวเป็นเนินเขาสูง ตะกอนแม่น้ำปิงก่อตัวทับถมกันเป็นชั้น ๆ ผ่านกาลเวลาและถูกกัดเซาะจนกลายเป็นหน้าผาและเสาดินที่มีรูปร่างแปลกตา คล้ายกับแพะเมืองผีในจังหวัดแพร่ หรือฝั่งต้าในจังหวัดพะเยา บางจุดมีลวดลายสวยงามและมีขนาดสูงใหญ่ถึง 30 เมตร ซึ่งผาช่อนั้นครอบคลุมพื้นที่กว้างใหญ่ไพศาลที่ซ่อนตัวอยู่ในหุบเขาในเขตอุทยานแห่งชาติแม่วางนั่นเอง ที่ตั้ง ตำบลสันติสุข อำเภอดอยหล่อ จังหวัดเชียงใหม่ สอบถามเพิ่มเติม โทร. 0 5310 6759\n"
     ]
    }
   ],
   "source": [
    "gen_data = driver.find_element(By.XPATH, '//*[@id=\"interesting_facts\"]/div/div[2]/div/div/div')\n",
    "print(gen_data.text)"
   ]
  },
  {
   "cell_type": "code",
   "execution_count": 27,
   "metadata": {},
   "outputs": [
    {
     "name": "stdout",
     "output_type": "stream",
     "text": [
      "ข้อมูลสำคัญ\n"
     ]
    }
   ],
   "source": [
    "impo = driver.find_element(By.XPATH, '//*[@id=\"__layout\"]/div/div[1]/div/div[3]/div/div[2]/div[5]/div/div/div[1]/div[2]/span/div')\n",
    "print(impo.text)"
   ]
  },
  {
   "cell_type": "code",
   "execution_count": 32,
   "metadata": {},
   "outputs": [
    {
     "name": "stdout",
     "output_type": "stream",
     "text": [
      "\n"
     ]
    }
   ],
   "source": [
    "impo_data = driver.find_element(By.XPATH, '//*[@id=\"__layout\"]/div/div[1]/div/div[3]/div/div[2]/div[5]/div/div/div[2]/div/div/div/div')\n",
    "print(impo_data.text)"
   ]
  },
  {
   "cell_type": "markdown",
   "metadata": {},
   "source": [
    "### All Links"
   ]
  },
  {
   "cell_type": "code",
   "execution_count": 65,
   "metadata": {},
   "outputs": [],
   "source": [
    "urls = [\n",
    "    \"https://thai.tourismthailand.org/Attraction/%E0%B8%A7%E0%B8%B1%E0%B8%94%E0%B8%9B%E0%B9%88%E0%B8%B2%E0%B8%95%E0%B8%B6%E0%B8%87\",\n",
    "    \"https://thai.tourismthailand.org/Attraction/%E0%B8%AA%E0%B8%A7%E0%B8%99%E0%B8%AA%E0%B8%B1%E0%B8%95%E0%B8%A7%E0%B9%8C%E0%B9%80%E0%B8%8A%E0%B8%B5%E0%B8%A2%E0%B8%87%E0%B9%83%E0%B8%AB%E0%B8%A1%E0%B9%88\",\n",
    "    \"https://thai.tourismthailand.org/Attraction/%E0%B9%80%E0%B8%AA%E0%B8%B2%E0%B8%AD%E0%B8%B4%E0%B8%99%E0%B8%97%E0%B8%82%E0%B8%B4%E0%B8%A5-%E0%B9%80%E0%B8%AA%E0%B8%B2%E0%B8%AB%E0%B8%A5%E0%B8%B1%E0%B8%81%E0%B9%80%E0%B8%A1%E0%B8%B7%E0%B8%AD%E0%B8%87\",\n",
    "    \"https://thai.tourismthailand.org/Attraction/%E0%B8%AD%E0%B8%B8%E0%B8%97%E0%B8%A2%E0%B8%B2%E0%B8%99%E0%B9%81%E0%B8%AB%E0%B9%88%E0%B8%87%E0%B8%8A%E0%B8%B2%E0%B8%95%E0%B8%B4%E0%B9%81%E0%B8%A1%E0%B9%88%E0%B8%A7%E0%B8%B2%E0%B8%87\",\n",
    "    \"https://thai.tourismthailand.org/Attraction/%E0%B8%A3%E0%B9%89%E0%B8%B2%E0%B8%99%E0%B9%80%E0%B8%84%E0%B8%A3%E0%B8%B7%E0%B9%88%E0%B8%AD%E0%B8%87%E0%B9%80%E0%B8%87%E0%B8%B4%E0%B8%99%E0%B8%A7%E0%B8%B1%E0%B8%A7%E0%B8%A5%E0%B8%B2%E0%B8%A2\"\n",
    "]"
   ]
  },
  {
   "cell_type": "code",
   "execution_count": 66,
   "metadata": {},
   "outputs": [],
   "source": [
    "def extract_data(url):\n",
    "    driver = webdriver.Chrome(path+\"chromedriver.exe\")\n",
    "    driver.get(url)\n",
    "    driver.implicitly_wait(5)\n",
    "    \n",
    "    try:\n",
    "        actions = ActionChains(driver)\n",
    "        cookies = driver.find_element(By.CSS_SELECTOR, 'button.btn.btn-primary.w-100')\n",
    "        actions.click(cookies).perform()\n",
    "        see_more = driver.find_element(By.CSS_SELECTOR, 'div.highlight-and-fact-see-more-btn')\n",
    "        actions.move_to_element(see_more).click().perform()\n",
    "        time.sleep(1)\n",
    "        to_know = driver.find_element(By.ID, 'things_to_know')\n",
    "        button = driver.find_element(By.CSS_SELECTOR, 'button.btn.btn-opening.d-block.font-weight-bold.font-family-suksa.mt-2.btn-secondary')\n",
    "        actions.move_to_element(to_know).click(button).perform()\n",
    "        time.sleep(1)\n",
    "        tooltip = driver.find_element(By.CSS_SELECTOR, 'div.tooltip-inner').text\n",
    "\n",
    "    except NoSuchElementException:\n",
    "        tooltip = \"\"\n",
    "        \n",
    "    # Elements to extract with their corresponding CSS selectors\n",
    "    elements_to_extract = {\n",
    "        \"name\": 'h3.headline.d-flex.w-auto',\n",
    "        \"type\": 'p.business-type-title',\n",
    "        \"type_data\": 'p.business-type-name.mb-3',\n",
    "        \"contact\": 'div.d-block.business-contact',\n",
    "        \"contact_data\": 'ul.list-unstyled.business-contact-info',\n",
    "        \"sec\": '//*[@id=\"__layout\"]/div/div[1]/div/div[3]/div/div[2]/div[1]/div/div/div[1]/div[2]/span/div',\n",
    "        \"sec_data\": '//*[@id=\"__layout\"]/div/div[1]/div/div[3]/div/div[2]/div[1]/div/div/div[2]/div/div/div/div',\n",
    "        \"facility\": '//*[@id=\"__layout\"]/div/div[1]/div/div[3]/div/div[2]/div[3]/div/div[1]/div[2]/span/ul/li/div',\n",
    "        \"facility_data\": '//*[@id=\"__layout\"]/div/div[1]/div/div[3]/div/div[2]/div[3]/div/div[2]/div/div/div/div',\n",
    "        \"gen\": '//*[@id=\"interesting_facts\"]/div/div[1]/div[2]/span/ul/li/div',\n",
    "        \"gen_data\": '//*[@id=\"interesting_facts\"]/div/div[2]/div/div/div',\n",
    "        \"impo\": '//*[@id=\"__layout\"]/div/div[1]/div/div[3]/div/div[2]/div[5]/div/div/div[1]/div[2]/span/div',\n",
    "        \"impo_data\": '//*[@id=\"__layout\"]/div/div[1]/div/div[3]/div/div[2]/div[5]/div/div/div[2]/div/div/div/div'\n",
    "    }\n",
    "\n",
    "    extracted_data = {}\n",
    "\n",
    "    for key, selector in elements_to_extract.items():\n",
    "        try:\n",
    "            if selector.startswith('/'):\n",
    "                # If the selector starts with '/', it is an XPath\n",
    "                element = driver.find_element(By.XPATH, selector).text\n",
    "\n",
    "            elif key == \"contact\":\n",
    "                # Because CSS_SELECTOR = 'p.mb-0' is used repeatedly in multiple elements\n",
    "                element = driver.find_element(By.CSS_SELECTOR, selector).find_element(By.CSS_SELECTOR, 'p.mb-0').text\n",
    "            \n",
    "            else:\n",
    "                # Otherwise, assume it is a CSS selector\n",
    "                element = driver.find_element(By.CSS_SELECTOR, selector).text\n",
    "\n",
    "            # Check if the key is 'contact' and if \"go to website\" is present in the text\n",
    "            if key == \"contact_data\" and 'go to website' in element:\n",
    "                # Replace \"go to website\" with the actual website link\n",
    "                website_link = driver.find_element(By.CSS_SELECTOR, 'a.mr-1').get_attribute('href')\n",
    "                element = element.replace('go to website', website_link)\n",
    "\n",
    "            # Check if 'sec_data' contains the word 'เวลาทำการ' and replace the word after with the tooltip value\n",
    "            if key == \"sec_data\" and 'เวลาทำการ' in element:\n",
    "                element = re.sub(r'เวลาทำการ\\s*\\S+', f'เวลาทำการ {tooltip}', element)\n",
    "\n",
    "            # Remove newline characters from the text\n",
    "            element = element.replace('\\n', \" \")\n",
    "            element = element.replace('\"', \"\")\n",
    "\n",
    "            # Check if the element contains only special characters\n",
    "            if re.match(r'^[^A-Za-z0-9ก-๙]+$', element):\n",
    "                element = \"\"\n",
    "                \n",
    "        except NoSuchElementException:\n",
    "            element = \"\"\n",
    "        \n",
    "        extracted_data[key] = element\n",
    "\n",
    "    # Check conditions and update values accordingly\n",
    "    for data, data_key in [('sec', 'sec_data'), ('facility', 'facility_data'), ('gen', 'gen_data'), ('impo', 'impo_data')]:\n",
    "        if extracted_data[data_key] == \"\" or extracted_data[data_key] == \" \":\n",
    "            extracted_data[data] = \"\"\n",
    "            extracted_data[data_key] = \"\"\n",
    "\n",
    "    table_dict = {\n",
    "        \"name\": f\"{extracted_data['name']}\",\n",
    "        \"type\": f\"{extracted_data['type']}{extracted_data['type_data']}\",\n",
    "        \"contact\": f\"{extracted_data['contact']}{extracted_data['contact_data']}\",\n",
    "        \"section\": f\"{extracted_data['sec']}{extracted_data['sec_data']}\",\n",
    "        \"facility\": f\"{extracted_data['facility']}{extracted_data['facility_data']}\",\n",
    "        \"general\": f\"{extracted_data['gen']}{extracted_data['gen_data']}\",\n",
    "        \"important\": f\"{extracted_data['impo']}{extracted_data['impo_data']}\"\n",
    "    }\n",
    "\n",
    "    # Create a dictionary with the extracted data\n",
    "    content_dict = {\n",
    "        'content': f\"{extracted_data['name']} เป็น{extracted_data['type']}แบบ{extracted_data['type_data']} \\\n",
    "{extracted_data['contact']}{extracted_data['contact_data']} {extracted_data['sec_data']} \\\n",
    "{extracted_data['facility']}{extracted_data['facility_data']} \\\n",
    "{extracted_data['gen']}{extracted_data['gen_data']} \\\n",
    "{extracted_data['impo']}{extracted_data['impo_data']}\"\n",
    "    }\n",
    "\n",
    "    driver.quit()\n",
    "    return table_dict, content_dict"
   ]
  },
  {
   "cell_type": "code",
   "execution_count": 67,
   "metadata": {},
   "outputs": [
    {
     "name": "stderr",
     "output_type": "stream",
     "text": [
      "C:\\Users\\MSII\\AppData\\Local\\Temp\\ipykernel_21984\\3076115809.py:2: DeprecationWarning: executable_path has been deprecated, please pass in a Service object\n",
      "  driver = webdriver.Chrome(path+\"chromedriver.exe\")\n"
     ]
    }
   ],
   "source": [
    "# Lists to store extracted data\n",
    "table_list = []\n",
    "content_list = []\n",
    "\n",
    "# Iterate through the URLs and extract data\n",
    "for url in urls:\n",
    "    table, content = extract_data(url)\n",
    "    table_list.append(table)\n",
    "    content_list.append(content)"
   ]
  },
  {
   "cell_type": "code",
   "execution_count": 68,
   "metadata": {},
   "outputs": [
    {
     "data": {
      "text/plain": [
       "[{'name': 'วัดป่าตึง',\n",
       "  'type': 'ประเภท สถานที่ท่องเที่ยววัด',\n",
       "  'contact': 'ข้อมูลติดต่อเบอร์โทร :+66 5388 0061',\n",
       "  'section': 'ข้อมูลที่อยู่ หมู่ 7 สันกำแพง, เชียงใหม่',\n",
       "  'facility': 'เครื่องอำนวยความสะดวกที่จอดรถ',\n",
       "  'general': 'ข้อมูลทั่วไปหลวงปู่หล้า ตาทิพย์ วัดป่าตึง ตั้งอยู่ในเขตตำบลออนใต้ อำเภอสันกำแพง เดิมเป็นวัดร้าง คู่กับวัดเชียงแสน ก่อนที่จะสร้างวัดนี้ขึ้นมาได้พบพระบรมสารีริกธาตุ และของมีค่ามากมายหลายอย่าง ความน่าสนใจของวัดป่าตึง คือการเป็นวัดเก่าคู่กับวัดเชียงแสน แม้จะเป็นวัดร้างก็ตาม แต่ก็มีการค้นพบพระบรมสารีริกธาตุและของมีค่ามากมายหลายอย่าง อาทิ วัตถุโบราณ พระพุทธรูป เครื่องถ้วยชามสังคโลก ซึ่งปัจจุบันเก็บอยู่ในพิพิธภัณฑ์เครื่องถ้วยชามที่ตั้งอยู่ภายในบริเวณวัด นอกจากนี้ภายในศาลาการเปรียญยังเป็นที่ตั้งศพของเกจิอาจารย์ชื่อดัง คือหลวงปู่หล้า ซึ่งสังขารของท่านไม่เน่าเปื่อยให้ผู้ที่มีศรัทธาได้บูชา ในขณะที่ท่านมีชีวิตอยู่นั้น ท่านได้รับสมญานามจากศรัทธาญาติโยมว่าเป็นพระภิกษุที่มีญาณวิเศษ ที่สามารถล่วงรู้เหตุการณ์ในอนาคตได้ หลายคนจึงขนานนามท่านว่า หลวงปู่หล้า ตาทิพย์ ท่านเป็นพระเกจิอีกรูปหนึ่งที่ปฏิบัติดี ปฏิบัติชอบ ตั้งตนอยู่ในหลักศีลธรรมอันงดงามมาโดยตลอด หลวงปู่หล้า หรือพระครูจันทสมานคุณ นั้น เกิดในรัชสมัยของพระบาทสมเด็จพระพุทธเจ้าหลวง รัชกาลที่ 5 ซึ่งอยู่ในช่วงผลัดเปลี่ยนเจ้าผู้ครองนครเชียงใหม่ สมัยของเจ้าอินทวิชยานนท์ เจ้าผู้ครองนครเชียงใหม่องค์ที่ 7 (พ.ศ. 2426-2439) กับเจ้าอินทวโรรสสุริยวงศ์ เจ้าผู้ครองนครเชียงใหม่องค์ที่ 8 (พ.ศ. 2442-2452) โดยท่านเกิดเมื่อวันพฤหัสบดีที่ 22 กันยายน พ.ศ. 2441 ที่บ้านปง ตำบลออนใต้ อำเภอสันกำแพง จังหวัดเชียงใหม่ เมื่ออายุได้ 8 ขวบ โยมแม่ก็นำไปฝากกับครูบาปินตา เจ้าอาวาสวัดป่าตึง ท่านจึงได้มีโอกาสเรียนหนังสือเป็นครั้งแรก ซึ่งสมัยนั้นจะเรียนหนังสือพื้นเมืองจนอายุได้ 11 ขวบ ก็ได้บวชเป็นสามเณรในช่วงเข้ารุกขมูล และเข้ากรรมอยู่ในป่า การเข้ากรรมหรืออยู่กรรมนั้น เรียกว่าประเพณีเข้าโสสานกรรม ซึ่งเป็นประเพณีที่สำคัญอย่างหนึ่งของพระพุทธศาสนา ที่พระสงฆ์จะต้องถือปฏิบัติอย่างเคร่งครัด ซึ่งมักกระทำกันในบริเวณป่าช้าที่อยู่นอกวัด พระสงฆ์และผู้ที่เข้าบำเพ็ญโสสานกรรมจะต้องถือปฏิบัติเคร่งครัด เพื่อต้องการบรรเทากิเลสตัณหา เมื่ออายุได้ 18 ปี จึงเดินทางไปจำพรรษาอยู่ในเมืองเชียงใหม่เพื่อเรียนนักธรรมที่วัดเชตุพน เรียนได้ยังไม่ทันสำเร็จต้องกลับวัดป่าตึง เพื่อปรนนิบัติครูบาปินตาที่ชราภาพ จนกระทั่งปี พ.ศ. 2467 ครูบาปินตาก็มรณภาพด้วยวัย 74 ปี และหลวงปู่หล้าได้รับตำแหน่งเจ้าอาวาสวัดป่าตึงต่อจากครูบาปินตาแทน เมื่อปี พ.ศ. 2467 โดยท่านได้รับการแต่งตั้งสมณศักดิ์เป็นพระครูจันทสมานคุณ ซึ่งขณะนั้นมีอายุ 63 ปี และได้มรณภาพลงเมื่อวันที่ 16 กุมภาพันธ์ 2536 ในขณะที่มีอายุได้ 97 ปี ที่ตั้ง : ตั้งอยู่ในเขตตำบลออนใต้ อำเภอสันกำแพง จังหวัดเชียงใหม่',\n",
       "  'important': 'ข้อมูลสำคัญมาตรการด้านสุขอนามัยและความปลอดภัย  มีการทำความสะอาดสถานที่อย่างสม่ำเสมอ มีจุดให้บริการเจลแอลกอฮอล์หรือจุดล้างมือ นักท่องเที่ยวต้องสวมหน้ากากอนามัย พนักงานต้องสวมหน้ากากอนามัย'},\n",
       " {'name': 'สวนสัตว์เชียงใหม่',\n",
       "  'type': 'ประเภท สถานที่ท่องเที่ยวสวนสัตว์ และพิพิธภัณฑ์สัตว์น้ำ',\n",
       "  'contact': 'ข้อมูลติดต่อเว็บไซต์ : https://www.chiangmaizoo.com/ เบอร์โทร :+66 5322 1179',\n",
       "  'section': 'ข้อมูลค่าธรรมเนียมเข้าชม ผู้ใหญ่ - 100.00 เด็ก - 20.00 เวลาทำการ จันทร์ 08:00 - 18:00 อังคาร 08:00 - 18:00 พุธ 08:00 - 18:00 พฤหัส 08:00 - 18:00 ศุกร์ 08:00 - 18:00 เสาร์ 08:00 - 18:00 อาทิตย์ 08:00 - 18:00 *หยุดวันหยุดนักขัตฤกษ์ ที่อยู่ เมืองเชียงใหม่, เชียงใหม่',\n",
       "  'facility': 'เครื่องอำนวยความสะดวกที่จอดรถ ห้องน้ำ',\n",
       "  'general': 'ข้อมูลทั่วไปเป็นสวนสัตว์ขนาดใหญ่ได้รับการจัดสภาพอย่างดี ภายในมีเชียงใหม่ ซู อควาเรียม พิพิธภัณฑ์สัตว์น้ำ อุโมงค์ใต้น้ำที่ยาวที่สุดในเอเชีย บริเวณกว้างขวาง รวบรวมพันธุ์สัตว์น้ำจืดและน้ำเค็มจากไทยและต่างประเทศ ตั้งอยู่ถนนห้วยแก้ว ห่างจากตัวเมือง 5 กิโลเมตร เป็นสวนสัตว์ขนาดใหญ่ มีสัตว์ทั้งที่มีอยู่ในเมืองไทยและนำมาจากต่างประเทศ เช่น โคอาล่าจากออสเตรเลีย สวนนกเพนกวินและสวนนกฟินซ์ นอกจากนั้นยังมี เชียงใหม่ ซู อควาเรียม เป็นอาคาร 2 ชั้น ชั้นบนเป็นนิทรรศการเพื่อการเรียนรู้ระบบนิเวศวิทยาทางน้ำ การจำลองระบบนิเวศ และมีโซนจัดแสดงแมลงนานาชนิดซึ่งใกล้สูญพันธ์ุ ชั้นล่างมีอุโมงค์ใต้น้ำยาว 133 เมตร รวบรวมพันธุ์สัตว์น้ำทั้งปลาน้ำจืดและปลาน้ำเค็ม และยังมี Snow Dome อีกด้วย เปิดบริการทุกวัน ตั้งแต่เวลา 08.00-18.00 น. เปิดขายบัตรถึงเวลา 17.00 น. ค่าเข้าชมชาวไทย ผู้ใหญ่ 100 บาท เด็กสูงไม่เกิน 135 เซนติเมตร 20 บาท ชาวต่างชาติ ผู้ใหญ่ 150 บาท เด็ก 70 บาท',\n",
       "  'important': 'ข้อมูลสำคัญได้รับตรามาตรฐานท่องเที่ยวปลอดภัยด้านสุขอนามัย (SHA) จากกระทรวงการท่องเที่ยวและกีฬาโดยการท่องเที่ยวแห่งประเทศไทย (ททท.) และกระทรวงสาธารณสุขโดยกรมควบคุมโรค กรมอนามัย กรมสนับสนุนบริการสุขภาพ และหน่วยงานภาครัฐและเอกชนในอุตสาหกรรมท่องเที่ยว มีการทำความสะอาดสถานที่อย่างสม่ำเสมอ มีจุดให้บริการเจลแอลกอฮอล์หรือจุดล้างมือ มีการเช็คอินไทยชนะ นักท่องเที่ยวต้องสวมหน้ากากอนามัย พนักงานต้องสวมหน้ากากอนามัย มีจุดตรวจวัดอุณหภูมิ รักษาระยะห่าง เช่น มีแผ่นกั้นที่เคาน์เตอร์ สามารถชำระเงินแบบลดการสัมผัส เช่น ชำระผ่าน qr code/บัตรเครดิต/บัตรเครดิตแบบ contactless (อื่นๆ) 2000 คนต่อ วัน'},\n",
       " {'name': 'เสาอินทขิล (เสาหลักเมือง)',\n",
       "  'type': 'ประเภท สถานที่ท่องเที่ยวสถานที่เกี่ยวกับศาสนาอื่นๆ',\n",
       "  'contact': '',\n",
       "  'section': 'ข้อมูลที่อยู่ เมืองเชียงใหม่, เชียงใหม่',\n",
       "  'facility': 'เครื่องอำนวยความสะดวกที่จอดรถ',\n",
       "  'general': 'ข้อมูลทั่วไปเป็นหลักเมืองเมื่อครั้งพ่อขุนเม็งรายมหาราชสร้างเมืองเชียงใหม่ เมื่อปี พ.ศ. 1839 ปัจจุบันนี้อยู่ตรงหน้าวัดเจดีย์หลวง เสาอินทขิลนี้ประดิษฐานอยู่ในวิหารจตุรมุขทรงไทยหลังเล็ก ๆ หลักอินทขิลสร้างด้วยไม้ซุงต้นใหญ่ ฝังอยู่ใต้ดิน ทุกปีประมาณเดือนพฤษภาคมจะมีงานเรียกว่า เข้าอินทขิล เป็นการฉลองหลักเมือง สักการะ เสาอินทขิล หรือเสาหลักเมืองที่ถูกสร้างขึ้นมา เมื่อครั้งพ่อขุนเม็งรายมหาราชจะสถาปนาเมืองเชียงใหม่ ในช่วงประมาณปี พ.ศ. 1839 โดยตั้งแต่แรกเริ่มนั้น เสาอินทขิลได้ประดิษฐานอยู่ภายในวิหารของวัดอินทขิลสะดือเมือง หรือวัดสะดือเมือง ต่อมาประมาณปี พ.ศ. 2343 พระเจ้ากาวิละซึ่งเป็นเจ้าผู้ครองนครเชียงใหม่ในสมัยนั้น ได้ร่วมมือกับกองทัพของพระเจ้าตากสินมหาราช ทำการขับไล่พม่าออกจากดินแดนล้านนาได้สำเร็จ จากนั้นได้ฟื้นฟูเมืองเชียงใหม่ขึ้นมาอีกครั้งหนึ่ง โดยได้ย้ายเสาอินทขิลมาประดิษฐานอยู่ ณ วัดเจดีย์หลวง โดยประดิษฐานอยู่ในวิหารจตุรมุขทรงไทยหลังเล็ก ๆ หน้าวัดตั้งแต่นั้นมาจวบจนปัจจุบัน เสาอินทขิลสำคัญอย่างไร เสาอินทขิลของเมืองเชียงใหม่สร้างขึ้นด้วยพื้นฐานความเชื่อที่ว่าการสร้างเมืองในสมัยก่อน จะต้องมีเสาหลักเมืองเป็นศูนย์รวมแห่งความเชื่อความศรัทธา และจะต้องตั้งอยู่ศูนย์กลางของเมือง ที่เรียกว่า สะดือเมือง เพื่อเป็นที่เคารพสักการะของชาวเมือง ว่ากันว่า เสาหลักเมืองเป็นเสาแห่งความมั่นคงตามดวงชะตา ที่จะกำหนดความเจริญและความเสื่อมของเมือง ซึ่งในส่วนของตัวเสาหลักอินทขิลนี้ สร้างด้วยไม้ซุงต้นใหญ่ ที่ฝังอยู่ใต้ดิน โดยทุกปีในช่วงประมาณเดือนพฤษภาคมจะมีงานพิธีบูชาเสาอินทขิล ซึ่งเรียกกันว่า เข้าอินทขิล ถือเป็นการบูชาและพิธีฉลองหลักเมืองของชาวเชียงใหม่ซึ่งเชื่อกันว่าเสาอินทขิลเป็นเสาหลักที่สร้างความมั่นคง การอยู่ดีมีสุข ดังนั้นชาวเมืองเชียงใหม่จึงนิยมมาขอพรจากเสาอินทขิลเพื่อเสริมความเป็นสิริมงคลให้แก่ตนเองและครอบครัว ที่ตั้ง : ซึ่งตั้งอยู่เลขที่ 103 ถนนพระปกเกล้า ตำบลพระสิงห์ อำเภอเมืองเชียงใหม่ จังหวัดเชียงใหม่',\n",
       "  'important': ''},\n",
       " {'name': 'อุทยานแห่งชาติแม่วาง',\n",
       "  'type': 'ประเภท สถานที่ท่องเที่ยวอุทยานแห่งชาติ เขตรักษาพันธุ์สัตว์ป่า',\n",
       "  'contact': 'ข้อมูลติดต่อเว็บไซต์ : http://park.dnp.go.th/visitor/nationparkshow.php?PTA_CODE=9124 อีเมล :maewang_np@hotmail.com เบอร์โทร :+66 5310 6759',\n",
       "  'section': 'ข้อมูลเวลาทำการ จันทร์ 08:30 - 16:30 อังคาร 08:30 - 16:30 พุธ 08:30 - 16:30 พฤหัส 08:30 - 16:30 ศุกร์ 08:30 - 16:30 เสาร์ 08:30 - 16:30 อาทิตย์ 08:30 - 16:30 *หยุดวันหยุดนักขัตฤกษ์ ที่อยู่ หมู่ 7 ดอยหล่อ, เชียงใหม่',\n",
       "  'facility': '',\n",
       "  'general': 'ข้อมูลทั่วไปอุทยานแห่งชาติแม่วางครอบคลุมผืนป่าแห่งเทือกเขาสลับซับซ้อนของทิวเขาถนนธงชัยที่ทอดตัวตามแนวเหนือ-ใต้ และมีความสูงจากระดับทะเลปานกลางตั้งแต่ 400-1,909 เมตรจากระดับน้ำทะเลปานกลาง โดยมีดอยผาตั้งเป็นจุดสูงสุด นอกจากนั้นยังมียอดเขาต่างๆ ที่มีความสูงลดหลั่นกันลงมา เช่น ดอยโป่งสมิต ดอยหินหลวง ดอยห้วยหลวง ดอยแม่ลีบ ดอยขุนแม่ซา ดอยผาไล ดอยหน่อ ทั้งยังเป็นแหล่งต้นน้ำของแม่น้ำสำคัญ 3 สาย ได้แก่ แม่น้ำแจ่ม แม่น้ำวางและแม่น้ำตื่น ซึ่งไหลลงสู่แม่น้ำปิง ไฮไลท์แห่งอุทยานฯ - น้ำตกแม่วาง เป็นน้ำตกชั้นเดียวสูงประมาณ 20 เมตร กว้างประมาณ 10 เมตร มีน้ำไหลตลอดทั้งปี มีความสวยงาม เป็นต้นน้ำของแม่น้ำวาง บรรยากาศร่มรื่น โดยรอบเป็นป่าเต็งรัง ป่าเบญจพรรณ ป่าเต็งรังผสมและป่าดิบเขา ตลอดเส้นทางมีจุดให้ศึกษาธรรมชาติ การเดินทาง จากที่ทำการฯ อำเภอแม่วางไปตามถนน รพช. ประมาณ 36 กม. - น้ำตกผาหม่น ตำบลแม่วิน อำเภอแม่วาง เป็นน้ำตกขนาดใหญ่ 3 ชั้น สูงประมาณ 30 เมตร กว้าง 25 เมตร มีน้ำไหลตลอดทั้งปี เป็นต้นน้ำของแม่น้ำวาง รถยนต์เข้าถึงได้ตลอดปี - ดอยผาตั้ง ตำบลแม่วิน อำเภอแม่วาง เป็นดอยที่มีความสูงจากระดับทะเลปานกลาง 1,909 เมตร เป็นส่วนหนึ่งของเทือกเขาดอยอินทนนท์จึงมีอากาศหนาวเย็นตลอดทั้งปี มีฝนตกชุกประปรายในฤดูร้อนและฤดูหนาว ดอยผาตั้งเป็นภูเขาที่มีหน้าผาสูงชัน ลมพัดแรงตลอดปี ต้นไม้ไม่สามารถขึ้นเจริญเติบโตได้ในภูเขาทั้งลูก - น้ำตกตาดหมอก ตำบลยางคราม กิ่งอำเภอดอยหล่อ มี 1 ชั้น สูง 15 เมตร กว้าง 10 เมตร มีน้ำไหลตลอดปี เป็นต้นน้ำของแม่น้ำตื่น - เส้นทางชมทัศนียภาพสายแม่แจ่ม สภาพภูมิทัศน์ตลอดเส้นทางสายอำเภอแม่วาง สู่อำเภอแม่แจ่ม พื้นที่ดังกล่าวมีความสูงจากระดับน้ำทะเลสูง ทำให้สภาพภูมิอากาศคล้ายคลึงกับอุทยานแห่งชาติดอยอินทนนท์ จัดให้เป็นถนนสายแห่งการเที่ยวชมความงดงามตามธรรมชาติ สำหรับผู้ชื่นชอบความงามตามธรรมชาติของขุนเขาสายน้ำ และยอดดอยสูงบรรยากาศหนาวเย็นตลอดปี - ชมความน่าตื่นตาของปรากฏการณ์ทางธรรมชาติที่เรียกกันว่า ผาช่อ ตั้งอยู่ในเขตอำเภอดอยหล่อ ที่นี่เกิดจากการกัดเซาะหิน สันนิษฐานว่าเมื่อหลายร้อยปีก่อนเคยเป็นทางเดินของแม่น้ำปิง ซึ่งสังเกตได้จากก้อนกรวดหินกลมมนกระจัดกระจายอยู่ในเนื้อดินจำนวนมาก ต่อมาแม่น้ำปิงได้เปลี่ยนสาย ย้ายทิศไหลผ่านไปที่อื่น บริเวณนี้ก็ได้ถูกยกตัวเป็นเนินเขาสูง ตะกอนแม่น้ำปิงก่อตัวทับถมกันเป็นชั้น ๆ ผ่านกาลเวลาและถูกกัดเซาะจนกลายเป็นหน้าผาและเสาดินที่มีรูปร่างแปลกตา คล้ายกับแพะเมืองผีในจังหวัดแพร่ หรือฝั่งต้าในจังหวัดพะเยา บางจุดมีลวดลายสวยงามและมีขนาดสูงใหญ่ถึง 30 เมตร ซึ่งผาช่อนั้นครอบคลุมพื้นที่กว้างใหญ่ไพศาลที่ซ่อนตัวอยู่ในหุบเขาในเขตอุทยานแห่งชาติแม่วางนั่นเอง ที่ตั้ง ตำบลสันติสุข อำเภอดอยหล่อ จังหวัดเชียงใหม่ สอบถามเพิ่มเติม โทร. 0 5310 6759',\n",
       "  'important': ''},\n",
       " {'name': 'ร้านเครื่องเงินวัวลาย',\n",
       "  'type': 'ประเภท สถานที่ท่องเที่ยวหมู่บ้าน ชุมชน',\n",
       "  'contact': '',\n",
       "  'section': 'ข้อมูลเวลาทำการ จันทร์ 06:00 - 18:00 อังคาร 06:00 - 18:00 พุธ 06:00 - 18:00 พฤหัส 06:00 - 18:00 ศุกร์ 06:00 - 18:00 เสาร์ 06:00 - 18:00 อาทิตย์ 06:00 - 18:00 *หยุดวันหยุดนักขัตฤกษ์ ที่อยู่ 93 หมู่ 4 เมืองเชียงใหม่, เชียงใหม่',\n",
       "  'facility': '',\n",
       "  'general': '',\n",
       "  'important': ''}]"
      ]
     },
     "execution_count": 68,
     "metadata": {},
     "output_type": "execute_result"
    }
   ],
   "source": [
    "table_list"
   ]
  },
  {
   "cell_type": "code",
   "execution_count": 69,
   "metadata": {},
   "outputs": [
    {
     "data": {
      "text/plain": [
       "[{'content': 'วัดป่าตึง เป็นประเภท สถานที่ท่องเที่ยวแบบวัด ข้อมูลติดต่อเบอร์โทร :+66 5388 0061 ที่อยู่ หมู่ 7 สันกำแพง, เชียงใหม่ เครื่องอำนวยความสะดวกที่จอดรถ ข้อมูลทั่วไปหลวงปู่หล้า ตาทิพย์ วัดป่าตึง ตั้งอยู่ในเขตตำบลออนใต้ อำเภอสันกำแพง เดิมเป็นวัดร้าง คู่กับวัดเชียงแสน ก่อนที่จะสร้างวัดนี้ขึ้นมาได้พบพระบรมสารีริกธาตุ และของมีค่ามากมายหลายอย่าง ความน่าสนใจของวัดป่าตึง คือการเป็นวัดเก่าคู่กับวัดเชียงแสน แม้จะเป็นวัดร้างก็ตาม แต่ก็มีการค้นพบพระบรมสารีริกธาตุและของมีค่ามากมายหลายอย่าง อาทิ วัตถุโบราณ พระพุทธรูป เครื่องถ้วยชามสังคโลก ซึ่งปัจจุบันเก็บอยู่ในพิพิธภัณฑ์เครื่องถ้วยชามที่ตั้งอยู่ภายในบริเวณวัด นอกจากนี้ภายในศาลาการเปรียญยังเป็นที่ตั้งศพของเกจิอาจารย์ชื่อดัง คือหลวงปู่หล้า ซึ่งสังขารของท่านไม่เน่าเปื่อยให้ผู้ที่มีศรัทธาได้บูชา ในขณะที่ท่านมีชีวิตอยู่นั้น ท่านได้รับสมญานามจากศรัทธาญาติโยมว่าเป็นพระภิกษุที่มีญาณวิเศษ ที่สามารถล่วงรู้เหตุการณ์ในอนาคตได้ หลายคนจึงขนานนามท่านว่า หลวงปู่หล้า ตาทิพย์ ท่านเป็นพระเกจิอีกรูปหนึ่งที่ปฏิบัติดี ปฏิบัติชอบ ตั้งตนอยู่ในหลักศีลธรรมอันงดงามมาโดยตลอด หลวงปู่หล้า หรือพระครูจันทสมานคุณ นั้น เกิดในรัชสมัยของพระบาทสมเด็จพระพุทธเจ้าหลวง รัชกาลที่ 5 ซึ่งอยู่ในช่วงผลัดเปลี่ยนเจ้าผู้ครองนครเชียงใหม่ สมัยของเจ้าอินทวิชยานนท์ เจ้าผู้ครองนครเชียงใหม่องค์ที่ 7 (พ.ศ. 2426-2439) กับเจ้าอินทวโรรสสุริยวงศ์ เจ้าผู้ครองนครเชียงใหม่องค์ที่ 8 (พ.ศ. 2442-2452) โดยท่านเกิดเมื่อวันพฤหัสบดีที่ 22 กันยายน พ.ศ. 2441 ที่บ้านปง ตำบลออนใต้ อำเภอสันกำแพง จังหวัดเชียงใหม่ เมื่ออายุได้ 8 ขวบ โยมแม่ก็นำไปฝากกับครูบาปินตา เจ้าอาวาสวัดป่าตึง ท่านจึงได้มีโอกาสเรียนหนังสือเป็นครั้งแรก ซึ่งสมัยนั้นจะเรียนหนังสือพื้นเมืองจนอายุได้ 11 ขวบ ก็ได้บวชเป็นสามเณรในช่วงเข้ารุกขมูล และเข้ากรรมอยู่ในป่า การเข้ากรรมหรืออยู่กรรมนั้น เรียกว่าประเพณีเข้าโสสานกรรม ซึ่งเป็นประเพณีที่สำคัญอย่างหนึ่งของพระพุทธศาสนา ที่พระสงฆ์จะต้องถือปฏิบัติอย่างเคร่งครัด ซึ่งมักกระทำกันในบริเวณป่าช้าที่อยู่นอกวัด พระสงฆ์และผู้ที่เข้าบำเพ็ญโสสานกรรมจะต้องถือปฏิบัติเคร่งครัด เพื่อต้องการบรรเทากิเลสตัณหา เมื่ออายุได้ 18 ปี จึงเดินทางไปจำพรรษาอยู่ในเมืองเชียงใหม่เพื่อเรียนนักธรรมที่วัดเชตุพน เรียนได้ยังไม่ทันสำเร็จต้องกลับวัดป่าตึง เพื่อปรนนิบัติครูบาปินตาที่ชราภาพ จนกระทั่งปี พ.ศ. 2467 ครูบาปินตาก็มรณภาพด้วยวัย 74 ปี และหลวงปู่หล้าได้รับตำแหน่งเจ้าอาวาสวัดป่าตึงต่อจากครูบาปินตาแทน เมื่อปี พ.ศ. 2467 โดยท่านได้รับการแต่งตั้งสมณศักดิ์เป็นพระครูจันทสมานคุณ ซึ่งขณะนั้นมีอายุ 63 ปี และได้มรณภาพลงเมื่อวันที่ 16 กุมภาพันธ์ 2536 ในขณะที่มีอายุได้ 97 ปี ที่ตั้ง : ตั้งอยู่ในเขตตำบลออนใต้ อำเภอสันกำแพง จังหวัดเชียงใหม่ ข้อมูลสำคัญมาตรการด้านสุขอนามัยและความปลอดภัย  มีการทำความสะอาดสถานที่อย่างสม่ำเสมอ มีจุดให้บริการเจลแอลกอฮอล์หรือจุดล้างมือ นักท่องเที่ยวต้องสวมหน้ากากอนามัย พนักงานต้องสวมหน้ากากอนามัย'},\n",
       " {'content': 'สวนสัตว์เชียงใหม่ เป็นประเภท สถานที่ท่องเที่ยวแบบสวนสัตว์ และพิพิธภัณฑ์สัตว์น้ำ ข้อมูลติดต่อเว็บไซต์ : https://www.chiangmaizoo.com/ เบอร์โทร :+66 5322 1179 ค่าธรรมเนียมเข้าชม ผู้ใหญ่ - 100.00 เด็ก - 20.00 เวลาทำการ จันทร์ 08:00 - 18:00 อังคาร 08:00 - 18:00 พุธ 08:00 - 18:00 พฤหัส 08:00 - 18:00 ศุกร์ 08:00 - 18:00 เสาร์ 08:00 - 18:00 อาทิตย์ 08:00 - 18:00 *หยุดวันหยุดนักขัตฤกษ์ ที่อยู่ เมืองเชียงใหม่, เชียงใหม่ เครื่องอำนวยความสะดวกที่จอดรถ ห้องน้ำ ข้อมูลทั่วไปเป็นสวนสัตว์ขนาดใหญ่ได้รับการจัดสภาพอย่างดี ภายในมีเชียงใหม่ ซู อควาเรียม พิพิธภัณฑ์สัตว์น้ำ อุโมงค์ใต้น้ำที่ยาวที่สุดในเอเชีย บริเวณกว้างขวาง รวบรวมพันธุ์สัตว์น้ำจืดและน้ำเค็มจากไทยและต่างประเทศ ตั้งอยู่ถนนห้วยแก้ว ห่างจากตัวเมือง 5 กิโลเมตร เป็นสวนสัตว์ขนาดใหญ่ มีสัตว์ทั้งที่มีอยู่ในเมืองไทยและนำมาจากต่างประเทศ เช่น โคอาล่าจากออสเตรเลีย สวนนกเพนกวินและสวนนกฟินซ์ นอกจากนั้นยังมี เชียงใหม่ ซู อควาเรียม เป็นอาคาร 2 ชั้น ชั้นบนเป็นนิทรรศการเพื่อการเรียนรู้ระบบนิเวศวิทยาทางน้ำ การจำลองระบบนิเวศ และมีโซนจัดแสดงแมลงนานาชนิดซึ่งใกล้สูญพันธ์ุ ชั้นล่างมีอุโมงค์ใต้น้ำยาว 133 เมตร รวบรวมพันธุ์สัตว์น้ำทั้งปลาน้ำจืดและปลาน้ำเค็ม และยังมี Snow Dome อีกด้วย เปิดบริการทุกวัน ตั้งแต่เวลา 08.00-18.00 น. เปิดขายบัตรถึงเวลา 17.00 น. ค่าเข้าชมชาวไทย ผู้ใหญ่ 100 บาท เด็กสูงไม่เกิน 135 เซนติเมตร 20 บาท ชาวต่างชาติ ผู้ใหญ่ 150 บาท เด็ก 70 บาท ข้อมูลสำคัญได้รับตรามาตรฐานท่องเที่ยวปลอดภัยด้านสุขอนามัย (SHA) จากกระทรวงการท่องเที่ยวและกีฬาโดยการท่องเที่ยวแห่งประเทศไทย (ททท.) และกระทรวงสาธารณสุขโดยกรมควบคุมโรค กรมอนามัย กรมสนับสนุนบริการสุขภาพ และหน่วยงานภาครัฐและเอกชนในอุตสาหกรรมท่องเที่ยว มีการทำความสะอาดสถานที่อย่างสม่ำเสมอ มีจุดให้บริการเจลแอลกอฮอล์หรือจุดล้างมือ มีการเช็คอินไทยชนะ นักท่องเที่ยวต้องสวมหน้ากากอนามัย พนักงานต้องสวมหน้ากากอนามัย มีจุดตรวจวัดอุณหภูมิ รักษาระยะห่าง เช่น มีแผ่นกั้นที่เคาน์เตอร์ สามารถชำระเงินแบบลดการสัมผัส เช่น ชำระผ่าน qr code/บัตรเครดิต/บัตรเครดิตแบบ contactless (อื่นๆ) 2000 คนต่อ วัน'},\n",
       " {'content': 'เสาอินทขิล (เสาหลักเมือง) เป็นประเภท สถานที่ท่องเที่ยวแบบสถานที่เกี่ยวกับศาสนาอื่นๆ  ที่อยู่ เมืองเชียงใหม่, เชียงใหม่ เครื่องอำนวยความสะดวกที่จอดรถ ข้อมูลทั่วไปเป็นหลักเมืองเมื่อครั้งพ่อขุนเม็งรายมหาราชสร้างเมืองเชียงใหม่ เมื่อปี พ.ศ. 1839 ปัจจุบันนี้อยู่ตรงหน้าวัดเจดีย์หลวง เสาอินทขิลนี้ประดิษฐานอยู่ในวิหารจตุรมุขทรงไทยหลังเล็ก ๆ หลักอินทขิลสร้างด้วยไม้ซุงต้นใหญ่ ฝังอยู่ใต้ดิน ทุกปีประมาณเดือนพฤษภาคมจะมีงานเรียกว่า เข้าอินทขิล เป็นการฉลองหลักเมือง สักการะ เสาอินทขิล หรือเสาหลักเมืองที่ถูกสร้างขึ้นมา เมื่อครั้งพ่อขุนเม็งรายมหาราชจะสถาปนาเมืองเชียงใหม่ ในช่วงประมาณปี พ.ศ. 1839 โดยตั้งแต่แรกเริ่มนั้น เสาอินทขิลได้ประดิษฐานอยู่ภายในวิหารของวัดอินทขิลสะดือเมือง หรือวัดสะดือเมือง ต่อมาประมาณปี พ.ศ. 2343 พระเจ้ากาวิละซึ่งเป็นเจ้าผู้ครองนครเชียงใหม่ในสมัยนั้น ได้ร่วมมือกับกองทัพของพระเจ้าตากสินมหาราช ทำการขับไล่พม่าออกจากดินแดนล้านนาได้สำเร็จ จากนั้นได้ฟื้นฟูเมืองเชียงใหม่ขึ้นมาอีกครั้งหนึ่ง โดยได้ย้ายเสาอินทขิลมาประดิษฐานอยู่ ณ วัดเจดีย์หลวง โดยประดิษฐานอยู่ในวิหารจตุรมุขทรงไทยหลังเล็ก ๆ หน้าวัดตั้งแต่นั้นมาจวบจนปัจจุบัน เสาอินทขิลสำคัญอย่างไร เสาอินทขิลของเมืองเชียงใหม่สร้างขึ้นด้วยพื้นฐานความเชื่อที่ว่าการสร้างเมืองในสมัยก่อน จะต้องมีเสาหลักเมืองเป็นศูนย์รวมแห่งความเชื่อความศรัทธา และจะต้องตั้งอยู่ศูนย์กลางของเมือง ที่เรียกว่า สะดือเมือง เพื่อเป็นที่เคารพสักการะของชาวเมือง ว่ากันว่า เสาหลักเมืองเป็นเสาแห่งความมั่นคงตามดวงชะตา ที่จะกำหนดความเจริญและความเสื่อมของเมือง ซึ่งในส่วนของตัวเสาหลักอินทขิลนี้ สร้างด้วยไม้ซุงต้นใหญ่ ที่ฝังอยู่ใต้ดิน โดยทุกปีในช่วงประมาณเดือนพฤษภาคมจะมีงานพิธีบูชาเสาอินทขิล ซึ่งเรียกกันว่า เข้าอินทขิล ถือเป็นการบูชาและพิธีฉลองหลักเมืองของชาวเชียงใหม่ซึ่งเชื่อกันว่าเสาอินทขิลเป็นเสาหลักที่สร้างความมั่นคง การอยู่ดีมีสุข ดังนั้นชาวเมืองเชียงใหม่จึงนิยมมาขอพรจากเสาอินทขิลเพื่อเสริมความเป็นสิริมงคลให้แก่ตนเองและครอบครัว ที่ตั้ง : ซึ่งตั้งอยู่เลขที่ 103 ถนนพระปกเกล้า ตำบลพระสิงห์ อำเภอเมืองเชียงใหม่ จังหวัดเชียงใหม่ '},\n",
       " {'content': 'อุทยานแห่งชาติแม่วาง เป็นประเภท สถานที่ท่องเที่ยวแบบอุทยานแห่งชาติ เขตรักษาพันธุ์สัตว์ป่า ข้อมูลติดต่อเว็บไซต์ : http://park.dnp.go.th/visitor/nationparkshow.php?PTA_CODE=9124 อีเมล :maewang_np@hotmail.com เบอร์โทร :+66 5310 6759 เวลาทำการ จันทร์ 08:30 - 16:30 อังคาร 08:30 - 16:30 พุธ 08:30 - 16:30 พฤหัส 08:30 - 16:30 ศุกร์ 08:30 - 16:30 เสาร์ 08:30 - 16:30 อาทิตย์ 08:30 - 16:30 *หยุดวันหยุดนักขัตฤกษ์ ที่อยู่ หมู่ 7 ดอยหล่อ, เชียงใหม่  ข้อมูลทั่วไปอุทยานแห่งชาติแม่วางครอบคลุมผืนป่าแห่งเทือกเขาสลับซับซ้อนของทิวเขาถนนธงชัยที่ทอดตัวตามแนวเหนือ-ใต้ และมีความสูงจากระดับทะเลปานกลางตั้งแต่ 400-1,909 เมตรจากระดับน้ำทะเลปานกลาง โดยมีดอยผาตั้งเป็นจุดสูงสุด นอกจากนั้นยังมียอดเขาต่างๆ ที่มีความสูงลดหลั่นกันลงมา เช่น ดอยโป่งสมิต ดอยหินหลวง ดอยห้วยหลวง ดอยแม่ลีบ ดอยขุนแม่ซา ดอยผาไล ดอยหน่อ ทั้งยังเป็นแหล่งต้นน้ำของแม่น้ำสำคัญ 3 สาย ได้แก่ แม่น้ำแจ่ม แม่น้ำวางและแม่น้ำตื่น ซึ่งไหลลงสู่แม่น้ำปิง ไฮไลท์แห่งอุทยานฯ - น้ำตกแม่วาง เป็นน้ำตกชั้นเดียวสูงประมาณ 20 เมตร กว้างประมาณ 10 เมตร มีน้ำไหลตลอดทั้งปี มีความสวยงาม เป็นต้นน้ำของแม่น้ำวาง บรรยากาศร่มรื่น โดยรอบเป็นป่าเต็งรัง ป่าเบญจพรรณ ป่าเต็งรังผสมและป่าดิบเขา ตลอดเส้นทางมีจุดให้ศึกษาธรรมชาติ การเดินทาง จากที่ทำการฯ อำเภอแม่วางไปตามถนน รพช. ประมาณ 36 กม. - น้ำตกผาหม่น ตำบลแม่วิน อำเภอแม่วาง เป็นน้ำตกขนาดใหญ่ 3 ชั้น สูงประมาณ 30 เมตร กว้าง 25 เมตร มีน้ำไหลตลอดทั้งปี เป็นต้นน้ำของแม่น้ำวาง รถยนต์เข้าถึงได้ตลอดปี - ดอยผาตั้ง ตำบลแม่วิน อำเภอแม่วาง เป็นดอยที่มีความสูงจากระดับทะเลปานกลาง 1,909 เมตร เป็นส่วนหนึ่งของเทือกเขาดอยอินทนนท์จึงมีอากาศหนาวเย็นตลอดทั้งปี มีฝนตกชุกประปรายในฤดูร้อนและฤดูหนาว ดอยผาตั้งเป็นภูเขาที่มีหน้าผาสูงชัน ลมพัดแรงตลอดปี ต้นไม้ไม่สามารถขึ้นเจริญเติบโตได้ในภูเขาทั้งลูก - น้ำตกตาดหมอก ตำบลยางคราม กิ่งอำเภอดอยหล่อ มี 1 ชั้น สูง 15 เมตร กว้าง 10 เมตร มีน้ำไหลตลอดปี เป็นต้นน้ำของแม่น้ำตื่น - เส้นทางชมทัศนียภาพสายแม่แจ่ม สภาพภูมิทัศน์ตลอดเส้นทางสายอำเภอแม่วาง สู่อำเภอแม่แจ่ม พื้นที่ดังกล่าวมีความสูงจากระดับน้ำทะเลสูง ทำให้สภาพภูมิอากาศคล้ายคลึงกับอุทยานแห่งชาติดอยอินทนนท์ จัดให้เป็นถนนสายแห่งการเที่ยวชมความงดงามตามธรรมชาติ สำหรับผู้ชื่นชอบความงามตามธรรมชาติของขุนเขาสายน้ำ และยอดดอยสูงบรรยากาศหนาวเย็นตลอดปี - ชมความน่าตื่นตาของปรากฏการณ์ทางธรรมชาติที่เรียกกันว่า ผาช่อ ตั้งอยู่ในเขตอำเภอดอยหล่อ ที่นี่เกิดจากการกัดเซาะหิน สันนิษฐานว่าเมื่อหลายร้อยปีก่อนเคยเป็นทางเดินของแม่น้ำปิง ซึ่งสังเกตได้จากก้อนกรวดหินกลมมนกระจัดกระจายอยู่ในเนื้อดินจำนวนมาก ต่อมาแม่น้ำปิงได้เปลี่ยนสาย ย้ายทิศไหลผ่านไปที่อื่น บริเวณนี้ก็ได้ถูกยกตัวเป็นเนินเขาสูง ตะกอนแม่น้ำปิงก่อตัวทับถมกันเป็นชั้น ๆ ผ่านกาลเวลาและถูกกัดเซาะจนกลายเป็นหน้าผาและเสาดินที่มีรูปร่างแปลกตา คล้ายกับแพะเมืองผีในจังหวัดแพร่ หรือฝั่งต้าในจังหวัดพะเยา บางจุดมีลวดลายสวยงามและมีขนาดสูงใหญ่ถึง 30 เมตร ซึ่งผาช่อนั้นครอบคลุมพื้นที่กว้างใหญ่ไพศาลที่ซ่อนตัวอยู่ในหุบเขาในเขตอุทยานแห่งชาติแม่วางนั่นเอง ที่ตั้ง ตำบลสันติสุข อำเภอดอยหล่อ จังหวัดเชียงใหม่ สอบถามเพิ่มเติม โทร. 0 5310 6759 '},\n",
       " {'content': 'ร้านเครื่องเงินวัวลาย เป็นประเภท สถานที่ท่องเที่ยวแบบหมู่บ้าน ชุมชน  เวลาทำการ จันทร์ 06:00 - 18:00 อังคาร 06:00 - 18:00 พุธ 06:00 - 18:00 พฤหัส 06:00 - 18:00 ศุกร์ 06:00 - 18:00 เสาร์ 06:00 - 18:00 อาทิตย์ 06:00 - 18:00 *หยุดวันหยุดนักขัตฤกษ์ ที่อยู่ 93 หมู่ 4 เมืองเชียงใหม่, เชียงใหม่   '}]"
      ]
     },
     "execution_count": 69,
     "metadata": {},
     "output_type": "execute_result"
    }
   ],
   "source": [
    "content_list"
   ]
  },
  {
   "cell_type": "code",
   "execution_count": 4,
   "metadata": {},
   "outputs": [
    {
     "name": "stdout",
     "output_type": "stream",
     "text": [
      "                                        name  \\\n",
      "0                                  วัดป่าตึง   \n",
      "1                  เสาอินทขิล (เสาหลักเมือง)   \n",
      "2                        อุทยานแห่งชาติแม่โถ   \n",
      "3                       อุทยานแห่งชาติแม่วาง   \n",
      "4                      อุทยานแห่งชาติออบหลวง   \n",
      "5                          สวนสัตว์เชียงใหม่   \n",
      "6                 พิพิธภัณฑ์เรือนโบราณล้านนา   \n",
      "7                       วัดเจดีย์หลวงวรวิหาร   \n",
      "8                                   ม่อนแจ่ม   \n",
      "9                      วัดพระสิงห์วรมหาวิหาร   \n",
      "10                              วัดเชียงมั่น   \n",
      "11                      อุทยานแห่งชาติขุนขาน   \n",
      "12                         บ้านขุนช่างเคี่ยน   \n",
      "13                            Canopy Walkway   \n",
      "14                            ยอดดอยอินทนนท์   \n",
      "15                       น้ำตกห้วยทรายเหลือง   \n",
      "16                 อุทยานแห่งชาติดอยผ้าห่มปก   \n",
      "17                               ดอยผ้าห่มปก   \n",
      "18                        ป่าสนบ้านวัดจันทร์   \n",
      "19  สวนป่าดอยบ่อหลวง องค์การอุตสาหกรรมป่าไม้   \n",
      "20                            ทะเลสาบดอยเต่า   \n",
      "21                 อุทยานแห่งชาติดอยอินทนนท์   \n",
      "22                                 ตลาดวโรรส   \n",
      "23             หอประวัติศาสตร์เมืองเชียงใหม่   \n",
      "24                         ถนนนิมมานเหมินทร์   \n",
      "25         พิพิธภัณฑ์ศิลปะร่วมสมัยใหม่เอี่ยม   \n",
      "26                         น้ำพุร้อนสันกำแพง   \n",
      "27                          หมู่บ้านแม่กำปอง   \n",
      "28                       เชียงใหม่ไนท์ซาฟารี   \n",
      "29                              วัดศรีสุพรรณ   \n",
      "30    สวนพฤกษศาสตร์สมเด็จพระนางเจ้าสิริกิติ์   \n",
      "31              ศูนย์อุตสาหกรรมทำร่มบ่อสร้าง   \n",
      "32                          วัดเจดีย์เจ็ดยอด   \n",
      "33                           วัดพระธาตุดอยคำ   \n",
      "34                                วัดอุโมงค์   \n",
      "35                   หอศิลปวัฒนธรรมเชียงใหม่   \n",
      "36                  พิพิธภัณฑ์พื้นถิ่นล้านนา   \n",
      "37                    ศูนย์วัฒนธรรมเชียงใหม่   \n",
      "38              วัดพระธาตุดอยสุเทพราชวรวิหาร   \n",
      "39       ตลาดจริงใจ Farmers Market เชียงใหม่   \n",
      "40                อุทยานแห่งชาติดอยสุเทพ-ปุย   \n",
      "41                             สวนป่าแม่แจ่ม   \n",
      "42                      ป่าเกี๊ยะ (แม่ตะมาน)   \n",
      "43                       อุทยานแห่งชาติผาแดง   \n",
      "44                           ดอยหลวงเชียงดาว   \n",
      "45             ศูนย์พัฒนาโครงการหลวงม่อนเงาะ   \n",
      "46                                ดอยม่อนจอง   \n",
      "\n",
      "                                                 type  \\\n",
      "0                         ประเภท สถานที่ท่องเที่ยววัด   \n",
      "1   ประเภท สถานที่ท่องเที่ยวสถานที่เกี่ยวกับศาสนาอ...   \n",
      "2   ประเภท สถานที่ท่องเที่ยวอุทยานแห่งชาติ เขตรักษ...   \n",
      "3   ประเภท สถานที่ท่องเที่ยวอุทยานแห่งชาติ เขตรักษ...   \n",
      "4   ประเภท สถานที่ท่องเที่ยวอุทยานแห่งชาติ เขตรักษ...   \n",
      "5   ประเภท สถานที่ท่องเที่ยวสวนสัตว์ และพิพิธภัณฑ์...   \n",
      "6                  ประเภท สถานที่ท่องเที่ยวพิพิธภัณฑ์   \n",
      "7                         ประเภท สถานที่ท่องเที่ยววัด   \n",
      "8                 ประเภท สถานที่ท่องเที่ยวดอยและภูเขา   \n",
      "9                         ประเภท สถานที่ท่องเที่ยววัด   \n",
      "10                        ประเภท สถานที่ท่องเที่ยววัด   \n",
      "11  ประเภท สถานที่ท่องเที่ยวอุทยานแห่งชาติ เขตรักษ...   \n",
      "12  ประเภท สถานที่ท่องเที่ยวโครงการหลวงและโครงการใ...   \n",
      "13   ประเภท สถานที่ท่องเที่ยวแลนด์มาร์กและอนุสรณ์สถาน   \n",
      "14                ประเภท สถานที่ท่องเที่ยวดอยและภูเขา   \n",
      "15                      ประเภท สถานที่ท่องเที่ยวน้ำตก   \n",
      "16  ประเภท สถานที่ท่องเที่ยวอุทยานแห่งชาติ เขตรักษ...   \n",
      "17                ประเภท สถานที่ท่องเที่ยวดอยและภูเขา   \n",
      "18  ประเภท สถานที่ท่องเที่ยวอุทยานแห่งชาติ เขตรักษ...   \n",
      "19        ประเภท สถานที่ท่องเที่ยวธรรมชาติและสัตว์ป่า   \n",
      "20  ประเภท สถานที่ท่องเที่ยวเขื่อน พื้นที่อนุรักษ์...   \n",
      "21  ประเภท สถานที่ท่องเที่ยวอุทยานแห่งชาติ เขตรักษ...   \n",
      "22     ประเภท สถานที่ท่องเที่ยวช้อปปิ้ง /ตลาดท้องถิ่น   \n",
      "23    ประเภท สถานที่ท่องเที่ยวพิพิธภัณฑ์เพื่อการศึกษา   \n",
      "24                  ประเภท สถานที่ท่องเที่ยวช้อปปิ้ง    \n",
      "25              ประเภท สถานที่ท่องเที่ยวอาร์ตแกลเลอรี   \n",
      "26                  ประเภท สถานที่ท่องเที่ยวน้ำพุร้อน   \n",
      "27             ประเภท สถานที่ท่องเที่ยวหมู่บ้าน ชุมชน   \n",
      "28  ประเภท สถานที่ท่องเที่ยวสวนสัตว์ และพิพิธภัณฑ์...   \n",
      "29                        ประเภท สถานที่ท่องเที่ยววัด   \n",
      "30           ประเภท สถานที่ท่องเที่ยวสวนและสวนสาธารณะ   \n",
      "31                 ประเภท สถานที่ท่องเที่ยววิถีชีวิต    \n",
      "32                        ประเภท สถานที่ท่องเที่ยววัด   \n",
      "33                        ประเภท สถานที่ท่องเที่ยววัด   \n",
      "34                        ประเภท สถานที่ท่องเที่ยววัด   \n",
      "35    ประเภท สถานที่ท่องเที่ยวพิพิธภัณฑ์เพื่อการศึกษา   \n",
      "36    ประเภท สถานที่ท่องเที่ยวพิพิธภัณฑ์เพื่อการศึกษา   \n",
      "37                    ประเภท สถานที่ท่องเที่ยวโรงละคร   \n",
      "38                        ประเภท สถานที่ท่องเที่ยววัด   \n",
      "39               ประเภท สถานที่ท่องเที่ยวตลาดท้องถิ่น   \n",
      "40  ประเภท สถานที่ท่องเที่ยวอุทยานแห่งชาติ เขตรักษ...   \n",
      "41           ประเภท สถานที่ท่องเที่ยวสวนและสวนสาธารณะ   \n",
      "42  ประเภท สถานที่ท่องเที่ยวอุทยานแห่งชาติ เขตรักษ...   \n",
      "43  ประเภท สถานที่ท่องเที่ยวอุทยานแห่งชาติ เขตรักษ...   \n",
      "44                ประเภท สถานที่ท่องเที่ยวดอยและภูเขา   \n",
      "45  ประเภท สถานที่ท่องเที่ยวแหล่งท่องเที่ยวทางธรรม...   \n",
      "46                ประเภท สถานที่ท่องเที่ยวดอยและภูเขา   \n",
      "\n",
      "                                              contact  \\\n",
      "0                 ข้อมูลติดต่อเบอร์โทร :+66 5388 0061   \n",
      "1                                                       \n",
      "2   ข้อมูลติดต่ออีเมล :maetho41@gmail.com เบอร์โทร...   \n",
      "3   ข้อมูลติดต่อเว็บไซต์ : http://park.dnp.go.th/v...   \n",
      "4   ข้อมูลติดต่อเว็บไซต์ : https://www.dnp.go.th/ ...   \n",
      "5   ข้อมูลติดต่อเว็บไซต์ : https://www.chiangmaizo...   \n",
      "6   ข้อมูลติดต่อเว็บไซต์ : https://www.art-culture...   \n",
      "7   ข้อมูลติดต่ออีเมล :info@dequarr.com เบอร์โทร :...   \n",
      "8                                                       \n",
      "9   ข้อมูลติดต่ออีเมล :info@dequarr.com เบอร์โทร :...   \n",
      "10                                                      \n",
      "11                                                      \n",
      "12                                                      \n",
      "13                ข้อมูลติดต่อเบอร์โทร :+66 5384 1215   \n",
      "14                ข้อมูลติดต่อเบอร์โทร :+66 5328 6728   \n",
      "15  ข้อมูลติดต่อเว็บไซต์ : https://www.dnp.go.th/ ...   \n",
      "16  ข้อมูลติดต่อเว็บไซต์ : https://www.dnp.go.th/ ...   \n",
      "17                                                      \n",
      "18                ข้อมูลติดต่อเบอร์โทร :+66 5324 9394   \n",
      "19            ข้อมูลติดต่ออีเมล :doiboluang@gmail.com   \n",
      "20                                                      \n",
      "21  ข้อมูลติดต่อเว็บไซต์ : https://www.dnp.go.th/ ...   \n",
      "22                ข้อมูลติดต่อเบอร์โทร :+66 5324 8604   \n",
      "23                                                      \n",
      "24  ข้อมูลติดต่อเว็บไซต์ : https://www.nimmansoi1....   \n",
      "25  ข้อมูลติดต่อเว็บไซต์ : https://www.maiiam.com/...   \n",
      "26  ข้อมูลติดต่อเบอร์โทร :+66 5392 9000,+66 5392 9077   \n",
      "27                ข้อมูลติดต่อเบอร์โทร :+66 5322 9526   \n",
      "28  ข้อมูลติดต่อเว็บไซต์ : https://www.chiangmaini...   \n",
      "29  ข้อมูลติดต่อเว็บไซต์ : https://www.watsrisupha...   \n",
      "30  ข้อมูลติดต่อเว็บไซต์ : https://www.qsbg.org/ อ...   \n",
      "31  ข้อมูลติดต่อเบอร์โทร :+66 5333 8195,+66 5333 8324   \n",
      "32                ข้อมูลติดต่อเบอร์โทร :+66 5322 1464   \n",
      "33                ข้อมูลติดต่อเบอร์โทร :+66 5326 3001   \n",
      "34  ข้อมูลติดต่อเว็บไซต์ : https://www.watumong.or...   \n",
      "35  ข้อมูลติดต่อเว็บไซต์ : https://www.cmocity.com...   \n",
      "36                ข้อมูลติดต่อเบอร์โทร :+66 5321 7793   \n",
      "37                ข้อมูลติดต่อเบอร์โทร :+66 5327 4540   \n",
      "38                ข้อมูลติดต่อเบอร์โทร :+66 5329 5003   \n",
      "39  ข้อมูลติดต่อเว็บไซต์ : https://www.jingjaimark...   \n",
      "40  ข้อมูลติดต่อเว็บไซต์ : http://park.dnp.go.th/v...   \n",
      "41                                                      \n",
      "42  ข้อมูลติดต่อเบอร์โทร :+66 2579 5344,+66 2579 7586   \n",
      "43                ข้อมูลติดต่อเบอร์โทร :+66 5326 1466   \n",
      "44                                                      \n",
      "45                                                      \n",
      "46  ข้อมูลติดต่อเบอร์โทร :+66 5324 8604,+66 5324 8607   \n",
      "\n",
      "                                              section  \\\n",
      "0            ข้อมูลที่อยู่ หมู่ 7 สันกำแพง, เชียงใหม่   \n",
      "1             ข้อมูลที่อยู่ เมืองเชียงใหม่, เชียงใหม่   \n",
      "2   ข้อมูลเวลาทำการ จันทร์ 08:00 - 16:30 อังคาร 08...   \n",
      "3   ข้อมูลเวลาทำการ จันทร์ 08:30 - 16:30 อังคาร 08...   \n",
      "4   ข้อมูลค่าธรรมเนียมเข้าชม ผู้ใหญ่ - 20.00 เด็ก ...   \n",
      "5   ข้อมูลค่าธรรมเนียมเข้าชม ผู้ใหญ่ - 100.00 เด็ก...   \n",
      "6   ข้อมูลค่าธรรมเนียมเข้าชม ผู้ใหญ่ - 50.00 เวลาท...   \n",
      "7   ข้อมูลเวลาทำการ จันทร์ 08:00 - 22:00 อังคาร 08...   \n",
      "8                     ข้อมูลที่อยู่ แม่ริม, เชียงใหม่   \n",
      "9   ข้อมูลเวลาทำการ จันทร์ 07:00 - 22:00 อังคาร 07...   \n",
      "10            ข้อมูลที่อยู่ เมืองเชียงใหม่, เชียงใหม่   \n",
      "11                    ข้อมูลที่อยู่ สะเมิง, เชียงใหม่   \n",
      "12                    ข้อมูลที่อยู่ แม่ริม, เชียงใหม่   \n",
      "13  ข้อมูลเวลาทำการ จันทร์ 08:30 - 16:30 อังคาร 08...   \n",
      "14  ข้อมูลเวลาทำการ จันทร์ 05:00 - 18:00 อังคาร 05...   \n",
      "15  ข้อมูลเวลาทำการ จันทร์ 06:00 - 18:00 อังคาร 06...   \n",
      "16  ข้อมูลค่าธรรมเนียมเข้าชม ผู้ใหญ่ - 50.00 เด็ก ...   \n",
      "17  ข้อมูลเวลาทำการ จันทร์ 06:00 - 18:00 อังคาร 06...   \n",
      "18  ข้อมูลเวลาทำการ จันทร์ 06:00 - 18:00 อังคาร 06...   \n",
      "19  ข้อมูลเวลาทำการ จันทร์ 09:00 - 18:00 อังคาร 09...   \n",
      "20                       ข้อมูลที่อยู่ ฮอด, เชียงใหม่   \n",
      "21  ข้อมูลค่าธรรมเนียมเข้าชม ผู้ใหญ่ - 50.00 เด็ก ...   \n",
      "22  ข้อมูลเวลาทำการ จันทร์ 06:00 - 18:00 อังคาร 06...   \n",
      "23  ข้อมูลค่าธรรมเนียมเข้าชม ผู้ใหญ่ - 20.00 เด็ก ...   \n",
      "24            ข้อมูลที่อยู่ เมืองเชียงใหม่, เชียงใหม่   \n",
      "25  ข้อมูลค่าธรรมเนียมเข้าชม ผู้ใหญ่ - 150.00 เด็ก...   \n",
      "26  ข้อมูลค่าธรรมเนียมเข้าชม ผู้ใหญ่ - 40.00 เด็ก ...   \n",
      "27  ข้อมูลเวลาทำการ จันทร์ 08:00 - 20:00 อังคาร 08...   \n",
      "28  ข้อมูลค่าธรรมเนียมเข้าชม ผู้ใหญ่ - 300.00 เด็ก...   \n",
      "29  ข้อมูลเวลาทำการ จันทร์ 06:00 - 18:00 อังคาร 06...   \n",
      "30  ข้อมูลเวลาทำการ จันทร์ 08:30 - 17:00 อังคาร 08...   \n",
      "31  ข้อมูลเวลาทำการ จันทร์ 00:00 - 00:00 อังคาร 00...   \n",
      "32  ข้อมูลเวลาทำการ จันทร์ 05:00 - 20:00 อังคาร 08...   \n",
      "33  ข้อมูลเวลาทำการ จันทร์ 08:00 - 17:00 อังคาร 08...   \n",
      "34  ข้อมูลเวลาทำการ จันทร์ 08:00 - 17:00 อังคาร 08...   \n",
      "35  ข้อมูลค่าธรรมเนียมเข้าชม ผู้ใหญ่ - 20.00 เด็ก ...   \n",
      "36  ข้อมูลค่าธรรมเนียมเข้าชม ผู้ใหญ่ - 20.00 เด็ก ...   \n",
      "37  ข้อมูลเวลาทำการ จันทร์ 18:30 - 20:30 อังคาร 18...   \n",
      "38  ข้อมูลเวลาทำการ จันทร์ 05:00 - 21:00 อังคาร 05...   \n",
      "39  ข้อมูลเวลาทำการ จันทร์ - อังคาร - พุธ - พฤหัส ...   \n",
      "40  ข้อมูลเวลาทำการ จันทร์ 08:00 - 17:00 อังคาร 08...   \n",
      "41                   ข้อมูลที่อยู่ แม่แจ่ม, เชียงใหม่   \n",
      "42                  ข้อมูลที่อยู่ เชียงดาว, เชียงใหม่   \n",
      "43                  ข้อมูลที่อยู่ เชียงดาว, เชียงใหม่   \n",
      "44                  ข้อมูลที่อยู่ เชียงดาว, เชียงใหม่   \n",
      "45                    ข้อมูลที่อยู่ แม่แตง, เชียงใหม่   \n",
      "46                    ข้อมูลที่อยู่ อมก๋อย, เชียงใหม่   \n",
      "\n",
      "                                 facility  \\\n",
      "0           เครื่องอำนวยความสะดวกที่จอดรถ   \n",
      "1           เครื่องอำนวยความสะดวกที่จอดรถ   \n",
      "2           เครื่องอำนวยความสะดวกที่จอดรถ   \n",
      "3                                           \n",
      "4                                           \n",
      "5   เครื่องอำนวยความสะดวกที่จอดรถ ห้องน้ำ   \n",
      "6   เครื่องอำนวยความสะดวกที่จอดรถ ห้องน้ำ   \n",
      "7           เครื่องอำนวยความสะดวกที่จอดรถ   \n",
      "8                                           \n",
      "9           เครื่องอำนวยความสะดวกที่จอดรถ   \n",
      "10          เครื่องอำนวยความสะดวกที่จอดรถ   \n",
      "11                                          \n",
      "12                                          \n",
      "13                                          \n",
      "14                                          \n",
      "15                                          \n",
      "16          เครื่องอำนวยความสะดวกที่จอดรถ   \n",
      "17  เครื่องอำนวยความสะดวกที่จอดรถ ห้องน้ำ   \n",
      "18                                          \n",
      "19                                          \n",
      "20                                          \n",
      "21  เครื่องอำนวยความสะดวกที่จอดรถ ห้องน้ำ   \n",
      "22                                          \n",
      "23          เครื่องอำนวยความสะดวกที่จอดรถ   \n",
      "24                                          \n",
      "25  เครื่องอำนวยความสะดวกที่จอดรถ ห้องน้ำ   \n",
      "26          เครื่องอำนวยความสะดวกที่จอดรถ   \n",
      "27                                          \n",
      "28  เครื่องอำนวยความสะดวกที่จอดรถ ห้องน้ำ   \n",
      "29          เครื่องอำนวยความสะดวกที่จอดรถ   \n",
      "30  เครื่องอำนวยความสะดวกที่จอดรถ ห้องน้ำ   \n",
      "31                                          \n",
      "32          เครื่องอำนวยความสะดวกที่จอดรถ   \n",
      "33          เครื่องอำนวยความสะดวกที่จอดรถ   \n",
      "34          เครื่องอำนวยความสะดวกที่จอดรถ   \n",
      "35          เครื่องอำนวยความสะดวกที่จอดรถ   \n",
      "36  เครื่องอำนวยความสะดวกที่จอดรถ ห้องน้ำ   \n",
      "37  เครื่องอำนวยความสะดวกที่จอดรถ ห้องน้ำ   \n",
      "38  เครื่องอำนวยความสะดวกที่จอดรถ ห้องน้ำ   \n",
      "39                                          \n",
      "40                                          \n",
      "41                                          \n",
      "42                                          \n",
      "43                                          \n",
      "44                                          \n",
      "45                                          \n",
      "46                                          \n",
      "\n",
      "                                              general  \\\n",
      "0   ข้อมูลทั่วไปหลวงปู่หล้า ตาทิพย์ วัดป่าตึง ตั้ง...   \n",
      "1   ข้อมูลทั่วไปเป็นหลักเมืองเมื่อครั้งพ่อขุนเม็งร...   \n",
      "2   ข้อมูลทั่วไปปกคลุมด้วยป่าดิบเขา ป่าดิบแล้ง ป่า...   \n",
      "3   ข้อมูลทั่วไปอุทยานแห่งชาติแม่วางครอบคลุมผืนป่า...   \n",
      "4   ข้อมูลทั่วไปออบหลวงเป็นสถานที่น่าเที่ยวที่ธรรม...   \n",
      "5   ข้อมูลทั่วไปเป็นสวนสัตว์ขนาดใหญ่ได้รับการจัดสภ...   \n",
      "6   ข้อมูลทั่วไปตั้งอยู่ภายในสำนักส่งเสริมศิลปวัฒน...   \n",
      "7   ข้อมูลทั่วไปตั้งอยู่ถนนพระปกเกล้า ตำบลพระสิงห์...   \n",
      "8   ข้อมูลทั่วไปตั้งอยู่บนสันเขาที่สูงจากระดับน้ำท...   \n",
      "9   ข้อมูลทั่วไปตั้งอยู่ถนนสามล้าน ตำบลพระสิงห์ เป...   \n",
      "10  ข้อมูลทั่วไปเป็นวัดที่เก่าแก่ที่สุดในตัวเมืองเ...   \n",
      "11  ข้อมูลทั่วไปมีพื้นที่ทั้งหมดประมาณ 397 ตารางกิ...   \n",
      "12  ข้อมูลทั่วไปแหล่งท่องเที่ยวชมดอกนางพญาเสือโคร่...   \n",
      "13  ข้อมูลทั่วไปเป็นทางเดินลอยฟ้าเหนือยอดไม้ที่ยาว...   \n",
      "14  ข้อมูลทั่วไปแต่เดิมดอยอินทนนท์มีชื่อว่า “ดอยหล...   \n",
      "15  ข้อมูลทั่วไปเป็นน้ำตกขนาดกลางที่ไหลแรงตลอดทั้ง...   \n",
      "16  ข้อมูลทั่วไปตั้งอยู่ที่ตำบลโป่งน้ำร้อน มีลักษณ...   \n",
      "17  ข้อมูลทั่วไปตั้งอยู่ห่างจากตัวเมืองเชียงใหม่ปร...   \n",
      "18  ข้อมูลทั่วไปสนที่ขึ้นที่นี่เป็นสนเขาทั้งสนสองใ...   \n",
      "19  ข้อมูลทั่วไปตั้งอยู่ในเขตป่าสงวนแห่งชาติขุนแม่...   \n",
      "20  ข้อมูลทั่วไปเป็นอ่างเก็บน้ำขนาดใหญ่ หากมีน้ำมา...   \n",
      "21  ข้อมูลทั่วไปเดินทางสู่ยอดเขาที่สูงที่สุดในประเ...   \n",
      "22  ข้อมูลทั่วไปอยู่บริเวณ ถ.ช้างม่อย ฝั่งตรงข้ามเ...   \n",
      "23  ข้อมูลทั่วไปตั้งอยู่ด้านหลังหอศิลปวัฒนธรรมเมือ...   \n",
      "24  ข้อมูลทั่วไปแหล่งรวมร้านค้ามีดีไซน์ ทั้งสินค้า...   \n",
      "25  ข้อมูลทั่วไปที่มาของชื่อพิพิธภัณฑ์ คำว่า ใหม่ ...   \n",
      "26  ข้อมูลทั่วไปการแช่น้ำแร่ จะทำให้รู้สึกผ่อนคลาย...   \n",
      "27  ข้อมูลทั่วไปเป็นหมู่บ้านขนาดเล็กท่ามกลางธรรมชา...   \n",
      "28  ข้อมูลทั่วไปตั้งอยู่ในอุทยานแห่งชาติดอยสุเทพ-ป...   \n",
      "29  ข้อมูลทั่วไปเป็นสถาปัตยกรรมล้านนาโบราณ โครงสร้...   \n",
      "30  ข้อมูลทั่วไปสวนพฤกษศาสตร์ที่สมบูรณ์แบบที่สุดใน...   \n",
      "31  ข้อมูลทั่วไปในอดีต บ่อสร้าง เป็นหมู่บ้านชนบทที...   \n",
      "32  ข้อมูลทั่วไปวัดแห่งนี้เคยเป็นสถานที่สังคายนาพร...   \n",
      "33  ข้อมูลทั่วไปตั้งอยู่ที่ตำบลแม่เหียะ เป็นวัดเก่...   \n",
      "34  ข้อมูลทั่วไปตั้งอยู่เชิงดอยสุเทพ วัดอุโมงค์ เด...   \n",
      "35  ข้อมูลทั่วไปเป็นอาคารเดิมที่สร้างขึ้นเพื่อเป็น...   \n",
      "36  ข้อมูลทั่วไปตั้งอยู่ที่อาคารศาลแขวง (เดิม) ตรง...   \n",
      "37  ข้อมูลทั่วไปเป็นที่รวมศิลปะและวัฒนธรรมของล้านน...   \n",
      "38  ข้อมูลทั่วไปตั้งอยู่ในอุทยานแห่งชาติดอยสุเทพ-ป...   \n",
      "39  ข้อมูลทั่วไปเพลิดเพลินไปกับการช็อปปิ้ง ณ ใจกลา...   \n",
      "40  ข้อมูลทั่วไปประกอบด้วยป่าที่อุดมสมบูรณ์ ภูเขาท...   \n",
      "41  ข้อมูลทั่วไปเป็นแหล่งท่องเที่ยว มีลำน้ำแม่แจ่ม...   \n",
      "42  ข้อมูลทั่วไปจากหน่วยงานมองเห็นยอดดอยเชียงดาวแล...   \n",
      "43  ข้อมูลทั่วไปสถานที่น่าสนใจในอุทยานฯ คือ น้ำตกศ...   \n",
      "44  ข้อมูลทั่วไปดอยหลวงเชียงดาว อยู่ในเขตรักษาพันธ...   \n",
      "45  ข้อมูลทั่วไปณ ภูเขาอันเป็นที่ตั้งของหมู่บ้านม่...   \n",
      "46  ข้อมูลทั่วไปสิ่งที่ดึงดูดให้นักท่องไพรมายังดอย...   \n",
      "\n",
      "                                            important  \n",
      "0   ข้อมูลสำคัญมาตรการด้านสุขอนามัยและความปลอดภัย ...  \n",
      "1                                                      \n",
      "2                                                      \n",
      "3                                                      \n",
      "4                                                      \n",
      "5   ข้อมูลสำคัญได้รับตรามาตรฐานท่องเที่ยวปลอดภัยด้...  \n",
      "6                                                      \n",
      "7   ข้อมูลสำคัญมาตรการด้านสุขอนามัยและความปลอดภัย ...  \n",
      "8                                                      \n",
      "9                                                      \n",
      "10                                                     \n",
      "11  ข้อมูลสำคัญมาตรการด้านสุขอนามัยและความปลอดภัย ...  \n",
      "12  ข้อมูลสำคัญมาตรการด้านสุขอนามัยและความปลอดภัย ...  \n",
      "13                                                     \n",
      "14                                                     \n",
      "15  ข้อมูลสำคัญมาตรการด้านสุขอนามัยและความปลอดภัย ...  \n",
      "16                                                     \n",
      "17                                                     \n",
      "18  ข้อมูลสำคัญมาตรการด้านสุขอนามัยและความปลอดภัย ...  \n",
      "19                                                     \n",
      "20                                                     \n",
      "21  ข้อมูลสำคัญมาตรการด้านสุขอนามัยและความปลอดภัย ...  \n",
      "22                                                     \n",
      "23                                                     \n",
      "24  ข้อมูลสำคัญมาตรการด้านสุขอนามัยและความปลอดภัย ...  \n",
      "25                                                     \n",
      "26  ข้อมูลสำคัญได้รับตรามาตรฐานท่องเที่ยวปลอดภัยด้...  \n",
      "27                                                     \n",
      "28  ข้อมูลสำคัญได้รับตรามาตรฐานท่องเที่ยวปลอดภัยด้...  \n",
      "29  ข้อมูลสำคัญมาตรการด้านสุขอนามัยและความปลอดภัย ...  \n",
      "30  ข้อมูลสำคัญได้รับตรามาตรฐานท่องเที่ยวปลอดภัยด้...  \n",
      "31                                                     \n",
      "32                                                     \n",
      "33  ข้อมูลสำคัญมาตรการด้านสุขอนามัยและความปลอดภัย ...  \n",
      "34  ข้อมูลสำคัญมาตรการด้านสุขอนามัยและความปลอดภัย ...  \n",
      "35  ข้อมูลสำคัญมาตรการด้านสุขอนามัยและความปลอดภัย ...  \n",
      "36                                                     \n",
      "37                                                     \n",
      "38  ข้อมูลสำคัญมาตรการด้านสุขอนามัยและความปลอดภัย ...  \n",
      "39                                                     \n",
      "40  ข้อมูลสำคัญมาตรการด้านสุขอนามัยและความปลอดภัย ...  \n",
      "41                                                     \n",
      "42                                                     \n",
      "43  ข้อมูลสำคัญมาตรการด้านสุขอนามัยและความปลอดภัย ...  \n",
      "44  ข้อมูลสำคัญมาตรการด้านสุขอนามัยและความปลอดภัย ...  \n",
      "45  ข้อมูลสำคัญมาตรการด้านสุขอนามัยและความปลอดภัย ...  \n",
      "46      ข้อมูลสำคัญมาตรการด้านสุขอนามัยและความปลอดภัย  \n"
     ]
    }
   ],
   "source": [
    "table_df = pd.DataFrame(table_list)\n",
    "\n",
    "# Save the DataFrame to an Excel file\n",
    "table_df.to_excel('table_list.xlsx', index=False)\n",
    "\n",
    "# Print the extracted data\n",
    "print(table_df)"
   ]
  },
  {
   "cell_type": "code",
   "execution_count": 6,
   "metadata": {},
   "outputs": [
    {
     "name": "stdout",
     "output_type": "stream",
     "text": [
      "                                              content\n",
      "0   วัดป่าตึง เป็นประเภท สถานที่ท่องเที่ยวแบบวัด ข...\n",
      "1   เสาอินทขิล (เสาหลักเมือง) เป็นประเภท สถานที่ท่...\n",
      "2   อุทยานแห่งชาติแม่โถ เป็นประเภท สถานที่ท่องเที่...\n",
      "3   อุทยานแห่งชาติแม่วาง เป็นประเภท สถานที่ท่องเที...\n",
      "4   อุทยานแห่งชาติออบหลวง เป็นประเภท สถานที่ท่องเท...\n",
      "5   สวนสัตว์เชียงใหม่ เป็นประเภท สถานที่ท่องเที่ยว...\n",
      "6   พิพิธภัณฑ์เรือนโบราณล้านนา เป็นประเภท สถานที่ท...\n",
      "7   วัดเจดีย์หลวงวรวิหาร เป็นประเภท สถานที่ท่องเที...\n",
      "8   ม่อนแจ่ม เป็นประเภท สถานที่ท่องเที่ยวแบบดอยและ...\n",
      "9   วัดพระสิงห์วรมหาวิหาร เป็นประเภท สถานที่ท่องเท...\n",
      "10  วัดเชียงมั่น เป็นประเภท สถานที่ท่องเที่ยวแบบวั...\n",
      "11  อุทยานแห่งชาติขุนขาน เป็นประเภท สถานที่ท่องเที...\n",
      "12  บ้านขุนช่างเคี่ยน เป็นประเภท สถานที่ท่องเที่ยว...\n",
      "13  Canopy Walkway เป็นประเภท สถานที่ท่องเที่ยวแบบ...\n",
      "14  ยอดดอยอินทนนท์ เป็นประเภท สถานที่ท่องเที่ยวแบบ...\n",
      "15  น้ำตกห้วยทรายเหลือง เป็นประเภท สถานที่ท่องเที่...\n",
      "16  อุทยานแห่งชาติดอยผ้าห่มปก เป็นประเภท สถานที่ท่...\n",
      "17  ดอยผ้าห่มปก เป็นประเภท สถานที่ท่องเที่ยวแบบดอย...\n",
      "18  ป่าสนบ้านวัดจันทร์ เป็นประเภท สถานที่ท่องเที่ย...\n",
      "19  สวนป่าดอยบ่อหลวง องค์การอุตสาหกรรมป่าไม้ เป็นป...\n",
      "20  ทะเลสาบดอยเต่า เป็นประเภท สถานที่ท่องเที่ยวแบบ...\n",
      "21  อุทยานแห่งชาติดอยอินทนนท์ เป็นประเภท สถานที่ท่...\n",
      "22  ตลาดวโรรส เป็นประเภท สถานที่ท่องเที่ยวแบบช้อปป...\n",
      "23  หอประวัติศาสตร์เมืองเชียงใหม่ เป็นประเภท สถานท...\n",
      "24  ถนนนิมมานเหมินทร์ เป็นประเภท สถานที่ท่องเที่ยว...\n",
      "25  พิพิธภัณฑ์ศิลปะร่วมสมัยใหม่เอี่ยม เป็นประเภท ส...\n",
      "26  น้ำพุร้อนสันกำแพง เป็นประเภท สถานที่ท่องเที่ยว...\n",
      "27  หมู่บ้านแม่กำปอง เป็นประเภท สถานที่ท่องเที่ยวแ...\n",
      "28  เชียงใหม่ไนท์ซาฟารี เป็นประเภท สถานที่ท่องเที่...\n",
      "29  วัดศรีสุพรรณ เป็นประเภท สถานที่ท่องเที่ยวแบบวั...\n",
      "30  สวนพฤกษศาสตร์สมเด็จพระนางเจ้าสิริกิติ์ เป็นประ...\n",
      "31  ศูนย์อุตสาหกรรมทำร่มบ่อสร้าง เป็นประเภท สถานที...\n",
      "32  วัดเจดีย์เจ็ดยอด เป็นประเภท สถานที่ท่องเที่ยวแ...\n",
      "33  วัดพระธาตุดอยคำ เป็นประเภท สถานที่ท่องเที่ยวแบ...\n",
      "34  วัดอุโมงค์ เป็นประเภท สถานที่ท่องเที่ยวแบบวัด ...\n",
      "35  หอศิลปวัฒนธรรมเชียงใหม่ เป็นประเภท สถานที่ท่อง...\n",
      "36  พิพิธภัณฑ์พื้นถิ่นล้านนา เป็นประเภท สถานที่ท่อ...\n",
      "37  ศูนย์วัฒนธรรมเชียงใหม่ เป็นประเภท สถานที่ท่องเ...\n",
      "38  วัดพระธาตุดอยสุเทพราชวรวิหาร เป็นประเภท สถานที...\n",
      "39  ตลาดจริงใจ Farmers Market เชียงใหม่ เป็นประเภท...\n",
      "40  อุทยานแห่งชาติดอยสุเทพ-ปุย เป็นประเภท สถานที่ท...\n",
      "41  สวนป่าแม่แจ่ม เป็นประเภท สถานที่ท่องเที่ยวแบบส...\n",
      "42  ป่าเกี๊ยะ (แม่ตะมาน) เป็นประเภท สถานที่ท่องเที...\n",
      "43  อุทยานแห่งชาติผาแดง เป็นประเภท สถานที่ท่องเที่...\n",
      "44  ดอยหลวงเชียงดาว เป็นประเภท สถานที่ท่องเที่ยวแบ...\n",
      "45  ศูนย์พัฒนาโครงการหลวงม่อนเงาะ เป็นประเภท สถานท...\n",
      "46  ดอยม่อนจอง เป็นประเภท สถานที่ท่องเที่ยวแบบดอยแ...\n"
     ]
    }
   ],
   "source": [
    "# Convert the list of dictionaries to a pandas DataFrame\n",
    "content_df  = pd.DataFrame(content_list)\n",
    "\n",
    "# Save the DataFrame to an Excel file\n",
    "content_df.to_excel('content_list.xlsx', index=False)\n",
    "\n",
    "# Print the extracted data\n",
    "print(content_df)"
   ]
  }
 ],
 "metadata": {
  "kernelspec": {
   "display_name": "Python 3",
   "language": "python",
   "name": "python3"
  },
  "language_info": {
   "codemirror_mode": {
    "name": "ipython",
    "version": 3
   },
   "file_extension": ".py",
   "mimetype": "text/x-python",
   "name": "python",
   "nbconvert_exporter": "python",
   "pygments_lexer": "ipython3",
   "version": "3.10.8"
  }
 },
 "nbformat": 4,
 "nbformat_minor": 2
}
