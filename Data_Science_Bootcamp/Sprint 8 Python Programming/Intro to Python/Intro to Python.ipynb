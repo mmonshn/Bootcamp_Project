{
 "cells":[
  {
   "cell_type":"markdown",
   "source":[
    "# Intro to Python"
   ],
   "attachments":{
    
   },
   "metadata":{
    "datalore":{
     "node_id":"Intro to Python",
     "type":"MD",
     "hide_input_from_viewers":false,
     "hide_output_from_viewers":false,
     "sheet_delimiter":true
    }
   }
  },
  {
   "cell_type":"markdown",
   "source":[
    "# Review Python Language"
   ],
   "attachments":{
    
   },
   "metadata":{
    "datalore":{
     "node_id":"7sMhFMJBEUnP6W03niyG6N",
     "type":"MD",
     "hide_input_from_viewers":true,
     "hide_output_from_viewers":true
    }
   }
  },
  {
   "cell_type":"markdown",
   "source":[
    "## Variable"
   ],
   "attachments":{
    
   },
   "metadata":{
    "datalore":{
     "node_id":"8xP3mFI7kPbtXx5zAuGDe9",
     "type":"MD",
     "hide_input_from_viewers":true,
     "hide_output_from_viewers":true
    }
   }
  },
  {
   "cell_type":"code",
   "source":[
    "print(\"Hello World\") #Comment"
   ],
   "execution_count":2,
   "outputs":[
    {
     "name":"stdout",
     "text":[
      "Hello World\n"
     ],
     "output_type":"stream"
    }
   ],
   "metadata":{
    "datalore":{
     "node_id":"zcKOLlNbKN8o3MvioSK9Dk",
     "type":"CODE",
     "hide_input_from_viewers":true,
     "hide_output_from_viewers":true
    }
   }
  },
  {
   "cell_type":"code",
   "source":[
    "my_name = \"Mon\" #'Mon'\n",
    "my_age = 20"
   ],
   "execution_count":3,
   "outputs":[
    
   ],
   "metadata":{
    "datalore":{
     "node_id":"wG0PkbSH57wMm2sCSUp8mp",
     "type":"CODE",
     "hide_input_from_viewers":true,
     "hide_output_from_viewers":true
    }
   }
  },
  {
   "cell_type":"code",
   "source":[
    "# Create variable\n",
    "print(my_name)\n",
    "print(my_age)"
   ],
   "execution_count":4,
   "outputs":[
    {
     "name":"stdout",
     "text":[
      "Mon\n",
      "20\n"
     ],
     "output_type":"stream"
    }
   ],
   "metadata":{
    "datalore":{
     "node_id":"4mD0GxUmkCaC5x8RuaQQx0",
     "type":"CODE",
     "hide_input_from_viewers":true,
     "hide_output_from_viewers":true
    }
   }
  },
  {
   "cell_type":"code",
   "source":[
    "# Simple Calculater\n",
    "print(1 + 1)\n",
    "print(8 - 5)\n",
    "print(2 * 2)\n",
    "print(5 \/ 2)"
   ],
   "execution_count":11,
   "outputs":[
    {
     "name":"stdout",
     "text":[
      "2\n",
      "3\n",
      "4\n",
      "2.5\n"
     ],
     "output_type":"stream"
    }
   ],
   "metadata":{
    "datalore":{
     "node_id":"4eCdFRkVETCWA7d6j7opR7",
     "type":"CODE",
     "hide_input_from_viewers":true,
     "hide_output_from_viewers":true
    }
   }
  },
  {
   "cell_type":"markdown",
   "source":[
    "## String"
   ],
   "attachments":{
    
   },
   "metadata":{
    "datalore":{
     "node_id":"z4gzMBLUzCqXT0zLDjilLG",
     "type":"MD",
     "hide_input_from_viewers":true,
     "hide_output_from_viewers":true
    }
   }
  },
  {
   "cell_type":"code",
   "source":[
    "# String & fstring in Python\n",
    "my_name = \"Mon\"\n",
    "my_university = 'KMUTT'\n",
    "\n",
    "my_long_string = \"\"\"This is a very long\n",
    "    This is a second line\n",
    "    This is a third line\n",
    "\"\"\"\n",
    "\n",
    "print(my_name, my_university, my_long_string)"
   ],
   "execution_count":24,
   "outputs":[
    {
     "name":"stdout",
     "text":[
      "Mon KMUTT This is a very long\n",
      "    This is a second line\n",
      "    This is a third line\n",
      "\n"
     ],
     "output_type":"stream"
    }
   ],
   "metadata":{
    "datalore":{
     "node_id":"5qoqz93MlMLOAh4JUimyyE",
     "type":"CODE",
     "hide_input_from_viewers":true,
     "hide_output_from_viewers":true
    }
   }
  },
  {
   "cell_type":"code",
   "source":[
    "# fstring template\n",
    "my_name = \"Mon\"\n",
    "my_age = 20\n",
    "text = f\"my name is {my_name}, and I am {my_age} yaers old.\"\n",
    "print(text)"
   ],
   "execution_count":25,
   "outputs":[
    {
     "name":"stdout",
     "text":[
      "my name is Mon, and I am 20 yaers old.\n"
     ],
     "output_type":"stream"
    }
   ],
   "metadata":{
    "datalore":{
     "node_id":"xAhIAoME0xxrbYRe0WjqY5",
     "type":"CODE",
     "hide_input_from_viewers":true,
     "hide_output_from_viewers":true
    }
   }
  },
  {
   "cell_type":"markdown",
   "source":[
    "## String Methods"
   ],
   "attachments":{
    
   },
   "metadata":{
    "datalore":{
     "node_id":"unU1GMw0pZAU5hDZRgT3Dt",
     "type":"MD",
     "hide_input_from_viewers":true,
     "hide_output_from_viewers":true
    }
   }
  },
  {
   "cell_type":"code",
   "source":[
    "# function designed for string (string methods)\n",
    "text = \"a duck walks into a bar\"\n",
    "print(type(text))\n",
    "text.upper()"
   ],
   "execution_count":36,
   "outputs":[
    {
     "name":"stdout",
     "text":[
      "<class 'str'>\n"
     ],
     "output_type":"stream"
    },
    {
     "data":{
      "text\/plain":[
       "'A DUCK WALKS INTO A BAR'"
      ]
     },
     "metadata":{
      
     },
     "output_type":"display_data"
    }
   ],
   "metadata":{
    "datalore":{
     "node_id":"VfIxfApzseAvhiPt05qPbA",
     "type":"CODE",
     "hide_input_from_viewers":true,
     "hide_output_from_viewers":true
    }
   }
  },
  {
   "cell_type":"code",
   "source":[
    "\"HELLO WORLD\".lower()"
   ],
   "execution_count":35,
   "outputs":[
    {
     "data":{
      "text\/plain":[
       "'hello world'"
      ]
     },
     "metadata":{
      
     },
     "output_type":"display_data"
    }
   ],
   "metadata":{
    "datalore":{
     "node_id":"NGXYfwdifIPtnyPRMkZ4VE",
     "type":"CODE",
     "hide_input_from_viewers":true,
     "hide_output_from_viewers":true
    }
   }
  },
  {
   "cell_type":"code",
   "source":[
    "text.count(\"d\")"
   ],
   "execution_count":30,
   "outputs":[
    {
     "data":{
      "text\/plain":[
       "1"
      ]
     },
     "metadata":{
      
     },
     "output_type":"display_data"
    }
   ],
   "metadata":{
    "datalore":{
     "node_id":"IjkKlR5XPGYgUlxeTR2I3U",
     "type":"CODE",
     "hide_input_from_viewers":true,
     "hide_output_from_viewers":true
    }
   }
  },
  {
   "cell_type":"code",
   "source":[
    "text2 = text.replace('duck', 'lion')\n",
    "print(text)\n",
    "print(text2)"
   ],
   "execution_count":29,
   "outputs":[
    {
     "name":"stdout",
     "text":[
      "a duck walks into a bar\n",
      "a lion walks into a bar\n"
     ],
     "output_type":"stream"
    }
   ],
   "metadata":{
    "datalore":{
     "node_id":"HEsr6ykTL5M7xPX3U92UsV",
     "type":"CODE",
     "hide_input_from_viewers":true,
     "hide_output_from_viewers":true
    }
   }
  },
  {
   "cell_type":"markdown",
   "source":[
    "## List"
   ],
   "attachments":{
    
   },
   "metadata":{
    "datalore":{
     "node_id":"OU3bqylO9bbW3onFD3sFIY",
     "type":"MD",
     "hide_input_from_viewers":true,
     "hide_output_from_viewers":true
    }
   }
  },
  {
   "cell_type":"code",
   "source":[
    "# list\n",
    "shopping_list = ['egg', 'milk', 'bread']\n",
    "print(shopping_list)"
   ],
   "execution_count":37,
   "outputs":[
    {
     "name":"stdout",
     "text":[
      "['egg', 'milk', 'bread']\n"
     ],
     "output_type":"stream"
    }
   ],
   "metadata":{
    "datalore":{
     "node_id":"Cx7wqlRorHEmecBzFohYzD",
     "type":"CODE",
     "hide_input_from_viewers":true,
     "hide_output_from_viewers":true
    }
   }
  },
  {
   "cell_type":"code",
   "source":[
    "print(shopping_list[0:2])"
   ],
   "execution_count":38,
   "outputs":[
    {
     "name":"stdout",
     "text":[
      "['egg', 'milk']\n"
     ],
     "output_type":"stream"
    }
   ],
   "metadata":{
    "datalore":{
     "node_id":"v3kxZWAmQE5kL4nuLu4hIT",
     "type":"CODE",
     "hide_input_from_viewers":true,
     "hide_output_from_viewers":true
    }
   }
  },
  {
   "cell_type":"code",
   "source":[
    "# list method = append\n",
    "shopping_list.append('orange juice')\n",
    "print(shopping_list)"
   ],
   "execution_count":39,
   "outputs":[
    {
     "name":"stdout",
     "text":[
      "['egg', 'milk', 'bread', 'orange juice']\n"
     ],
     "output_type":"stream"
    }
   ],
   "metadata":{
    "datalore":{
     "node_id":"tFuxLSny6XuGZXrajSg55m",
     "type":"CODE",
     "hide_input_from_viewers":true,
     "hide_output_from_viewers":true
    }
   }
  },
  {
   "cell_type":"code",
   "source":[
    "shopping_list.append('water bottle')\n",
    "print(shopping_list)"
   ],
   "execution_count":40,
   "outputs":[
    {
     "name":"stdout",
     "text":[
      "['egg', 'milk', 'bread', 'orange juice', 'water bottle']\n"
     ],
     "output_type":"stream"
    }
   ],
   "metadata":{
    "datalore":{
     "node_id":"pAIMlwzntmcHieBPEGuGax",
     "type":"CODE",
     "hide_input_from_viewers":true,
     "hide_output_from_viewers":true
    }
   }
  },
  {
   "cell_type":"code",
   "source":[
    "# list method .pop()\n",
    "shopping_list.pop()"
   ],
   "execution_count":41,
   "outputs":[
    {
     "data":{
      "text\/plain":[
       "'water bottle'"
      ]
     },
     "metadata":{
      
     },
     "output_type":"display_data"
    }
   ],
   "metadata":{
    "datalore":{
     "node_id":"HyllquJ0hj3bhwydKWmUwm",
     "type":"CODE",
     "hide_input_from_viewers":true,
     "hide_output_from_viewers":true
    }
   }
  },
  {
   "cell_type":"code",
   "source":[
    "shopping_list"
   ],
   "execution_count":42,
   "outputs":[
    {
     "data":{
      "text\/plain":[
       "['egg', 'milk', 'bread', 'orange juice']"
      ]
     },
     "metadata":{
      
     },
     "output_type":"display_data"
    }
   ],
   "metadata":{
    "datalore":{
     "node_id":"l4fJIWONOzKuLdkd3Yl6O6",
     "type":"CODE",
     "hide_input_from_viewers":true,
     "hide_output_from_viewers":true
    }
   }
  },
  {
   "cell_type":"code",
   "source":[
    "len(shopping_list)"
   ],
   "execution_count":43,
   "outputs":[
    {
     "data":{
      "text\/plain":[
       "4"
      ]
     },
     "metadata":{
      
     },
     "output_type":"display_data"
    }
   ],
   "metadata":{
    "datalore":{
     "node_id":"FBkN1Hs4cUzE6LE1EREgCX",
     "type":"CODE",
     "hide_input_from_viewers":true,
     "hide_output_from_viewers":true
    }
   }
  },
  {
   "cell_type":"markdown",
   "source":[
    "## Dictionary"
   ],
   "attachments":{
    
   },
   "metadata":{
    "datalore":{
     "node_id":"w3zFqN94XgD0e9G6YDR8Ny",
     "type":"MD",
     "hide_input_from_viewers":true,
     "hide_output_from_viewers":true
    }
   }
  },
  {
   "cell_type":"code",
   "source":[
    "# dictionary key-value pair\n",
    "student = {\n",
    "\"id\": 1,\n",
    "\"name\": \"Mon\",\n",
    "\"age\": 20,\n",
    "\"movies\": [\"Spider Man\", \"Thor\", \"Iron Man 3\"]\n",
    "}"
   ],
   "execution_count":30,
   "outputs":[
    
   ],
   "metadata":{
    "datalore":{
     "node_id":"uHN3JrUNYWuVpUXtJ4YyzI",
     "type":"CODE",
     "hide_input_from_viewers":true,
     "hide_output_from_viewers":true
    }
   }
  },
  {
   "cell_type":"code",
   "source":[
    "student['movies'][0]"
   ],
   "execution_count":31,
   "outputs":[
    {
     "data":{
      "text\/plain":[
       "'Spider Man'"
      ]
     },
     "metadata":{
      
     },
     "output_type":"display_data"
    }
   ],
   "metadata":{
    "datalore":{
     "node_id":"DqoGZeT02iZQIHxmn4viEB",
     "type":"CODE",
     "hide_input_from_viewers":true,
     "hide_output_from_viewers":true
    }
   }
  },
  {
   "cell_type":"code",
   "source":[
    "# Add new key and value\n",
    "student['city'] = 'London'\n",
    "student"
   ],
   "execution_count":42,
   "outputs":[
    {
     "data":{
      "text\/plain":[
       "{'id': 1,\n",
       " 'name': 'Mon',\n",
       " 'age': 20,\n",
       " 'movies': ['Spider Man', 'Thor', 'Iron Man 3'],\n",
       " 'city': 'London'}"
      ]
     },
     "metadata":{
      
     },
     "output_type":"display_data"
    }
   ],
   "metadata":{
    "datalore":{
     "node_id":"TEV0z02K8GzCTioo4DVrie",
     "type":"CODE",
     "hide_input_from_viewers":true,
     "hide_output_from_viewers":true
    }
   }
  },
  {
   "cell_type":"code",
   "source":[
    "# update value\n",
    "student['city'] = 'Manchester'\n",
    "student"
   ],
   "execution_count":33,
   "outputs":[
    {
     "data":{
      "text\/plain":[
       "{'id': 1,\n",
       " 'name': 'Mon',\n",
       " 'age': 20,\n",
       " 'movies': ['Spider Man', 'Thor', 'Iron Man 3'],\n",
       " 'city': 'Manchester'}"
      ]
     },
     "metadata":{
      
     },
     "output_type":"display_data"
    }
   ],
   "metadata":{
    "datalore":{
     "node_id":"Sln32lIIk3Ur0yg4mVqiBf",
     "type":"CODE",
     "hide_input_from_viewers":true,
     "hide_output_from_viewers":true
    }
   }
  },
  {
   "cell_type":"code",
   "source":[
    "# remove key-value\n",
    "del student['city']\n",
    "student"
   ],
   "execution_count":34,
   "outputs":[
    {
     "data":{
      "text\/plain":[
       "{'id': 1,\n",
       " 'name': 'Mon',\n",
       " 'age': 20,\n",
       " 'movies': ['Spider Man', 'Thor', 'Iron Man 3']}"
      ]
     },
     "metadata":{
      
     },
     "output_type":"display_data"
    }
   ],
   "metadata":{
    "datalore":{
     "node_id":"9lP8FCEmiq7a54TCP2dZZE",
     "type":"CODE",
     "hide_input_from_viewers":true,
     "hide_output_from_viewers":true
    }
   }
  },
  {
   "cell_type":"markdown",
   "source":[
    "## Function"
   ],
   "attachments":{
    
   },
   "metadata":{
    "datalore":{
     "node_id":"ay36DCOnxJW9OmSMz8dzXw",
     "type":"MD",
     "hide_input_from_viewers":true,
     "hide_output_from_viewers":true
    }
   }
  },
  {
   "cell_type":"code",
   "source":[
    "# user-defined function\n",
    "def hello(username):\n",
    "    print(\"Hello! \" + username)"
   ],
   "execution_count":11,
   "outputs":[
    
   ],
   "metadata":{
    "datalore":{
     "node_id":"AeL3KyHOSUZhzFbk87nWbM",
     "type":"CODE",
     "hide_input_from_viewers":true,
     "hide_output_from_viewers":true
    }
   }
  },
  {
   "cell_type":"code",
   "source":[
    "hello(\"Mon\")"
   ],
   "execution_count":13,
   "outputs":[
    {
     "name":"stdout",
     "text":[
      "Hello! Mon\n"
     ],
     "output_type":"stream"
    }
   ],
   "metadata":{
    "datalore":{
     "node_id":"D1ogBnEV4YJhdsRmRY3I5A",
     "type":"CODE",
     "hide_input_from_viewers":true,
     "hide_output_from_viewers":true
    }
   }
  },
  {
   "cell_type":"code",
   "source":[
    "def my_sum(val1, val2):\n",
    "    return val1 + val2\n",
    "result = my_sum(5, 15)"
   ],
   "execution_count":15,
   "outputs":[
    
   ],
   "metadata":{
    "datalore":{
     "node_id":"F66xXBHFdQWcIoF3bdWdv2",
     "type":"CODE",
     "hide_input_from_viewers":true,
     "hide_output_from_viewers":true
    }
   }
  },
  {
   "cell_type":"code",
   "source":[
    "print(result)"
   ],
   "execution_count":17,
   "outputs":[
    {
     "name":"stdout",
     "text":[
      "20\n"
     ],
     "output_type":"stream"
    }
   ],
   "metadata":{
    "datalore":{
     "node_id":"cCfPU7whwktMwJk3BpUSfs",
     "type":"CODE",
     "hide_input_from_viewers":true,
     "hide_output_from_viewers":true
    }
   }
  },
  {
   "cell_type":"markdown",
   "source":[
    "## OOP\n",
    "Object Oriented Programming"
   ],
   "attachments":{
    
   },
   "metadata":{
    "datalore":{
     "node_id":"XmX7l1BDoNcS7O5ygSfK8a",
     "type":"MD",
     "hide_input_from_viewers":true,
     "hide_output_from_viewers":true
    }
   }
  },
  {
   "cell_type":"code",
   "source":[
    "class Dog:\n",
    "    name = \"Mon\"\n",
    "    age = 5\n",
    "    color = \"Brown\"\n",
    "    breed = \"French Bulldog\"\n",
    "\n",
    "# function (Dog method)\n",
    "    def sitting(self):\n",
    "        print(\"I am sitting now!\")\n",
    "    def hungry(self, food_name):\n",
    "        print(f\"I am hungry, I need {food_name}!\")"
   ],
   "execution_count":39,
   "outputs":[
    
   ],
   "metadata":{
    "datalore":{
     "node_id":"5AzKnwC9rn22jt1Dylj2HC",
     "type":"CODE",
     "hide_input_from_viewers":true,
     "hide_output_from_viewers":true
    }
   }
  },
  {
   "cell_type":"code",
   "source":[
    "my_dog = Dog()\n",
    "type(my_dog)"
   ],
   "execution_count":40,
   "outputs":[
    {
     "data":{
      "text\/plain":[
       "__main__.Dog"
      ]
     },
     "metadata":{
      
     },
     "output_type":"display_data"
    }
   ],
   "metadata":{
    "datalore":{
     "node_id":"hwSDD0B6R1rjh7bAIN8rUT",
     "type":"CODE",
     "hide_input_from_viewers":true,
     "hide_output_from_viewers":true
    }
   }
  },
  {
   "cell_type":"code",
   "source":[
    "# Access attribure via dot notation\n",
    "my_dog.name"
   ],
   "execution_count":41,
   "outputs":[
    {
     "data":{
      "text\/plain":[
       "'Mon'"
      ]
     },
     "metadata":{
      
     },
     "output_type":"display_data"
    }
   ],
   "metadata":{
    "datalore":{
     "node_id":"l4qNUmzFSrpOcaLRFVMfnZ",
     "type":"CODE",
     "hide_input_from_viewers":true,
     "hide_output_from_viewers":true
    }
   }
  },
  {
   "cell_type":"code",
   "source":[
    "my_dog.age"
   ],
   "execution_count":43,
   "outputs":[
    {
     "data":{
      "text\/plain":[
       "5"
      ]
     },
     "metadata":{
      
     },
     "output_type":"display_data"
    }
   ],
   "metadata":{
    "datalore":{
     "node_id":"4BXcr6W3zgoPfM2ardiwBb",
     "type":"CODE",
     "hide_input_from_viewers":true,
     "hide_output_from_viewers":true
    }
   }
  },
  {
   "cell_type":"code",
   "source":[
    "my_dog.sitting()"
   ],
   "execution_count":37,
   "outputs":[
    {
     "name":"stdout",
     "text":[
      "I am sitting now!\n"
     ],
     "output_type":"stream"
    }
   ],
   "metadata":{
    "datalore":{
     "node_id":"kZ02Lym1O8e7B918kDbaX3",
     "type":"CODE",
     "hide_input_from_viewers":true,
     "hide_output_from_viewers":true
    }
   }
  },
  {
   "cell_type":"code",
   "source":[
    "my_dog.hungry(\"Hamburger\")"
   ],
   "execution_count":38,
   "outputs":[
    {
     "name":"stdout",
     "text":[
      "I am hungry, I need Hamburger!\n"
     ],
     "output_type":"stream"
    }
   ],
   "metadata":{
    "datalore":{
     "node_id":"14w1k91ChiLxFl3S5gKdXh",
     "type":"CODE",
     "hide_input_from_viewers":true,
     "hide_output_from_viewers":true
    }
   }
  }
 ],
 "metadata":{
  "kernelspec":{
   "display_name":"Python",
   "language":"python",
   "name":"python"
  },
  "datalore":{
   "computation_mode":"JUPYTER",
   "package_manager":"pip",
   "base_environment":"default",
   "packages":[
    
   ],
   "report_row_ids":[
    
   ],
   "version":3
  }
 },
 "nbformat":4,
 "nbformat_minor":4
}